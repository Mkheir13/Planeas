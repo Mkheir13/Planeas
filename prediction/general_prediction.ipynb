{
 "cells": [
  {
   "cell_type": "markdown",
   "id": "2c6aaa77",
   "metadata": {
    "papermill": {
     "duration": 0.013409,
     "end_time": "2025-02-04T23:52:56.483929",
     "exception": false,
     "start_time": "2025-02-04T23:52:56.470520",
     "status": "completed"
    },
    "tags": []
   },
   "source": [
    "### Table of Contents\n",
    "1. [Loading Data](#setup)\n",
    "2. [Exploratory Data Analysis (EDA)](#eda)\n",
    "   - 2.2 [Data Profiling and Summary Statistics](#basic-eda)\n",
    "   - 2.3 [Correlation Analysis of Transport-Related Variables](#correlation-analysis)\n",
    "3. [Data Preprocessing](#data-preprocessing)\n",
    "   - 3.1 [Visualizing Missing Data](#missingdata)\n",
    "   - 3.2 [Data Validation](#data-validation)\n",
    "   - 3.3 [Checking for Duplicates](#duplicates)\n",
    "   - 3.4 [Encoding Multi-Label Features using MultiLabelBinarizer](#onehotencoding-multi)\n",
    "   - 3.5 [ColumnTransformer](#columntransformer)\n",
    "4. [Model: Linear Regression](#linear-regression)\n",
    "   - 4.1 [Model Training and Evaluation](#model-training)\n",
    "   - 4.2 [Model Saving in pkl-format](#model-saving)\n",
    "   - 4.3 [Regression Equation](#regression-equation)\n",
    "   - 4.4 [Regression Coefficients](#regression-coefficients)\n",
    "   - 4.5 [Prediction](#prediction)"
   ]
  },
  {
   "cell_type": "markdown",
   "id": "a956fd07",
   "metadata": {
    "papermill": {
     "duration": 0.013093,
     "end_time": "2025-02-04T23:52:56.554751",
     "exception": false,
     "start_time": "2025-02-04T23:52:56.541658",
     "status": "completed"
    },
    "tags": []
   },
   "source": [
    "# 1️⃣ Setup and Data Loading 📥 <a id=\"setup\"></a>"
   ]
  },
  {
   "cell_type": "code",
   "execution_count": 2,
   "id": "0774408a",
   "metadata": {
    "_kg_hide-input": true,
    "execution": {
     "iopub.execute_input": "2025-02-04T23:52:56.584747Z",
     "iopub.status.busy": "2025-02-04T23:52:56.584394Z",
     "iopub.status.idle": "2025-02-04T23:52:59.549068Z",
     "shell.execute_reply": "2025-02-04T23:52:59.547922Z"
    },
    "papermill": {
     "duration": 2.983701,
     "end_time": "2025-02-04T23:52:59.551716",
     "exception": false,
     "start_time": "2025-02-04T23:52:56.568015",
     "status": "completed"
    },
    "tags": []
   },
   "outputs": [],
   "source": [
    "import matplotlib.pyplot as plt\n",
    "import pandas as pd\n",
    "import numpy as np\n",
    "import seaborn as sns\n",
    "from sklearn.model_selection import train_test_split \n",
    "from sklearn.linear_model import LinearRegression\n",
    "from sklearn.metrics import mean_absolute_error, mean_squared_error, r2_score \n",
    "from ast import literal_eval  \n",
    "from sklearn.preprocessing import OneHotEncoder\n",
    "from sklearn.compose import ColumnTransformer\n",
    "from sklearn.preprocessing import MinMaxScaler\n",
    "from sklearn.preprocessing import MultiLabelBinarizer\n",
    "import pickle\n",
    "from sklearn.pipeline import Pipeline\n",
    "from sklearn.preprocessing import FunctionTransformer\n",
    "from sklearn.compose import ColumnTransformer\n",
    "from sklearn.preprocessing import FunctionTransformer\n",
    "from sklearn.preprocessing import MultiLabelBinarizer\n",
    "\n",
    "import warnings\n",
    "warnings.filterwarnings('ignore', category=FutureWarning)\n"
   ]
  },
  {
   "cell_type": "code",
   "execution_count": 3,
   "id": "e8034379",
   "metadata": {
    "execution": {
     "iopub.execute_input": "2025-02-04T23:52:59.581007Z",
     "iopub.status.busy": "2025-02-04T23:52:59.579775Z",
     "iopub.status.idle": "2025-02-04T23:52:59.691424Z",
     "shell.execute_reply": "2025-02-04T23:52:59.690263Z"
    },
    "papermill": {
     "duration": 0.128475,
     "end_time": "2025-02-04T23:52:59.693653",
     "exception": false,
     "start_time": "2025-02-04T23:52:59.565178",
     "status": "completed"
    },
    "scrolled": true,
    "tags": []
   },
   "outputs": [
    {
     "data": {
      "text/html": [
       "<div>\n",
       "<style scoped>\n",
       "    .dataframe tbody tr th:only-of-type {\n",
       "        vertical-align: middle;\n",
       "    }\n",
       "\n",
       "    .dataframe tbody tr th {\n",
       "        vertical-align: top;\n",
       "    }\n",
       "\n",
       "    .dataframe thead th {\n",
       "        text-align: right;\n",
       "    }\n",
       "</style>\n",
       "<table border=\"1\" class=\"dataframe\">\n",
       "  <thead>\n",
       "    <tr style=\"text-align: right;\">\n",
       "      <th></th>\n",
       "      <th>Body_Type</th>\n",
       "      <th>Gender</th>\n",
       "      <th>Diet</th>\n",
       "      <th>How_Often_Shower</th>\n",
       "      <th>Heating_Energy_Source</th>\n",
       "      <th>Transport</th>\n",
       "      <th>Vehicle_Type</th>\n",
       "      <th>Social_Activity</th>\n",
       "      <th>Monthly_Grocery_Bill</th>\n",
       "      <th>Frequency_of_Traveling_by_Air</th>\n",
       "      <th>Vehicle_Monthly_Distance_Km</th>\n",
       "      <th>Waste_Bag_Size</th>\n",
       "      <th>Waste_Bag_Weekly_Count</th>\n",
       "      <th>How_Long_TV_PC_Daily_Hour</th>\n",
       "      <th>How_Many_New_Clothes_Monthly</th>\n",
       "      <th>How_Long_Internet_Daily_Hour</th>\n",
       "      <th>Energy_efficiency</th>\n",
       "      <th>Recycling</th>\n",
       "      <th>Cooking_With</th>\n",
       "      <th>CarbonEmission</th>\n",
       "    </tr>\n",
       "  </thead>\n",
       "  <tbody>\n",
       "    <tr>\n",
       "      <th>0</th>\n",
       "      <td>overweight</td>\n",
       "      <td>female</td>\n",
       "      <td>pescatarian</td>\n",
       "      <td>daily</td>\n",
       "      <td>coal</td>\n",
       "      <td>public</td>\n",
       "      <td>NaN</td>\n",
       "      <td>often</td>\n",
       "      <td>230</td>\n",
       "      <td>frequently</td>\n",
       "      <td>210</td>\n",
       "      <td>large</td>\n",
       "      <td>4</td>\n",
       "      <td>7</td>\n",
       "      <td>26</td>\n",
       "      <td>1</td>\n",
       "      <td>No</td>\n",
       "      <td>['Metal']</td>\n",
       "      <td>['Stove', 'Oven']</td>\n",
       "      <td>2238</td>\n",
       "    </tr>\n",
       "    <tr>\n",
       "      <th>1</th>\n",
       "      <td>obese</td>\n",
       "      <td>female</td>\n",
       "      <td>vegetarian</td>\n",
       "      <td>less frequently</td>\n",
       "      <td>natural gas</td>\n",
       "      <td>walk/bicycle</td>\n",
       "      <td>NaN</td>\n",
       "      <td>often</td>\n",
       "      <td>114</td>\n",
       "      <td>rarely</td>\n",
       "      <td>9</td>\n",
       "      <td>extra large</td>\n",
       "      <td>3</td>\n",
       "      <td>9</td>\n",
       "      <td>38</td>\n",
       "      <td>5</td>\n",
       "      <td>No</td>\n",
       "      <td>['Metal']</td>\n",
       "      <td>['Stove', 'Microwave']</td>\n",
       "      <td>1892</td>\n",
       "    </tr>\n",
       "    <tr>\n",
       "      <th>2</th>\n",
       "      <td>overweight</td>\n",
       "      <td>male</td>\n",
       "      <td>omnivore</td>\n",
       "      <td>more frequently</td>\n",
       "      <td>wood</td>\n",
       "      <td>private</td>\n",
       "      <td>petrol</td>\n",
       "      <td>never</td>\n",
       "      <td>138</td>\n",
       "      <td>never</td>\n",
       "      <td>2472</td>\n",
       "      <td>small</td>\n",
       "      <td>1</td>\n",
       "      <td>14</td>\n",
       "      <td>47</td>\n",
       "      <td>6</td>\n",
       "      <td>Sometimes</td>\n",
       "      <td>['Metal']</td>\n",
       "      <td>['Oven', 'Microwave']</td>\n",
       "      <td>2595</td>\n",
       "    </tr>\n",
       "    <tr>\n",
       "      <th>3</th>\n",
       "      <td>overweight</td>\n",
       "      <td>male</td>\n",
       "      <td>omnivore</td>\n",
       "      <td>twice a day</td>\n",
       "      <td>wood</td>\n",
       "      <td>walk/bicycle</td>\n",
       "      <td>NaN</td>\n",
       "      <td>sometimes</td>\n",
       "      <td>157</td>\n",
       "      <td>rarely</td>\n",
       "      <td>74</td>\n",
       "      <td>medium</td>\n",
       "      <td>3</td>\n",
       "      <td>20</td>\n",
       "      <td>5</td>\n",
       "      <td>7</td>\n",
       "      <td>Sometimes</td>\n",
       "      <td>['Paper', 'Plastic', 'Glass', 'Metal']</td>\n",
       "      <td>['Microwave', 'Grill', 'Airfryer']</td>\n",
       "      <td>1074</td>\n",
       "    </tr>\n",
       "    <tr>\n",
       "      <th>4</th>\n",
       "      <td>obese</td>\n",
       "      <td>female</td>\n",
       "      <td>vegetarian</td>\n",
       "      <td>daily</td>\n",
       "      <td>coal</td>\n",
       "      <td>private</td>\n",
       "      <td>diesel</td>\n",
       "      <td>often</td>\n",
       "      <td>266</td>\n",
       "      <td>very frequently</td>\n",
       "      <td>8457</td>\n",
       "      <td>large</td>\n",
       "      <td>1</td>\n",
       "      <td>3</td>\n",
       "      <td>5</td>\n",
       "      <td>6</td>\n",
       "      <td>Yes</td>\n",
       "      <td>['Paper']</td>\n",
       "      <td>['Oven']</td>\n",
       "      <td>4743</td>\n",
       "    </tr>\n",
       "  </tbody>\n",
       "</table>\n",
       "</div>"
      ],
      "text/plain": [
       "    Body_Type  Gender         Diet How_Often_Shower Heating_Energy_Source  \\\n",
       "0  overweight  female  pescatarian            daily                  coal   \n",
       "1       obese  female   vegetarian  less frequently           natural gas   \n",
       "2  overweight    male     omnivore  more frequently                  wood   \n",
       "3  overweight    male     omnivore      twice a day                  wood   \n",
       "4       obese  female   vegetarian            daily                  coal   \n",
       "\n",
       "      Transport Vehicle_Type Social_Activity  Monthly_Grocery_Bill  \\\n",
       "0        public          NaN           often                   230   \n",
       "1  walk/bicycle          NaN           often                   114   \n",
       "2       private       petrol           never                   138   \n",
       "3  walk/bicycle          NaN       sometimes                   157   \n",
       "4       private       diesel           often                   266   \n",
       "\n",
       "  Frequency_of_Traveling_by_Air  Vehicle_Monthly_Distance_Km Waste_Bag_Size  \\\n",
       "0                    frequently                          210          large   \n",
       "1                        rarely                            9    extra large   \n",
       "2                         never                         2472          small   \n",
       "3                        rarely                           74         medium   \n",
       "4               very frequently                         8457          large   \n",
       "\n",
       "   Waste_Bag_Weekly_Count  How_Long_TV_PC_Daily_Hour  \\\n",
       "0                       4                          7   \n",
       "1                       3                          9   \n",
       "2                       1                         14   \n",
       "3                       3                         20   \n",
       "4                       1                          3   \n",
       "\n",
       "   How_Many_New_Clothes_Monthly  How_Long_Internet_Daily_Hour  \\\n",
       "0                            26                             1   \n",
       "1                            38                             5   \n",
       "2                            47                             6   \n",
       "3                             5                             7   \n",
       "4                             5                             6   \n",
       "\n",
       "  Energy_efficiency                               Recycling  \\\n",
       "0                No                               ['Metal']   \n",
       "1                No                               ['Metal']   \n",
       "2         Sometimes                               ['Metal']   \n",
       "3         Sometimes  ['Paper', 'Plastic', 'Glass', 'Metal']   \n",
       "4               Yes                               ['Paper']   \n",
       "\n",
       "                         Cooking_With  CarbonEmission  \n",
       "0                   ['Stove', 'Oven']            2238  \n",
       "1              ['Stove', 'Microwave']            1892  \n",
       "2               ['Oven', 'Microwave']            2595  \n",
       "3  ['Microwave', 'Grill', 'Airfryer']            1074  \n",
       "4                            ['Oven']            4743  "
      ]
     },
     "execution_count": 3,
     "metadata": {},
     "output_type": "execute_result"
    }
   ],
   "source": [
    "df = pd.read_csv('/kaggle/input/individual-carbon-footprint-calculation/Carbon Emission.csv')\n",
    "\n",
    "# change display settings to show all columns\n",
    "pd.set_option('display.max_columns', None)\n",
    "\n",
    "#rename\n",
    "# rename columns: replace spaces with underscores\n",
    "df.columns = df.columns.str.replace(' ', '_')\n",
    "\n",
    "# convert Gender to Boolean-datatyp\n",
    "df.rename(columns= {'Sex':'Gender'}, inplace = True)\n",
    "\n",
    "df.head()"
   ]
  },
  {
   "cell_type": "markdown",
   "id": "27f498f1",
   "metadata": {
    "papermill": {
     "duration": 0.013542,
     "end_time": "2025-02-04T23:52:59.721641",
     "exception": false,
     "start_time": "2025-02-04T23:52:59.708099",
     "status": "completed"
    },
    "tags": []
   },
   "source": [
    "| Variable Name                      | Description                                                  | Values                                                | continuous | discrete | ordinal | nominal |\n",
    "|------------------------------------|--------------------------------------------------------------|-------------------------------------------------------|:----------:|:--------:|:-------:|:-------:|\n",
    "| Body_Type                          | Classification of body type                                  | underweight, normal, overweight, obese                        |    |          |    x    |         |\n",
    "| Gender                             | Biological sex of the individual                             | female, male                                                  |    |          |         |    x    |\n",
    "| Diet                               | Type of dietary preferences                                  | vegan, vegetarian, pescatarian, omnivore                      |    |          |    x    |         |\n",
    "| How_Often_Shower                   | Frequency of showering                                       | less frequently, daily, twice a day, more frequently          |    |          |    x    |         |\n",
    "| Heating_Energy_Source              | Source of energy used for home heating                       | coal, electricity, natural gas, wood                          |    |          |         |    x    |\n",
    "| Transport                          | Preferred mode of transportation                             | walk/bicycle, public (transport), private (=car)              |    |          |         |    x    |\n",
    "| Vehicle_Type                       | Types of fuel used for vehicles                              | diesel, petrol, hybrid, lpg, electric, NaN                    |    |          |         |    x    |\n",
    "| Social_Activity                    | Frequency of participating in social activities              | never, sometimes, often                                       |    |          |    x    |         |\n",
    "| Monthly_Grocery_Bill               | Amount spent on groceries each month                         | (range: 50-299)                                               |  x |          |         |         |\n",
    "| Frequency_of_Traveling_by_Air      | Frequency of using aircraft in the last month                | never, rarely, frequently, very frequently                    |    |          |    x    |         |\n",
    "| Vehicle_Monthly_Distance_Km        | Distance traveled by vehicle in the last month               | between 0 and 9999                                            |  x |         |         |         |\n",
    "| Waste_Bag_Size                     | Classification of garbage bag sizes                          | small, medium, large, extra large                             |    |          |    x    |         |\n",
    "| Waste_Bag_Weekly_Count             | Number of waste bags disposed of weekly                      | (range: 1-7)                                                  |    |    x     |         |         |\n",
    "| How_Long_TV_PC_Daily_Hour          | Daily time spent using TV or computer                        | (range: 0-24 hours)                                           |    |    x     |         |         |\n",
    "| How_Many_New_Clothes_Monthly       | Number of new clothing items purchased each month            | (range: 0-50)                                                 |    |    x     |         |         |\n",
    "| How_Long_Internet_Daily_Hour       | Daily time spent on the Internet                             | (range: 0-24 hours)                                           |    |    x     |         |         |\n",
    "| Energy_efficiency                  | Concern for purchasing energy-efficient devices              | Yes, Sometimes, No                                            |    |          |    x    |         |\n",
    "| Recycling                          | Types of materials recycled                                  | Metal, Glass, Plastic, Paper                                  |    |          |         |    x    |\n",
    "| Cooking_With                       | Appliances used for cooking                                  | Microwave, Stove, Oven, ~Airfryer~, Grill                     |    |          |         |    x    |\n",
    "| CarbonEmission                     | Total carbon emissions produced                              | between 306 and 8377                                          |  x |         |         |         |"
   ]
  },
  {
   "cell_type": "markdown",
   "id": "f57516b7",
   "metadata": {
    "papermill": {
     "duration": 0.013949,
     "end_time": "2025-02-04T23:52:59.749198",
     "exception": false,
     "start_time": "2025-02-04T23:52:59.735249",
     "status": "completed"
    },
    "tags": []
   },
   "source": [
    "# 2️⃣ Exploratory Data Analysis (EDA) 🔍 <a id=\"eda\"></a>"
   ]
  },
  {
   "cell_type": "markdown",
   "id": "190f9718",
   "metadata": {
    "papermill": {
     "duration": 0.013246,
     "end_time": "2025-02-04T23:52:59.775973",
     "exception": false,
     "start_time": "2025-02-04T23:52:59.762727",
     "status": "completed"
    },
    "tags": []
   },
   "source": [
    "<a id=\"basic-eda\"></a> \n",
    "## 2.2 Data Profiling and Summary Statistics 🔬 🔍"
   ]
  },
  {
   "cell_type": "code",
   "execution_count": 4,
   "id": "8e6b6c5b",
   "metadata": {
    "_kg_hide-input": true,
    "execution": {
     "iopub.execute_input": "2025-02-04T23:52:59.805573Z",
     "iopub.status.busy": "2025-02-04T23:52:59.805175Z",
     "iopub.status.idle": "2025-02-04T23:52:59.879860Z",
     "shell.execute_reply": "2025-02-04T23:52:59.878591Z"
    },
    "papermill": {
     "duration": 0.09281,
     "end_time": "2025-02-04T23:52:59.882575",
     "exception": false,
     "start_time": "2025-02-04T23:52:59.789765",
     "status": "completed"
    },
    "tags": []
   },
   "outputs": [
    {
     "name": "stdout",
     "output_type": "stream",
     "text": [
      "Full dataset shape is (10000, 20)\n"
     ]
    }
   ],
   "source": [
    "print(\"Full dataset shape is\", df.shape)\n",
    "##############################################\n",
    "\n",
    "# Berechnet den maximalen Wert einer Spalte, wenn sie numerisch ist\n",
    "def max_value(column):     \n",
    "    if pd.api.types.is_numeric_dtype(column):  # Überprüfe, ob der Datentyp numerisch ist\n",
    "        return column.dropna().max() if not column.dropna().empty else np.nan\n",
    "    return \"\"\n",
    "\n",
    "# Gibt die einzigartigen Werte einer Spalte zurück, oder eine Range (falls es eine gibt)\n",
    "def get_unique_values(column):     \n",
    "    if pd.api.types.is_integer_dtype(column):  # Überprüfe, ob der Datentyp eine Ganzzahl ist\n",
    "        unique_vals = sorted(set(column.dropna()))\n",
    "        min_val, max_val = column.min(), column.max()\n",
    "        if unique_vals == list(range(min_val, max_val + 1)):\n",
    "            return f\"range({min_val},{max_val + 1})\"\n",
    "        return unique_vals\n",
    "#        return f\"between {min_val} and {max_val}\"\n",
    "    return sorted(set(column.dropna()))\n",
    "\n",
    "\n",
    "def summary(df=df):\n",
    "    summary_df = pd.DataFrame({\n",
    "        'data type': df.dtypes.astype(str),\n",
    "        'missing data': df.isna().sum(),\n",
    "        'unique values': [get_unique_values(df[col]) for col in df.columns],\n",
    "        'unique values max': [max_value(df[col]) for col in df.columns],\n",
    "        'Cardinality': df.nunique()\n",
    "    })\n",
    "    return summary_df\n",
    "\n",
    "\n",
    "# Sortiere nach 'data type' und dann nach 'number of unique values'\n",
    "summary_df = summary(df).sort_values(by=['data type', 'Cardinality'])\n"
   ]
  },
  {
   "cell_type": "code",
   "execution_count": 5,
   "id": "447d32a4",
   "metadata": {
    "_kg_hide-input": true,
    "execution": {
     "iopub.execute_input": "2025-02-04T23:52:59.913406Z",
     "iopub.status.busy": "2025-02-04T23:52:59.912411Z",
     "iopub.status.idle": "2025-02-04T23:52:59.943917Z",
     "shell.execute_reply": "2025-02-04T23:52:59.942765Z"
    },
    "papermill": {
     "duration": 0.049063,
     "end_time": "2025-02-04T23:52:59.946166",
     "exception": false,
     "start_time": "2025-02-04T23:52:59.897103",
     "status": "completed"
    },
    "tags": []
   },
   "outputs": [
    {
     "data": {
      "text/html": [
       "<div>\n",
       "<style scoped>\n",
       "    .dataframe tbody tr th:only-of-type {\n",
       "        vertical-align: middle;\n",
       "    }\n",
       "\n",
       "    .dataframe tbody tr th {\n",
       "        vertical-align: top;\n",
       "    }\n",
       "\n",
       "    .dataframe thead th {\n",
       "        text-align: right;\n",
       "    }\n",
       "</style>\n",
       "<table border=\"1\" class=\"dataframe\">\n",
       "  <thead>\n",
       "    <tr style=\"text-align: right;\">\n",
       "      <th></th>\n",
       "      <th>data type</th>\n",
       "      <th>missing data</th>\n",
       "      <th>unique values</th>\n",
       "      <th>unique values max</th>\n",
       "      <th>Cardinality</th>\n",
       "    </tr>\n",
       "  </thead>\n",
       "  <tbody>\n",
       "    <tr>\n",
       "      <th>Waste_Bag_Weekly_Count</th>\n",
       "      <td>int64</td>\n",
       "      <td>0</td>\n",
       "      <td>range(1,8)</td>\n",
       "      <td>7</td>\n",
       "      <td>7</td>\n",
       "    </tr>\n",
       "    <tr>\n",
       "      <th>How_Long_TV_PC_Daily_Hour</th>\n",
       "      <td>int64</td>\n",
       "      <td>0</td>\n",
       "      <td>range(0,25)</td>\n",
       "      <td>24</td>\n",
       "      <td>25</td>\n",
       "    </tr>\n",
       "    <tr>\n",
       "      <th>How_Long_Internet_Daily_Hour</th>\n",
       "      <td>int64</td>\n",
       "      <td>0</td>\n",
       "      <td>range(0,25)</td>\n",
       "      <td>24</td>\n",
       "      <td>25</td>\n",
       "    </tr>\n",
       "    <tr>\n",
       "      <th>How_Many_New_Clothes_Monthly</th>\n",
       "      <td>int64</td>\n",
       "      <td>0</td>\n",
       "      <td>range(0,51)</td>\n",
       "      <td>50</td>\n",
       "      <td>51</td>\n",
       "    </tr>\n",
       "    <tr>\n",
       "      <th>Monthly_Grocery_Bill</th>\n",
       "      <td>int64</td>\n",
       "      <td>0</td>\n",
       "      <td>range(50,300)</td>\n",
       "      <td>299</td>\n",
       "      <td>250</td>\n",
       "    </tr>\n",
       "    <tr>\n",
       "      <th>CarbonEmission</th>\n",
       "      <td>int64</td>\n",
       "      <td>0</td>\n",
       "      <td>[306, 369, 392, 412, 436, 440, 443, 453, 460, 47...</td>\n",
       "      <td>8377</td>\n",
       "      <td>3509</td>\n",
       "    </tr>\n",
       "    <tr>\n",
       "      <th>Vehicle_Monthly_Distance_Km</th>\n",
       "      <td>int64</td>\n",
       "      <td>0</td>\n",
       "      <td>[0, 1, 2, 3, 4, 5, 6, 7, 8, 9, 10, 11, 12, 13, 1...</td>\n",
       "      <td>9999</td>\n",
       "      <td>4003</td>\n",
       "    </tr>\n",
       "    <tr>\n",
       "      <th>Gender</th>\n",
       "      <td>object</td>\n",
       "      <td>0</td>\n",
       "      <td>[female, male]</td>\n",
       "      <td></td>\n",
       "      <td>2</td>\n",
       "    </tr>\n",
       "    <tr>\n",
       "      <th>Transport</th>\n",
       "      <td>object</td>\n",
       "      <td>0</td>\n",
       "      <td>[private, public, walk/bicycle]</td>\n",
       "      <td></td>\n",
       "      <td>3</td>\n",
       "    </tr>\n",
       "    <tr>\n",
       "      <th>Social_Activity</th>\n",
       "      <td>object</td>\n",
       "      <td>0</td>\n",
       "      <td>[never, often, sometimes]</td>\n",
       "      <td></td>\n",
       "      <td>3</td>\n",
       "    </tr>\n",
       "    <tr>\n",
       "      <th>Energy_efficiency</th>\n",
       "      <td>object</td>\n",
       "      <td>0</td>\n",
       "      <td>[No, Sometimes, Yes]</td>\n",
       "      <td></td>\n",
       "      <td>3</td>\n",
       "    </tr>\n",
       "    <tr>\n",
       "      <th>Body_Type</th>\n",
       "      <td>object</td>\n",
       "      <td>0</td>\n",
       "      <td>[normal, obese, overweight, underweight]</td>\n",
       "      <td></td>\n",
       "      <td>4</td>\n",
       "    </tr>\n",
       "    <tr>\n",
       "      <th>Diet</th>\n",
       "      <td>object</td>\n",
       "      <td>0</td>\n",
       "      <td>[omnivore, pescatarian, vegan, vegetarian]</td>\n",
       "      <td></td>\n",
       "      <td>4</td>\n",
       "    </tr>\n",
       "    <tr>\n",
       "      <th>How_Often_Shower</th>\n",
       "      <td>object</td>\n",
       "      <td>0</td>\n",
       "      <td>[daily, less frequently, more frequently, twice ...</td>\n",
       "      <td></td>\n",
       "      <td>4</td>\n",
       "    </tr>\n",
       "    <tr>\n",
       "      <th>Heating_Energy_Source</th>\n",
       "      <td>object</td>\n",
       "      <td>0</td>\n",
       "      <td>[coal, electricity, natural gas, wood]</td>\n",
       "      <td></td>\n",
       "      <td>4</td>\n",
       "    </tr>\n",
       "    <tr>\n",
       "      <th>Frequency_of_Traveling_by_Air</th>\n",
       "      <td>object</td>\n",
       "      <td>0</td>\n",
       "      <td>[frequently, never, rarely, very frequently]</td>\n",
       "      <td></td>\n",
       "      <td>4</td>\n",
       "    </tr>\n",
       "    <tr>\n",
       "      <th>Waste_Bag_Size</th>\n",
       "      <td>object</td>\n",
       "      <td>0</td>\n",
       "      <td>[extra large, large, medium, small]</td>\n",
       "      <td></td>\n",
       "      <td>4</td>\n",
       "    </tr>\n",
       "    <tr>\n",
       "      <th>Vehicle_Type</th>\n",
       "      <td>object</td>\n",
       "      <td>6721</td>\n",
       "      <td>diesel, electric, hybrid, lpg, petrol</td>\n",
       "      <td></td>\n",
       "      <td>5</td>\n",
       "    </tr>\n",
       "    <tr>\n",
       "      <th>Recycling</th>\n",
       "      <td>object</td>\n",
       "      <td>0</td>\n",
       "      <td>{'Paper', 'Glass', 'Plastic', 'Metal'}</td>\n",
       "      <td></td>\n",
       "      <td>4</td>\n",
       "    </tr>\n",
       "    <tr>\n",
       "      <th>Cooking_With</th>\n",
       "      <td>object</td>\n",
       "      <td>0</td>\n",
       "      <td>{'Stove', 'Airfryer', 'Oven', 'Microwave', 'Grill'}</td>\n",
       "      <td></td>\n",
       "      <td>5</td>\n",
       "    </tr>\n",
       "  </tbody>\n",
       "</table>\n",
       "</div>"
      ],
      "text/plain": [
       "                              data type  missing data  \\\n",
       "Waste_Bag_Weekly_Count            int64             0   \n",
       "How_Long_TV_PC_Daily_Hour         int64             0   \n",
       "How_Long_Internet_Daily_Hour      int64             0   \n",
       "How_Many_New_Clothes_Monthly      int64             0   \n",
       "Monthly_Grocery_Bill              int64             0   \n",
       "CarbonEmission                    int64             0   \n",
       "Vehicle_Monthly_Distance_Km       int64             0   \n",
       "Gender                           object             0   \n",
       "Transport                        object             0   \n",
       "Social_Activity                  object             0   \n",
       "Energy_efficiency                object             0   \n",
       "Body_Type                        object             0   \n",
       "Diet                             object             0   \n",
       "How_Often_Shower                 object             0   \n",
       "Heating_Energy_Source            object             0   \n",
       "Frequency_of_Traveling_by_Air    object             0   \n",
       "Waste_Bag_Size                   object             0   \n",
       "Vehicle_Type                     object          6721   \n",
       "Recycling                        object             0   \n",
       "Cooking_With                     object             0   \n",
       "\n",
       "                                                                     unique values  \\\n",
       "Waste_Bag_Weekly_Count                                                  range(1,8)   \n",
       "How_Long_TV_PC_Daily_Hour                                              range(0,25)   \n",
       "How_Long_Internet_Daily_Hour                                           range(0,25)   \n",
       "How_Many_New_Clothes_Monthly                                           range(0,51)   \n",
       "Monthly_Grocery_Bill                                                 range(50,300)   \n",
       "CarbonEmission                 [306, 369, 392, 412, 436, 440, 443, 453, 460, 47...   \n",
       "Vehicle_Monthly_Distance_Km    [0, 1, 2, 3, 4, 5, 6, 7, 8, 9, 10, 11, 12, 13, 1...   \n",
       "Gender                                                              [female, male]   \n",
       "Transport                                          [private, public, walk/bicycle]   \n",
       "Social_Activity                                          [never, often, sometimes]   \n",
       "Energy_efficiency                                             [No, Sometimes, Yes]   \n",
       "Body_Type                                 [normal, obese, overweight, underweight]   \n",
       "Diet                                    [omnivore, pescatarian, vegan, vegetarian]   \n",
       "How_Often_Shower               [daily, less frequently, more frequently, twice ...   \n",
       "Heating_Energy_Source                       [coal, electricity, natural gas, wood]   \n",
       "Frequency_of_Traveling_by_Air         [frequently, never, rarely, very frequently]   \n",
       "Waste_Bag_Size                                 [extra large, large, medium, small]   \n",
       "Vehicle_Type                                 diesel, electric, hybrid, lpg, petrol   \n",
       "Recycling                                   {'Paper', 'Glass', 'Plastic', 'Metal'}   \n",
       "Cooking_With                   {'Stove', 'Airfryer', 'Oven', 'Microwave', 'Grill'}   \n",
       "\n",
       "                              unique values max  Cardinality  \n",
       "Waste_Bag_Weekly_Count                        7            7  \n",
       "How_Long_TV_PC_Daily_Hour                    24           25  \n",
       "How_Long_Internet_Daily_Hour                 24           25  \n",
       "How_Many_New_Clothes_Monthly                 50           51  \n",
       "Monthly_Grocery_Bill                        299          250  \n",
       "CarbonEmission                             8377         3509  \n",
       "Vehicle_Monthly_Distance_Km                9999         4003  \n",
       "Gender                                                     2  \n",
       "Transport                                                  3  \n",
       "Social_Activity                                            3  \n",
       "Energy_efficiency                                          3  \n",
       "Body_Type                                                  4  \n",
       "Diet                                                       4  \n",
       "How_Often_Shower                                           4  \n",
       "Heating_Energy_Source                                      4  \n",
       "Frequency_of_Traveling_by_Air                              4  \n",
       "Waste_Bag_Size                                             4  \n",
       "Vehicle_Type                                               5  \n",
       "Recycling                                                  4  \n",
       "Cooking_With                                               5  "
      ]
     },
     "execution_count": 5,
     "metadata": {},
     "output_type": "execute_result"
    }
   ],
   "source": [
    "# change display settings \n",
    "max_length_col = len(str(\"'Stove', 'Oven', 'Microwave', 'Grill', 'Airfryer'\"))+2\n",
    "pd.set_option('max_colwidth', max_length_col + 1) #Set the Column Width #You can increase the width by passing an int. Or put at the max passing None:\n",
    "#pd.set_option('max_colwidth', None) #Set the Column Width #You can increase the width by passing an int. Or put at the max passing None:\n",
    "#pd.reset_option('max_colwidth') #Rückgängig machen\n",
    "\n",
    "summary_df.loc['Vehicle_Type', 'unique values'] = ', '.join(['diesel', 'electric', 'hybrid', 'lpg', 'petrol']) #ist string statt Liste\n",
    "#summary_df.loc['Vehicle_Type', 'unique values'] = ['diesel', 'electric', 'hybrid', 'lpg', 'petrol'] #macht Fehlermeldung\n",
    "\n",
    "#change values for \"Recycling\" & \"Cooking_With\"\n",
    "\n",
    "for headline in [\"Recycling\" ,\"Cooking_With\"]:\n",
    "    unique_values= set([item for sublist in df[headline].unique() for item in eval(sublist)]) #eval - Convert string representation of list to an actual list\n",
    "    \n",
    "    summary_df.loc[headline,'unique values'] = str(unique_values)\n",
    "    summary_df.loc[headline,'Cardinality'] = len(unique_values)\n",
    "\n",
    "\n",
    "# Setze die maximale Breite einer Spalte auf None, um keine Begrenzung zu haben\n",
    "#pd.set_option('display.max_colwidth', None)    \n",
    "\n",
    "summary_df "
   ]
  },
  {
   "cell_type": "markdown",
   "id": "511455af",
   "metadata": {
    "papermill": {
     "duration": 0.020888,
     "end_time": "2025-02-04T23:52:59.992951",
     "exception": false,
     "start_time": "2025-02-04T23:52:59.972063",
     "status": "completed"
    },
    "tags": []
   },
   "source": [
    "**Observation:**\n",
    "> The cardinality of the categorical features ranges from 3 to 5, which is considered low cardinality."
   ]
  },
  {
   "cell_type": "code",
   "execution_count": 6,
   "id": "fbfab8cf",
   "metadata": {
    "execution": {
     "iopub.execute_input": "2025-02-04T23:53:00.026554Z",
     "iopub.status.busy": "2025-02-04T23:53:00.025637Z",
     "iopub.status.idle": "2025-02-04T23:53:00.064939Z",
     "shell.execute_reply": "2025-02-04T23:53:00.063375Z"
    },
    "papermill": {
     "duration": 0.058149,
     "end_time": "2025-02-04T23:53:00.067505",
     "exception": false,
     "start_time": "2025-02-04T23:53:00.009356",
     "status": "completed"
    },
    "tags": []
   },
   "outputs": [
    {
     "data": {
      "text/html": [
       "<div>\n",
       "<style scoped>\n",
       "    .dataframe tbody tr th:only-of-type {\n",
       "        vertical-align: middle;\n",
       "    }\n",
       "\n",
       "    .dataframe tbody tr th {\n",
       "        vertical-align: top;\n",
       "    }\n",
       "\n",
       "    .dataframe thead th {\n",
       "        text-align: right;\n",
       "    }\n",
       "</style>\n",
       "<table border=\"1\" class=\"dataframe\">\n",
       "  <thead>\n",
       "    <tr style=\"text-align: right;\">\n",
       "      <th></th>\n",
       "      <th>count</th>\n",
       "      <th>mean</th>\n",
       "      <th>std</th>\n",
       "      <th>min</th>\n",
       "      <th>25%</th>\n",
       "      <th>50%</th>\n",
       "      <th>75%</th>\n",
       "      <th>max</th>\n",
       "    </tr>\n",
       "  </thead>\n",
       "  <tbody>\n",
       "    <tr>\n",
       "      <th>Monthly_Grocery_Bill</th>\n",
       "      <td>10000.0</td>\n",
       "      <td>173.8752</td>\n",
       "      <td>72.234018</td>\n",
       "      <td>50.0</td>\n",
       "      <td>111.0</td>\n",
       "      <td>173.0</td>\n",
       "      <td>237.00</td>\n",
       "      <td>299.0</td>\n",
       "    </tr>\n",
       "    <tr>\n",
       "      <th>Vehicle_Monthly_Distance_Km</th>\n",
       "      <td>10000.0</td>\n",
       "      <td>2031.4859</td>\n",
       "      <td>2769.715597</td>\n",
       "      <td>0.0</td>\n",
       "      <td>69.0</td>\n",
       "      <td>823.0</td>\n",
       "      <td>2516.75</td>\n",
       "      <td>9999.0</td>\n",
       "    </tr>\n",
       "    <tr>\n",
       "      <th>Waste_Bag_Weekly_Count</th>\n",
       "      <td>10000.0</td>\n",
       "      <td>4.0246</td>\n",
       "      <td>1.990375</td>\n",
       "      <td>1.0</td>\n",
       "      <td>2.0</td>\n",
       "      <td>4.0</td>\n",
       "      <td>6.00</td>\n",
       "      <td>7.0</td>\n",
       "    </tr>\n",
       "    <tr>\n",
       "      <th>How_Long_TV_PC_Daily_Hour</th>\n",
       "      <td>10000.0</td>\n",
       "      <td>12.1392</td>\n",
       "      <td>7.106369</td>\n",
       "      <td>0.0</td>\n",
       "      <td>6.0</td>\n",
       "      <td>12.0</td>\n",
       "      <td>18.00</td>\n",
       "      <td>24.0</td>\n",
       "    </tr>\n",
       "    <tr>\n",
       "      <th>How_Many_New_Clothes_Monthly</th>\n",
       "      <td>10000.0</td>\n",
       "      <td>25.1090</td>\n",
       "      <td>14.698725</td>\n",
       "      <td>0.0</td>\n",
       "      <td>13.0</td>\n",
       "      <td>25.0</td>\n",
       "      <td>38.00</td>\n",
       "      <td>50.0</td>\n",
       "    </tr>\n",
       "    <tr>\n",
       "      <th>How_Long_Internet_Daily_Hour</th>\n",
       "      <td>10000.0</td>\n",
       "      <td>11.8891</td>\n",
       "      <td>7.277218</td>\n",
       "      <td>0.0</td>\n",
       "      <td>6.0</td>\n",
       "      <td>12.0</td>\n",
       "      <td>18.00</td>\n",
       "      <td>24.0</td>\n",
       "    </tr>\n",
       "    <tr>\n",
       "      <th>CarbonEmission</th>\n",
       "      <td>10000.0</td>\n",
       "      <td>2269.1473</td>\n",
       "      <td>1017.675247</td>\n",
       "      <td>306.0</td>\n",
       "      <td>1538.0</td>\n",
       "      <td>2080.0</td>\n",
       "      <td>2768.00</td>\n",
       "      <td>8377.0</td>\n",
       "    </tr>\n",
       "  </tbody>\n",
       "</table>\n",
       "</div>"
      ],
      "text/plain": [
       "                                count       mean          std    min     25%  \\\n",
       "Monthly_Grocery_Bill          10000.0   173.8752    72.234018   50.0   111.0   \n",
       "Vehicle_Monthly_Distance_Km   10000.0  2031.4859  2769.715597    0.0    69.0   \n",
       "Waste_Bag_Weekly_Count        10000.0     4.0246     1.990375    1.0     2.0   \n",
       "How_Long_TV_PC_Daily_Hour     10000.0    12.1392     7.106369    0.0     6.0   \n",
       "How_Many_New_Clothes_Monthly  10000.0    25.1090    14.698725    0.0    13.0   \n",
       "How_Long_Internet_Daily_Hour  10000.0    11.8891     7.277218    0.0     6.0   \n",
       "CarbonEmission                10000.0  2269.1473  1017.675247  306.0  1538.0   \n",
       "\n",
       "                                 50%      75%     max  \n",
       "Monthly_Grocery_Bill           173.0   237.00   299.0  \n",
       "Vehicle_Monthly_Distance_Km    823.0  2516.75  9999.0  \n",
       "Waste_Bag_Weekly_Count           4.0     6.00     7.0  \n",
       "How_Long_TV_PC_Daily_Hour       12.0    18.00    24.0  \n",
       "How_Many_New_Clothes_Monthly    25.0    38.00    50.0  \n",
       "How_Long_Internet_Daily_Hour    12.0    18.00    24.0  \n",
       "CarbonEmission                2080.0  2768.00  8377.0  "
      ]
     },
     "execution_count": 6,
     "metadata": {},
     "output_type": "execute_result"
    }
   ],
   "source": [
    "df.describe().T"
   ]
  },
  {
   "cell_type": "markdown",
   "id": "f862ea29",
   "metadata": {
    "papermill": {
     "duration": 0.014866,
     "end_time": "2025-02-04T23:53:00.097439",
     "exception": false,
     "start_time": "2025-02-04T23:53:00.082573",
     "status": "completed"
    },
    "tags": []
   },
   "source": [
    "<a id=\"correlation-analysis\"></a>\n",
    "## 2.3. Correlation Analysis of Transport-Related Variables 🔗"
   ]
  },
  {
   "cell_type": "code",
   "execution_count": 7,
   "id": "7a7a1d52",
   "metadata": {
    "_kg_hide-input": true,
    "_kg_hide-output": true,
    "execution": {
     "iopub.execute_input": "2025-02-04T23:53:00.144148Z",
     "iopub.status.busy": "2025-02-04T23:53:00.143590Z",
     "iopub.status.idle": "2025-02-04T23:53:00.209584Z",
     "shell.execute_reply": "2025-02-04T23:53:00.208296Z"
    },
    "papermill": {
     "duration": 0.089064,
     "end_time": "2025-02-04T23:53:00.212757",
     "exception": false,
     "start_time": "2025-02-04T23:53:00.123693",
     "status": "completed"
    },
    "tags": []
   },
   "outputs": [
    {
     "data": {
      "text/html": [
       "<div>\n",
       "<style scoped>\n",
       "    .dataframe tbody tr th:only-of-type {\n",
       "        vertical-align: middle;\n",
       "    }\n",
       "\n",
       "    .dataframe tbody tr th {\n",
       "        vertical-align: top;\n",
       "    }\n",
       "\n",
       "    .dataframe thead th {\n",
       "        text-align: right;\n",
       "    }\n",
       "</style>\n",
       "<table border=\"1\" class=\"dataframe\">\n",
       "  <thead>\n",
       "    <tr style=\"text-align: right;\">\n",
       "      <th></th>\n",
       "      <th>CarbonEmission</th>\n",
       "      <th>Vehicle_Monthly_Distance_Km</th>\n",
       "      <th>Transport</th>\n",
       "      <th>Vehicle_Type</th>\n",
       "      <th>public transport</th>\n",
       "      <th>walk/bicycle</th>\n",
       "      <th>car</th>\n",
       "      <th>car (type: petrol)</th>\n",
       "      <th>car (type: diesel)</th>\n",
       "      <th>car (type: hybrid)</th>\n",
       "      <th>car (type: lpg)</th>\n",
       "      <th>car (type: electric)</th>\n",
       "    </tr>\n",
       "  </thead>\n",
       "  <tbody>\n",
       "    <tr>\n",
       "      <th>0</th>\n",
       "      <td>2238</td>\n",
       "      <td>210</td>\n",
       "      <td>public transport</td>\n",
       "      <td>NaN</td>\n",
       "      <td>1</td>\n",
       "      <td>0</td>\n",
       "      <td>0</td>\n",
       "      <td>0</td>\n",
       "      <td>0</td>\n",
       "      <td>0</td>\n",
       "      <td>0</td>\n",
       "      <td>0</td>\n",
       "    </tr>\n",
       "    <tr>\n",
       "      <th>1</th>\n",
       "      <td>1892</td>\n",
       "      <td>9</td>\n",
       "      <td>walk/bicycle</td>\n",
       "      <td>NaN</td>\n",
       "      <td>0</td>\n",
       "      <td>1</td>\n",
       "      <td>0</td>\n",
       "      <td>0</td>\n",
       "      <td>0</td>\n",
       "      <td>0</td>\n",
       "      <td>0</td>\n",
       "      <td>0</td>\n",
       "    </tr>\n",
       "    <tr>\n",
       "      <th>2</th>\n",
       "      <td>2595</td>\n",
       "      <td>2472</td>\n",
       "      <td>car</td>\n",
       "      <td>car (type: petrol)</td>\n",
       "      <td>0</td>\n",
       "      <td>0</td>\n",
       "      <td>1</td>\n",
       "      <td>1</td>\n",
       "      <td>0</td>\n",
       "      <td>0</td>\n",
       "      <td>0</td>\n",
       "      <td>0</td>\n",
       "    </tr>\n",
       "    <tr>\n",
       "      <th>3</th>\n",
       "      <td>1074</td>\n",
       "      <td>74</td>\n",
       "      <td>walk/bicycle</td>\n",
       "      <td>NaN</td>\n",
       "      <td>0</td>\n",
       "      <td>1</td>\n",
       "      <td>0</td>\n",
       "      <td>0</td>\n",
       "      <td>0</td>\n",
       "      <td>0</td>\n",
       "      <td>0</td>\n",
       "      <td>0</td>\n",
       "    </tr>\n",
       "    <tr>\n",
       "      <th>4</th>\n",
       "      <td>4743</td>\n",
       "      <td>8457</td>\n",
       "      <td>car</td>\n",
       "      <td>car (type: diesel)</td>\n",
       "      <td>0</td>\n",
       "      <td>0</td>\n",
       "      <td>1</td>\n",
       "      <td>0</td>\n",
       "      <td>1</td>\n",
       "      <td>0</td>\n",
       "      <td>0</td>\n",
       "      <td>0</td>\n",
       "    </tr>\n",
       "  </tbody>\n",
       "</table>\n",
       "</div>"
      ],
      "text/plain": [
       "   CarbonEmission  Vehicle_Monthly_Distance_Km         Transport  \\\n",
       "0            2238                          210  public transport   \n",
       "1            1892                            9      walk/bicycle   \n",
       "2            2595                         2472               car   \n",
       "3            1074                           74      walk/bicycle   \n",
       "4            4743                         8457               car   \n",
       "\n",
       "         Vehicle_Type  public transport  walk/bicycle  car  \\\n",
       "0                 NaN                 1             0    0   \n",
       "1                 NaN                 0             1    0   \n",
       "2  car (type: petrol)                 0             0    1   \n",
       "3                 NaN                 0             1    0   \n",
       "4  car (type: diesel)                 0             0    1   \n",
       "\n",
       "   car (type: petrol)  car (type: diesel)  car (type: hybrid)  \\\n",
       "0                   0                   0                   0   \n",
       "1                   0                   0                   0   \n",
       "2                   1                   0                   0   \n",
       "3                   0                   0                   0   \n",
       "4                   0                   1                   0   \n",
       "\n",
       "   car (type: lpg)  car (type: electric)  \n",
       "0                0                     0  \n",
       "1                0                     0  \n",
       "2                0                     0  \n",
       "3                0                     0  \n",
       "4                0                     0  "
      ]
     },
     "execution_count": 7,
     "metadata": {},
     "output_type": "execute_result"
    }
   ],
   "source": [
    "df_corr=df[['CarbonEmission','Vehicle_Monthly_Distance_Km','Transport','Vehicle_Type']].copy()\n",
    "\n",
    "# Rename 'public' to 'public transport' and the car-typs - to make the information easier to understand\n",
    "df_corr['Vehicle_Type'] = df_corr['Vehicle_Type'].replace({'petrol': 'car (type: petrol)','diesel': 'car (type: diesel)','hybrid': 'car (type: hybrid)','lpg': 'car (type: lpg)','electric': 'car (type: electric)'})\n",
    "df_corr['Transport'] = df_corr['Transport'].replace({'public': 'public transport', 'private': 'car'})\n",
    "\n",
    "\n",
    "##create dummy-variables for correlation metric: \n",
    "for item in df_corr['Transport'].unique():\n",
    "    df_corr[str(item)] = df_corr['Transport'].apply(lambda x: 1 if item == x else 0)\n",
    "    \n",
    "unique_vehicle_types = df_corr['Vehicle_Type'].dropna().unique().tolist()\n",
    "for item in unique_vehicle_types:\n",
    "    df_corr[str(item)] = df_corr['Vehicle_Type'].apply(lambda x: 1 if item == x else 0)\n",
    "\n",
    "df_corr.head()"
   ]
  },
  {
   "cell_type": "code",
   "execution_count": 8,
   "id": "51898288",
   "metadata": {
    "_kg_hide-input": true,
    "execution": {
     "iopub.execute_input": "2025-02-04T23:53:00.251194Z",
     "iopub.status.busy": "2025-02-04T23:53:00.250706Z",
     "iopub.status.idle": "2025-02-04T23:53:00.930951Z",
     "shell.execute_reply": "2025-02-04T23:53:00.929731Z"
    },
    "papermill": {
     "duration": 0.700454,
     "end_time": "2025-02-04T23:53:00.933712",
     "exception": false,
     "start_time": "2025-02-04T23:53:00.233258",
     "status": "completed"
    },
    "tags": []
   },
   "outputs": [
    {
     "data": {
      "image/png": "[encoded data removed]",
      "text/plain": [
       "<Figure size 1600x700 with 2 Axes>"
      ]
     },
     "metadata": {},
     "output_type": "display_data"
    }
   ],
   "source": [
    "# Distribution of transport modes\n",
    "transport_counts = df_corr['Transport'].value_counts()\n",
    "labels = [label for label in transport_counts.index]\n",
    "sizes = transport_counts.values\n",
    "\n",
    "# Create categories for Vehicle_Monthly_Distance_Km with 10 bins\n",
    "bins = [0, 1000, 2000, 3000, 4000, 5000, 6000, 7000, 8000, 9000, 10000]\n",
    "distance_labels = [\"0-1,000km\", \"1,000-2,000km\", \"2,000-3,000km\", \"3,000-4,000km\", \"4,000-5,000km\", \n",
    "                   \"5,000-6,000km\", \"6,000-7,000km\", \"7,000-8,000km\", \"8,000-9,000km\", \"9,000-10,000km\"]\n",
    "df_corr['Distance_Category'] = pd.cut(df_corr['Vehicle_Monthly_Distance_Km'], bins=bins, labels=distance_labels)\n",
    "\n",
    "# Calculate the distribution of transport modes within each Distance_Category\n",
    "counts = df_corr.groupby(['Distance_Category', 'Transport'], observed=True).size().unstack(fill_value=0)\n",
    "\n",
    "# Create the combined plot\n",
    "fig, axes = plt.subplots(nrows=2, ncols=1, figsize=(16, 7))\n",
    "\n",
    "\n",
    "# Pie chart\n",
    "axes[0].pie(sizes, labels=labels, autopct='%1.1f%%', startangle=120)\n",
    "axes[0].axis('equal')  # Equal aspect ratio ensures that pie is drawn as a circle.\n",
    "axes[0].set_title(\"Distribution of Transport Modes\")\n",
    "\n",
    "# Bar plot\n",
    "counts.plot(kind='bar', ax=axes[1], width=0.8)\n",
    "axes[1].set_title('Number of People by Transport Mode and Monthly Distance Traveled')\n",
    "axes[1].set_xlabel('Monthly Distance Traveled (km)')\n",
    "axes[1].set_ylabel('Number of People')\n",
    "axes[1].legend(title='Transport Mode')\n",
    "plt.xticks(rotation=0)\n",
    "\n",
    "\n",
    "# Show the combined plot\n",
    "plt.tight_layout()\n",
    "plt.show()\n"
   ]
  },
  {
   "cell_type": "code",
   "execution_count": 9,
   "id": "a9b50d0b",
   "metadata": {
    "_kg_hide-input": true,
    "execution": {
     "iopub.execute_input": "2025-02-04T23:53:00.969322Z",
     "iopub.status.busy": "2025-02-04T23:53:00.968823Z",
     "iopub.status.idle": "2025-02-04T23:53:01.427339Z",
     "shell.execute_reply": "2025-02-04T23:53:01.426013Z"
    },
    "papermill": {
     "duration": 0.479777,
     "end_time": "2025-02-04T23:53:01.429897",
     "exception": false,
     "start_time": "2025-02-04T23:53:00.950120",
     "status": "completed"
    },
    "tags": []
   },
   "outputs": [
    {
     "data": {
      "image/png": "[encoded data removed]",
      "text/plain": [
       "<Figure size 1500x450 with 1 Axes>"
      ]
     },
     "metadata": {},
     "output_type": "display_data"
    }
   ],
   "source": [
    "plt.figure(figsize=(15, 4.5))  \n",
    "sns.set(style=\"whitegrid\")  # Set background style to \"whitegrid\"\n",
    "\n",
    "ax = sns.boxplot(y='Transport', x='Vehicle_Monthly_Distance_Km', data=df_corr, palette=\"Set2\", order=['walk/bicycle','public transport','car'])\n",
    "\n",
    "# title and axis labels\n",
    "plt.title('Monthly Distance Traveled by Transport Mode', fontsize=16, weight='bold')\n",
    "plt.xlabel('Monthly Distance Traveled (km)', fontsize=14)\n",
    "plt.ylabel('Transport Mode', fontsize=14)\n",
    "\n",
    "\n",
    "# Remove grid lines\n",
    "ax.grid(False)\n",
    "\n",
    "# Rotate X-axis labels for better readability\n",
    "plt.xticks(rotation=0, ha='right')\n",
    "\n",
    "# Adjust layout to prevent overlap\n",
    "plt.tight_layout()\n",
    "\n",
    "# save the figure in png-format\n",
    "#plt.savefig('boxplot_transport.png')\n",
    "\n",
    "plt.show()"
   ]
  },
  {
   "cell_type": "code",
   "execution_count": null,
   "id": "cdb3c28a",
   "metadata": {
    "papermill": {
     "duration": 0.016805,
     "end_time": "2025-02-04T23:53:01.464193",
     "exception": false,
     "start_time": "2025-02-04T23:53:01.447388",
     "status": "completed"
    },
    "tags": []
   },
   "outputs": [],
   "source": []
  },
  {
   "cell_type": "code",
   "execution_count": 10,
   "id": "d5408bb1",
   "metadata": {
    "execution": {
     "iopub.execute_input": "2025-02-04T23:53:01.500720Z",
     "iopub.status.busy": "2025-02-04T23:53:01.500246Z",
     "iopub.status.idle": "2025-02-04T23:53:01.978016Z",
     "shell.execute_reply": "2025-02-04T23:53:01.976317Z"
    },
    "papermill": {
     "duration": 0.498987,
     "end_time": "2025-02-04T23:53:01.980481",
     "exception": false,
     "start_time": "2025-02-04T23:53:01.481494",
     "status": "completed"
    },
    "tags": []
   },
   "outputs": [
    {
     "data": {
      "image/png": "[encoded data removed]",
      "text/plain": [
       "<Figure size 640x480 with 1 Axes>"
      ]
     },
     "metadata": {},
     "output_type": "display_data"
    }
   ],
   "source": [
    "#df_corr['Transport_Vehicle_Type'] = df_corr['Vehicle_Type'].fillna(df_corr['Transport']) \n",
    "\n",
    "sns.kdeplot(data=df_corr, x=\"Vehicle_Monthly_Distance_Km\", hue=\"Vehicle_Type\")#,common_norm=False) \n",
    "plt.show()"
   ]
  },
  {
   "cell_type": "code",
   "execution_count": 11,
   "id": "fd9277f5",
   "metadata": {
    "execution": {
     "iopub.execute_input": "2025-02-04T23:53:02.019460Z",
     "iopub.status.busy": "2025-02-04T23:53:02.019078Z",
     "iopub.status.idle": "2025-02-04T23:53:02.549934Z",
     "shell.execute_reply": "2025-02-04T23:53:02.548604Z"
    },
    "papermill": {
     "duration": 0.554559,
     "end_time": "2025-02-04T23:53:02.553342",
     "exception": false,
     "start_time": "2025-02-04T23:53:01.998783",
     "status": "completed"
    },
    "tags": []
   },
   "outputs": [
    {
     "data": {
      "image/png": "[encoded data removed]",
      "text/plain": [
       "<Figure size 1100x500 with 2 Axes>"
      ]
     },
     "metadata": {},
     "output_type": "display_data"
    }
   ],
   "source": [
    "correlations = df_corr[['CarbonEmission', 'Vehicle_Monthly_Distance_Km', 'public transport', 'walk/bicycle', 'car','car (type: petrol)', 'car (type: diesel)', 'car (type: hybrid)','car (type: lpg)', 'car (type: electric)']].corr()\n",
    "\n",
    "# delete upper diagonal matrix\n",
    "mask = np.triu(np.ones_like(correlations, dtype=bool))\n",
    "\n",
    "plt.figure(figsize=(11, 5))  #size of figure\n",
    "sns.heatmap(correlations,fmt = '.2f', cmap=\"coolwarm\", annot=True, mask=mask,vmax=1,vmin=-1)\n",
    "plt.show()"
   ]
  },
  {
   "cell_type": "markdown",
   "id": "a61e9f69",
   "metadata": {
    "papermill": {
     "duration": 0.021212,
     "end_time": "2025-02-04T23:53:02.595672",
     "exception": false,
     "start_time": "2025-02-04T23:53:02.574460",
     "status": "completed"
    },
    "tags": []
   },
   "source": [
    "there is a high correlation of:\n",
    "* -0.52 between 'Vehicle_Monthly_Distance_Km' and 'Transport: walk/bicycle'. It makes sense that walking persons don't travel many km each month and that a person who has only a short distance to travel might walk\n",
    "* 0.78 between 'Vehicle_Monthly_Distance_Km' and 'Transport: car'.\n",
    "\n",
    "Due to the correlation between the variables 'Vehicle_Monthly_Distance_Km' and 'Transport' a linear Regression (where we want to use both variables) might not be best model  - but we will do it anyway"
   ]
  },
  {
   "cell_type": "markdown",
   "id": "17fce6ca",
   "metadata": {
    "papermill": {
     "duration": 0.08476,
     "end_time": "2025-02-04T23:53:02.701589",
     "exception": false,
     "start_time": "2025-02-04T23:53:02.616829",
     "status": "completed"
    },
    "tags": []
   },
   "source": [
    "<a id=\"correlation-analysis\"></a>\n",
    "## 2.3. Correlation Analysis of CarbonEmission 🔗\n",
    "\n",
    "Correlation of quantitative variables + Boolean Gender + ordinal variables \n",
    "\n",
    "not included are the 5 nominal variables: Transport, Vehicle_Type, Heating_Energy_Source, Recycling, Cooking\n"
   ]
  },
  {
   "cell_type": "markdown",
   "id": "a84da76c",
   "metadata": {
    "papermill": {
     "duration": 0.020868,
     "end_time": "2025-02-04T23:53:02.743498",
     "exception": false,
     "start_time": "2025-02-04T23:53:02.722630",
     "status": "completed"
    },
    "tags": []
   },
   "source": [
    "#### ordering values of ordinal variables 🗂️"
   ]
  },
  {
   "cell_type": "code",
   "execution_count": 12,
   "id": "4a62f8f1",
   "metadata": {
    "execution": {
     "iopub.execute_input": "2025-02-04T23:53:02.788075Z",
     "iopub.status.busy": "2025-02-04T23:53:02.787688Z",
     "iopub.status.idle": "2025-02-04T23:53:02.811546Z",
     "shell.execute_reply": "2025-02-04T23:53:02.810038Z"
    },
    "papermill": {
     "duration": 0.049273,
     "end_time": "2025-02-04T23:53:02.814078",
     "exception": false,
     "start_time": "2025-02-04T23:53:02.764805",
     "status": "completed"
    },
    "tags": []
   },
   "outputs": [
    {
     "data": {
      "text/plain": [
       "['large', 'extra large', 'small', 'medium']\n",
       "Categories (4, object): ['small' < 'medium' < 'large' < 'extra large']"
      ]
     },
     "execution_count": 12,
     "metadata": {},
     "output_type": "execute_result"
    }
   ],
   "source": [
    "ordinal_variable_order = {\n",
    "    'Body_Type': ['underweight', 'normal', 'overweight', 'obese'],\n",
    "    'Diet': ['vegan','vegetarian','pescatarian','omnivore'],\n",
    "    'How_Often_Shower': ['less frequently','daily', 'twice a day','more frequently'],\n",
    "    'Social_Activity': ['never', 'sometimes','often'],\n",
    "    'Frequency_of_Traveling_by_Air': ['never', 'rarely', 'frequently', 'very frequently'],\n",
    "    'Waste_Bag_Size': ['small','medium', 'large', 'extra large'],\n",
    "    'Energy_efficiency': ['Yes', 'Sometimes', 'No']\n",
    "}\n",
    "\n",
    "# set the ordering\n",
    "for column, value_ordering in ordinal_variable_order.items():\n",
    "    df[column] = pd.Categorical(df[column], categories=value_ordering, ordered=True) \n",
    "\n",
    "#example\n",
    "df['Waste_Bag_Size'].unique()"
   ]
  },
  {
   "cell_type": "code",
   "execution_count": 13,
   "id": "85271bdd",
   "metadata": {
    "execution": {
     "iopub.execute_input": "2025-02-04T23:53:02.859642Z",
     "iopub.status.busy": "2025-02-04T23:53:02.859273Z",
     "iopub.status.idle": "2025-02-04T23:53:03.678738Z",
     "shell.execute_reply": "2025-02-04T23:53:03.677435Z"
    },
    "papermill": {
     "duration": 0.846122,
     "end_time": "2025-02-04T23:53:03.681903",
     "exception": false,
     "start_time": "2025-02-04T23:53:02.835781",
     "status": "completed"
    },
    "tags": []
   },
   "outputs": [
    {
     "data": {
      "image/png": "[encoded data removed]",
      "text/plain": [
       "<Figure size 2100x700 with 2 Axes>"
      ]
     },
     "metadata": {},
     "output_type": "display_data"
    }
   ],
   "source": [
    "# Correlation of quantitative variables + Boolean-nominal-variable Gender + ordinal variables \n",
    "# not included are the 5 nominal variables: Transport, Vehicle_Type, Heating_Energy_Source, Recycling, Cooking\n",
    "\n",
    "corr_columns =  ['Gender'] + df.select_dtypes(include=[np.number, 'category']).columns.tolist()  \n",
    "df_corr_ordinal = df[corr_columns].copy()\n",
    "\n",
    "# convert Gender to Boolean-datatyp\n",
    "df_corr_ordinal['Gender'] = df['Gender'].map({'male': True, 'female': False})\n",
    "\n",
    "\n",
    "# encoding for ordinal variables based on defined order\n",
    "for column, column_ordering in ordinal_variable_order.items():\n",
    "   mapping = {category: idx for idx, category in enumerate(column_ordering)}\n",
    "   df_corr_ordinal[column] = df[column].map(mapping)\n",
    "\n",
    "# delete upper diagonal matrix\n",
    "mask = np.triu(np.ones_like(df_corr_ordinal.corr(), dtype=bool))\n",
    "\n",
    "plt.figure(figsize=(21, 7))  #size of figure\n",
    "sns.heatmap(df_corr_ordinal.corr(),fmt = '.2f', cmap=\"seismic\", annot=True, mask=mask,vmax=1,vmin=-1) # cmap=\"coolwarm\"  cmap=\"seismic\"\n",
    "plt.show()"
   ]
  },
  {
   "cell_type": "code",
   "execution_count": 14,
   "id": "29d4f90a",
   "metadata": {
    "execution": {
     "iopub.execute_input": "2025-02-04T23:53:03.739992Z",
     "iopub.status.busy": "2025-02-04T23:53:03.739575Z",
     "iopub.status.idle": "2025-02-04T23:53:03.761813Z",
     "shell.execute_reply": "2025-02-04T23:53:03.760546Z"
    },
    "papermill": {
     "duration": 0.053376,
     "end_time": "2025-02-04T23:53:03.764638",
     "exception": false,
     "start_time": "2025-02-04T23:53:03.711262",
     "status": "completed"
    },
    "tags": []
   },
   "outputs": [
    {
     "data": {
      "text/html": [
       "<div>\n",
       "<style scoped>\n",
       "    .dataframe tbody tr th:only-of-type {\n",
       "        vertical-align: middle;\n",
       "    }\n",
       "\n",
       "    .dataframe tbody tr th {\n",
       "        vertical-align: top;\n",
       "    }\n",
       "\n",
       "    .dataframe thead th {\n",
       "        text-align: right;\n",
       "    }\n",
       "</style>\n",
       "<table border=\"1\" class=\"dataframe\">\n",
       "  <thead>\n",
       "    <tr style=\"text-align: right;\">\n",
       "      <th></th>\n",
       "      <th>CarbonEmission</th>\n",
       "    </tr>\n",
       "  </thead>\n",
       "  <tbody>\n",
       "    <tr>\n",
       "      <th>Vehicle_Monthly_Distance_Km</th>\n",
       "      <td>0.594</td>\n",
       "    </tr>\n",
       "    <tr>\n",
       "      <th>Frequency_of_Traveling_by_Air</th>\n",
       "      <td>0.478</td>\n",
       "    </tr>\n",
       "    <tr>\n",
       "      <th>Body_Type</th>\n",
       "      <td>0.203</td>\n",
       "    </tr>\n",
       "    <tr>\n",
       "      <th>How_Many_New_Clothes_Monthly</th>\n",
       "      <td>0.199</td>\n",
       "    </tr>\n",
       "    <tr>\n",
       "      <th>Gender</th>\n",
       "      <td>0.164</td>\n",
       "    </tr>\n",
       "    <tr>\n",
       "      <th>Waste_Bag_Weekly_Count</th>\n",
       "      <td>0.159</td>\n",
       "    </tr>\n",
       "    <tr>\n",
       "      <th>Waste_Bag_Size</th>\n",
       "      <td>0.142</td>\n",
       "    </tr>\n",
       "    <tr>\n",
       "      <th>Monthly_Grocery_Bill</th>\n",
       "      <td>0.082</td>\n",
       "    </tr>\n",
       "    <tr>\n",
       "      <th>Diet</th>\n",
       "      <td>0.062</td>\n",
       "    </tr>\n",
       "    <tr>\n",
       "      <th>Social_Activity</th>\n",
       "      <td>0.055</td>\n",
       "    </tr>\n",
       "    <tr>\n",
       "      <th>How_Long_Internet_Daily_Hour</th>\n",
       "      <td>0.044</td>\n",
       "    </tr>\n",
       "    <tr>\n",
       "      <th>How_Often_Shower</th>\n",
       "      <td>0.021</td>\n",
       "    </tr>\n",
       "    <tr>\n",
       "      <th>Energy_efficiency</th>\n",
       "      <td>0.014</td>\n",
       "    </tr>\n",
       "    <tr>\n",
       "      <th>How_Long_TV_PC_Daily_Hour</th>\n",
       "      <td>0.013</td>\n",
       "    </tr>\n",
       "  </tbody>\n",
       "</table>\n",
       "</div>"
      ],
      "text/plain": [
       "                               CarbonEmission\n",
       "Vehicle_Monthly_Distance_Km             0.594\n",
       "Frequency_of_Traveling_by_Air           0.478\n",
       "Body_Type                               0.203\n",
       "How_Many_New_Clothes_Monthly            0.199\n",
       "Gender                                  0.164\n",
       "Waste_Bag_Weekly_Count                  0.159\n",
       "Waste_Bag_Size                          0.142\n",
       "Monthly_Grocery_Bill                    0.082\n",
       "Diet                                    0.062\n",
       "Social_Activity                         0.055\n",
       "How_Long_Internet_Daily_Hour            0.044\n",
       "How_Often_Shower                        0.021\n",
       "Energy_efficiency                       0.014\n",
       "How_Long_TV_PC_Daily_Hour               0.013"
      ]
     },
     "execution_count": 14,
     "metadata": {},
     "output_type": "execute_result"
    }
   ],
   "source": [
    "#welche Spalten korrelieren mit der Target-Variables\n",
    "pd.DataFrame(df_corr_ordinal.corr()[\"CarbonEmission\"].round(3).abs().sort_values(ascending=False)[1:])"
   ]
  },
  {
   "cell_type": "markdown",
   "id": "ff42206d",
   "metadata": {
    "papermill": {
     "duration": 0.029582,
     "end_time": "2025-02-04T23:53:03.824527",
     "exception": false,
     "start_time": "2025-02-04T23:53:03.794945",
     "status": "completed"
    },
    "tags": []
   },
   "source": [
    "<a id=\"data-preprocessing\"></a>\n",
    "# 3️⃣ Data Preprocessing 🛠️"
   ]
  },
  {
   "cell_type": "markdown",
   "id": "94e8dcf0",
   "metadata": {
    "papermill": {
     "duration": 0.028796,
     "end_time": "2025-02-04T23:53:03.881628",
     "exception": false,
     "start_time": "2025-02-04T23:53:03.852832",
     "status": "completed"
    },
    "tags": []
   },
   "source": [
    "<a id=\"duplicates\"></a>\n",
    "## 3.1 Checking for Duplicates 👀 🔄"
   ]
  },
  {
   "cell_type": "code",
   "execution_count": 15,
   "id": "83e68292",
   "metadata": {
    "execution": {
     "iopub.execute_input": "2025-02-04T23:53:03.942630Z",
     "iopub.status.busy": "2025-02-04T23:53:03.942234Z",
     "iopub.status.idle": "2025-02-04T23:53:03.958712Z",
     "shell.execute_reply": "2025-02-04T23:53:03.957014Z"
    },
    "papermill": {
     "duration": 0.050771,
     "end_time": "2025-02-04T23:53:03.961340",
     "exception": false,
     "start_time": "2025-02-04T23:53:03.910569",
     "status": "completed"
    },
    "tags": []
   },
   "outputs": [
    {
     "name": "stdout",
     "output_type": "stream",
     "text": [
      "Number of Duplicates: 0\n"
     ]
    }
   ],
   "source": [
    "print(\"Number of Duplicates:\", df.duplicated().sum())"
   ]
  },
  {
   "cell_type": "markdown",
   "id": "8d36043f",
   "metadata": {
    "papermill": {
     "duration": 0.030146,
     "end_time": "2025-02-04T23:53:04.020599",
     "exception": false,
     "start_time": "2025-02-04T23:53:03.990453",
     "status": "completed"
    },
    "tags": []
   },
   "source": [
    "<a id=\"data-validation\"></a>\n",
    "## 3.2 Data Validation 🚫\n",
    "\n",
    "During analysis, I noticed that the use of a grill and an airfryer are perfectly correlated (r=1), [likely due to how the data was simulated](https://www.kaggle.com/datasets/dumanmesut/individual-carbon-footprint-calculation/discussion/520906). Since the airfryer adds no new information, I've excluded it to reduce redundancy."
   ]
  },
  {
   "cell_type": "code",
   "execution_count": 16,
   "id": "252fcd27",
   "metadata": {
    "execution": {
     "iopub.execute_input": "2025-02-04T23:53:04.081269Z",
     "iopub.status.busy": "2025-02-04T23:53:04.080872Z",
     "iopub.status.idle": "2025-02-04T23:53:04.109769Z",
     "shell.execute_reply": "2025-02-04T23:53:04.108414Z"
    },
    "papermill": {
     "duration": 0.061903,
     "end_time": "2025-02-04T23:53:04.113136",
     "exception": false,
     "start_time": "2025-02-04T23:53:04.051233",
     "status": "completed"
    },
    "tags": []
   },
   "outputs": [
    {
     "name": "stdout",
     "output_type": "stream",
     "text": [
      "4992 people have both an air fryer and a grill, 5008 people have neither. No one has only one of the two devices.\n"
     ]
    },
    {
     "data": {
      "text/html": [
       "<div>\n",
       "<style scoped>\n",
       "    .dataframe tbody tr th:only-of-type {\n",
       "        vertical-align: middle;\n",
       "    }\n",
       "\n",
       "    .dataframe tbody tr th {\n",
       "        vertical-align: top;\n",
       "    }\n",
       "\n",
       "    .dataframe thead th {\n",
       "        text-align: right;\n",
       "    }\n",
       "</style>\n",
       "<table border=\"1\" class=\"dataframe\">\n",
       "  <thead>\n",
       "    <tr style=\"text-align: right;\">\n",
       "      <th></th>\n",
       "      <th></th>\n",
       "      <th>0</th>\n",
       "    </tr>\n",
       "    <tr>\n",
       "      <th>Cooking_With_Airfryer</th>\n",
       "      <th>Cooking_With_Grill</th>\n",
       "      <th></th>\n",
       "    </tr>\n",
       "  </thead>\n",
       "  <tbody>\n",
       "    <tr>\n",
       "      <th>0</th>\n",
       "      <th>0</th>\n",
       "      <td>5008</td>\n",
       "    </tr>\n",
       "    <tr>\n",
       "      <th>1</th>\n",
       "      <th>1</th>\n",
       "      <td>4992</td>\n",
       "    </tr>\n",
       "  </tbody>\n",
       "</table>\n",
       "</div>"
      ],
      "text/plain": [
       "                                             0\n",
       "Cooking_With_Airfryer Cooking_With_Grill      \n",
       "0                     0                   5008\n",
       "1                     1                   4992"
      ]
     },
     "execution_count": 16,
     "metadata": {},
     "output_type": "execute_result"
    }
   ],
   "source": [
    "#create dummy-variables for \"Cooking With\":\n",
    "df2 = df[['Cooking_With']].copy()\n",
    "df2['Cooking_With_Grill'] = df2['Cooking_With'].apply(lambda x: 1 if \"Grill\" in x else 0)\n",
    "df2['Cooking_With_Airfryer'] = df2['Cooking_With'].apply(lambda x: 1 if \"Airfryer\" in x else 0)\n",
    "\n",
    "print(\"4992 people have both an air fryer and a grill, 5008 people have neither. No one has only one of the two devices.\")\n",
    "pd.DataFrame(df2.groupby([\"Cooking_With_Airfryer\",\"Cooking_With_Grill\"]).size())"
   ]
  },
  {
   "cell_type": "code",
   "execution_count": 17,
   "id": "3e87fcec",
   "metadata": {
    "execution": {
     "iopub.execute_input": "2025-02-04T23:53:04.172733Z",
     "iopub.status.busy": "2025-02-04T23:53:04.172170Z",
     "iopub.status.idle": "2025-02-04T23:53:04.186843Z",
     "shell.execute_reply": "2025-02-04T23:53:04.185338Z"
    },
    "papermill": {
     "duration": 0.046441,
     "end_time": "2025-02-04T23:53:04.189295",
     "exception": false,
     "start_time": "2025-02-04T23:53:04.142854",
     "status": "completed"
    },
    "tags": []
   },
   "outputs": [
    {
     "name": "stdout",
     "output_type": "stream",
     "text": [
      "unique values: {'Stove', 'Airfryer', 'Oven', 'Microwave', 'Grill'}\n",
      "unique values: {'Stove', 'Microwave', 'Oven', 'Grill'}\n"
     ]
    }
   ],
   "source": [
    "# see the unique values before the removal\n",
    "print(\"unique values:\", set([item for sublist in df['Cooking_With'].unique() for item in eval(sublist)]))\n",
    "\n",
    "# Remove \"Airfryer\" from the 'Cooking_With'-variable\n",
    "df['Cooking_With'] = df['Cooking_With'].str.replace(\", 'Airfryer'\", \"\") \n",
    "\n",
    "# Check if the removal was successful\n",
    "print(\"unique values:\", set([item for sublist in df['Cooking_With'].unique() for item in eval(sublist)]))"
   ]
  },
  {
   "cell_type": "markdown",
   "id": "beb1f556",
   "metadata": {
    "papermill": {
     "duration": 0.027669,
     "end_time": "2025-02-04T23:53:04.245007",
     "exception": false,
     "start_time": "2025-02-04T23:53:04.217338",
     "status": "completed"
    },
    "tags": []
   },
   "source": [
    "<a id=\"missingdata\"></a>\n",
    "## 3.3 Visualizing Missing Data 🗑️"
   ]
  },
  {
   "cell_type": "code",
   "execution_count": 18,
   "id": "f6abcc25",
   "metadata": {
    "execution": {
     "iopub.execute_input": "2025-02-04T23:53:04.304015Z",
     "iopub.status.busy": "2025-02-04T23:53:04.303646Z",
     "iopub.status.idle": "2025-02-04T23:53:04.318973Z",
     "shell.execute_reply": "2025-02-04T23:53:04.317884Z"
    },
    "papermill": {
     "duration": 0.048623,
     "end_time": "2025-02-04T23:53:04.321462",
     "exception": false,
     "start_time": "2025-02-04T23:53:04.272839",
     "status": "completed"
    },
    "tags": []
   },
   "outputs": [
    {
     "data": {
      "text/plain": [
       "Body_Type                           0\n",
       "Gender                              0\n",
       "Diet                                0\n",
       "How_Often_Shower                    0\n",
       "Heating_Energy_Source               0\n",
       "Transport                           0\n",
       "Vehicle_Type                     6721\n",
       "Social_Activity                     0\n",
       "Monthly_Grocery_Bill                0\n",
       "Frequency_of_Traveling_by_Air       0\n",
       "Vehicle_Monthly_Distance_Km         0\n",
       "Waste_Bag_Size                      0\n",
       "Waste_Bag_Weekly_Count              0\n",
       "How_Long_TV_PC_Daily_Hour           0\n",
       "How_Many_New_Clothes_Monthly        0\n",
       "How_Long_Internet_Daily_Hour        0\n",
       "Energy_efficiency                   0\n",
       "Recycling                           0\n",
       "Cooking_With                        0\n",
       "CarbonEmission                      0\n",
       "dtype: int64"
      ]
     },
     "execution_count": 18,
     "metadata": {},
     "output_type": "execute_result"
    }
   ],
   "source": [
    "#there are NaN-entries in \"Vehicle Type\"\n",
    "df.isna().sum()"
   ]
  },
  {
   "cell_type": "markdown",
   "id": "8606a2b4",
   "metadata": {
    "papermill": {
     "duration": 0.02736,
     "end_time": "2025-02-04T23:53:04.377089",
     "exception": false,
     "start_time": "2025-02-04T23:53:04.349729",
     "status": "completed"
    },
    "tags": []
   },
   "source": [
    "### 'Vehicle_Type' has NaN-value if and only if 'Transport' has the value 'public transport' or 'walk/bicycle'."
   ]
  },
  {
   "cell_type": "code",
   "execution_count": 19,
   "id": "8986aeb1",
   "metadata": {
    "execution": {
     "iopub.execute_input": "2025-02-04T23:53:04.434888Z",
     "iopub.status.busy": "2025-02-04T23:53:04.434488Z",
     "iopub.status.idle": "2025-02-04T23:53:04.452817Z",
     "shell.execute_reply": "2025-02-04T23:53:04.451507Z"
    },
    "papermill": {
     "duration": 0.050564,
     "end_time": "2025-02-04T23:53:04.455606",
     "exception": false,
     "start_time": "2025-02-04T23:53:04.405042",
     "status": "completed"
    },
    "tags": []
   },
   "outputs": [
    {
     "data": {
      "text/html": [
       "<div>\n",
       "<style scoped>\n",
       "    .dataframe tbody tr th:only-of-type {\n",
       "        vertical-align: middle;\n",
       "    }\n",
       "\n",
       "    .dataframe tbody tr th {\n",
       "        vertical-align: top;\n",
       "    }\n",
       "\n",
       "    .dataframe thead th {\n",
       "        text-align: right;\n",
       "    }\n",
       "</style>\n",
       "<table border=\"1\" class=\"dataframe\">\n",
       "  <thead>\n",
       "    <tr style=\"text-align: right;\">\n",
       "      <th></th>\n",
       "      <th></th>\n",
       "      <th>0</th>\n",
       "    </tr>\n",
       "    <tr>\n",
       "      <th>Transport</th>\n",
       "      <th>Vehicle_Type</th>\n",
       "      <th></th>\n",
       "    </tr>\n",
       "  </thead>\n",
       "  <tbody>\n",
       "    <tr>\n",
       "      <th rowspan=\"5\" valign=\"top\">private</th>\n",
       "      <th>diesel</th>\n",
       "      <td>622</td>\n",
       "    </tr>\n",
       "    <tr>\n",
       "      <th>electric</th>\n",
       "      <td>671</td>\n",
       "    </tr>\n",
       "    <tr>\n",
       "      <th>hybrid</th>\n",
       "      <td>642</td>\n",
       "    </tr>\n",
       "    <tr>\n",
       "      <th>lpg</th>\n",
       "      <td>697</td>\n",
       "    </tr>\n",
       "    <tr>\n",
       "      <th>petrol</th>\n",
       "      <td>647</td>\n",
       "    </tr>\n",
       "    <tr>\n",
       "      <th>public</th>\n",
       "      <th>NaN</th>\n",
       "      <td>3294</td>\n",
       "    </tr>\n",
       "    <tr>\n",
       "      <th>walk/bicycle</th>\n",
       "      <th>NaN</th>\n",
       "      <td>3427</td>\n",
       "    </tr>\n",
       "  </tbody>\n",
       "</table>\n",
       "</div>"
      ],
      "text/plain": [
       "                              0\n",
       "Transport    Vehicle_Type      \n",
       "private      diesel         622\n",
       "             electric       671\n",
       "             hybrid         642\n",
       "             lpg            697\n",
       "             petrol         647\n",
       "public       NaN           3294\n",
       "walk/bicycle NaN           3427"
      ]
     },
     "execution_count": 19,
     "metadata": {},
     "output_type": "execute_result"
    }
   ],
   "source": [
    "# visualize the missing values\n",
    "df_nan = df[[\"Transport\",\"Vehicle_Type\"]].copy()\n",
    "\n",
    "df_nan['Vehicle_Type'] = df_nan['Vehicle_Type'].fillna('NaN') # to see the NaN in the code below\n",
    "\n",
    "pd.DataFrame(df_nan.groupby([\"Transport\",\"Vehicle_Type\"]).size())"
   ]
  },
  {
   "cell_type": "markdown",
   "id": "b5ab510c",
   "metadata": {
    "papermill": {
     "duration": 0.028443,
     "end_time": "2025-02-04T23:53:04.512829",
     "exception": false,
     "start_time": "2025-02-04T23:53:04.484386",
     "status": "completed"
    },
    "tags": []
   },
   "source": [
    "#### **Observations**:\n",
    "\n",
    "> The dataset contains 10,000 individuals with transportation preferences. A key insight is that:\n",
    ">\n",
    "> * 3,294 people use public transport, and 3,427 people either walk or use bicycles. For these groups, the \"Vehicle_Type\" field is missing, as they do not use a car.\n",
    "> * The remaining individuals (4,279) use cars and have specific vehicle types filled in, such as diesel, electric, hybrid, LPG, or petrol.\n",
    ">\n",
    "> This missing data in the \"Vehicle_Type\" field aligns with the fact that public transport/walk/bicycles-groups don't own or use cars."
   ]
  },
  {
   "cell_type": "code",
   "execution_count": 20,
   "id": "b64bede2",
   "metadata": {
    "execution": {
     "iopub.execute_input": "2025-02-04T23:53:04.572056Z",
     "iopub.status.busy": "2025-02-04T23:53:04.571652Z",
     "iopub.status.idle": "2025-02-04T23:53:04.588466Z",
     "shell.execute_reply": "2025-02-04T23:53:04.587186Z"
    },
    "papermill": {
     "duration": 0.049599,
     "end_time": "2025-02-04T23:53:04.591087",
     "exception": false,
     "start_time": "2025-02-04T23:53:04.541488",
     "status": "completed"
    },
    "tags": []
   },
   "outputs": [],
   "source": [
    "# check that: 'Vehicle_Type' has NaN-value if and only if 'Transport' has the values 'public transport' or 'walk/bicycle'.\n",
    "\n",
    "#test: if \"Transport\"==\"public transport\" then \"Vehicle Type\"==NaN\n",
    "assert df[df[\"Transport\"]==\"public\"][\"Vehicle_Type\"].isna().all()  #wenn in der Liste alle True sind, kommt ein True raus dh stellt sicher das alle true sind #assert tut gar nichts bei True aber bei False macht Fehlermeldung und hört auf\n",
    "\n",
    "#test: if \"walk/bicycle\" then \"Vehicle Type\"==NaN\n",
    "assert df[df[\"Transport\"]==\"walk/bicycle\"][\"Vehicle_Type\"].isna().all()  #wenn in der Liste alle True sind, kommt ein True raus dh stellt sicher das alle true sind #assert tut gar nichts bei True aber bei False macht Fehlermeldung und hört auf\n",
    "\n",
    "#test: if \"Transport\"==\"private\" then \"Vehicle Type\"!=NaN\n",
    "assert not ((df[\"Transport\"]==\"private\") & (df[\"Vehicle_Type\"].isna())).any() #any weil gibt es irgendein True? False heißt es gibt kein einziges True"
   ]
  },
  {
   "cell_type": "markdown",
   "id": "dd8bd294",
   "metadata": {
    "papermill": {
     "duration": 0.028651,
     "end_time": "2025-02-04T23:53:04.650887",
     "exception": false,
     "start_time": "2025-02-04T23:53:04.622236",
     "status": "completed"
    },
    "tags": []
   },
   "source": [
    "### encoding-plan for missing-values"
   ]
  },
  {
   "cell_type": "code",
   "execution_count": 21,
   "id": "7bfcccfb",
   "metadata": {
    "_kg_hide-input": false,
    "_kg_hide-output": false,
    "execution": {
     "iopub.execute_input": "2025-02-04T23:53:04.709682Z",
     "iopub.status.busy": "2025-02-04T23:53:04.709192Z",
     "iopub.status.idle": "2025-02-04T23:53:04.735789Z",
     "shell.execute_reply": "2025-02-04T23:53:04.734524Z"
    },
    "papermill": {
     "duration": 0.058634,
     "end_time": "2025-02-04T23:53:04.738293",
     "exception": false,
     "start_time": "2025-02-04T23:53:04.679659",
     "status": "completed"
    },
    "tags": []
   },
   "outputs": [
    {
     "data": {
      "text/html": [
       "<div>\n",
       "<style scoped>\n",
       "    .dataframe tbody tr th:only-of-type {\n",
       "        vertical-align: middle;\n",
       "    }\n",
       "\n",
       "    .dataframe tbody tr th {\n",
       "        vertical-align: top;\n",
       "    }\n",
       "\n",
       "    .dataframe thead th {\n",
       "        text-align: right;\n",
       "    }\n",
       "</style>\n",
       "<table border=\"1\" class=\"dataframe\">\n",
       "  <thead>\n",
       "    <tr style=\"text-align: right;\">\n",
       "      <th></th>\n",
       "      <th></th>\n",
       "      <th></th>\n",
       "      <th></th>\n",
       "      <th>0</th>\n",
       "    </tr>\n",
       "    <tr>\n",
       "      <th>car_owner</th>\n",
       "      <th>Transport</th>\n",
       "      <th>Vehicle_Type</th>\n",
       "      <th>Transport_Vehicle_Type</th>\n",
       "      <th></th>\n",
       "    </tr>\n",
       "  </thead>\n",
       "  <tbody>\n",
       "    <tr>\n",
       "      <th rowspan=\"2\" valign=\"top\">False</th>\n",
       "      <th>public</th>\n",
       "      <th>NaN</th>\n",
       "      <th>public</th>\n",
       "      <td>3294</td>\n",
       "    </tr>\n",
       "    <tr>\n",
       "      <th>walk/bicycle</th>\n",
       "      <th>NaN</th>\n",
       "      <th>walk/bicycle</th>\n",
       "      <td>3427</td>\n",
       "    </tr>\n",
       "    <tr>\n",
       "      <th rowspan=\"5\" valign=\"top\">True</th>\n",
       "      <th rowspan=\"5\" valign=\"top\">private</th>\n",
       "      <th>diesel</th>\n",
       "      <th>diesel</th>\n",
       "      <td>622</td>\n",
       "    </tr>\n",
       "    <tr>\n",
       "      <th>electric</th>\n",
       "      <th>electric</th>\n",
       "      <td>671</td>\n",
       "    </tr>\n",
       "    <tr>\n",
       "      <th>hybrid</th>\n",
       "      <th>hybrid</th>\n",
       "      <td>642</td>\n",
       "    </tr>\n",
       "    <tr>\n",
       "      <th>lpg</th>\n",
       "      <th>lpg</th>\n",
       "      <td>697</td>\n",
       "    </tr>\n",
       "    <tr>\n",
       "      <th>petrol</th>\n",
       "      <th>petrol</th>\n",
       "      <td>647</td>\n",
       "    </tr>\n",
       "  </tbody>\n",
       "</table>\n",
       "</div>"
      ],
      "text/plain": [
       "                                                               0\n",
       "car_owner Transport    Vehicle_Type Transport_Vehicle_Type      \n",
       "False     public       NaN          public                  3294\n",
       "          walk/bicycle NaN          walk/bicycle            3427\n",
       "True      private      diesel       diesel                   622\n",
       "                       electric     electric                 671\n",
       "                       hybrid       hybrid                   642\n",
       "                       lpg          lpg                      697\n",
       "                       petrol       petrol                   647"
      ]
     },
     "execution_count": 21,
     "metadata": {},
     "output_type": "execute_result"
    }
   ],
   "source": [
    "#df3 = df[['Transport','Vehicle_Type']].head(7).copy()\n",
    "df3 = df[['Transport','Vehicle_Type']].copy()\n",
    "\n",
    "df3['Transport_Vehicle_Type'] = df3['Vehicle_Type'].fillna(df3['Transport'])\n",
    "df3['car_owner'] = (df3['Transport'] == 'private')  # aufpassen ob 'car' oder 'private' heißt\n",
    "\n",
    "df3['Vehicle_Type'] = df3['Vehicle_Type'].fillna('NaN') # to see the NaN in the code below\n",
    "\n",
    "# to see that: 'Transport_Vehicle_Type' & 'car_owner' hold the same information as 'Transport' & 'Vehicle_Type'. \n",
    "pd.DataFrame(df3.groupby(['car_owner',\"Transport\",\"Vehicle_Type\",'Transport_Vehicle_Type']).size())"
   ]
  },
  {
   "cell_type": "markdown",
   "id": "cfb19d1e",
   "metadata": {
    "papermill": {
     "duration": 0.030442,
     "end_time": "2025-02-04T23:53:04.797764",
     "exception": false,
     "start_time": "2025-02-04T23:53:04.767322",
     "status": "completed"
    },
    "tags": []
   },
   "source": [
    "#### **Observation**:\n",
    "> The two columns 'Transport_Vehicle_Type' and 'car_owner' contain the same information as the columns 'Transport' and 'Vehicle_Type'.\n",
    "\n",
    "#### **Encoding-Plan**:\n",
    "> Due to the NaN values in 'Vehicle_Type', we cannot use this variable directly. Therefore, we considered using 'Transport_Vehicle_Type' and 'car_owner' instead of 'Transport' and 'Vehicle_Type'. However, since the information from 'car_owner' is already captured in 'Transport_Vehicle_Type' and linear regression is sensitive to multicollinearity, we will **only use 'Transport_Vehicle_Type' in the regression**."
   ]
  },
  {
   "cell_type": "markdown",
   "id": "c848cca9",
   "metadata": {
    "papermill": {
     "duration": 0.027845,
     "end_time": "2025-02-04T23:53:04.854394",
     "exception": false,
     "start_time": "2025-02-04T23:53:04.826549",
     "status": "completed"
    },
    "tags": []
   },
   "source": [
    "<a id=\"onehotencoding-multi\"></a>\n",
    "## 3.4 Encoding Multi-Select Features using MultiLabelBinarizer 🏷️"
   ]
  },
  {
   "cell_type": "code",
   "execution_count": 22,
   "id": "bffd0eae",
   "metadata": {
    "execution": {
     "iopub.execute_input": "2025-02-04T23:53:04.913196Z",
     "iopub.status.busy": "2025-02-04T23:53:04.912811Z",
     "iopub.status.idle": "2025-02-04T23:53:04.920770Z",
     "shell.execute_reply": "2025-02-04T23:53:04.919502Z"
    },
    "papermill": {
     "duration": 0.040253,
     "end_time": "2025-02-04T23:53:04.923037",
     "exception": false,
     "start_time": "2025-02-04T23:53:04.882784",
     "status": "completed"
    },
    "tags": []
   },
   "outputs": [
    {
     "name": "stdout",
     "output_type": "stream",
     "text": [
      "The entries in Recycling are of type: <class 'str'> However for encoding we need to change the datatype to list.\n",
      "Here you see an example of an entry that clearly is of type string\n"
     ]
    },
    {
     "data": {
      "text/plain": [
       "\"['Paper', 'Plastic', 'Glass', 'Metal']\""
      ]
     },
     "execution_count": 22,
     "metadata": {},
     "output_type": "execute_result"
    }
   ],
   "source": [
    "print(\"The entries in Recycling are of type:\", type(df['Recycling'][3]), \"However for encoding we need to change the datatype to list.\\nHere you see an example of an entry that clearly is of type string\")\n",
    "df['Recycling'][3]"
   ]
  },
  {
   "cell_type": "code",
   "execution_count": 23,
   "id": "2c86e231",
   "metadata": {
    "execution": {
     "iopub.execute_input": "2025-02-04T23:53:04.982136Z",
     "iopub.status.busy": "2025-02-04T23:53:04.981692Z",
     "iopub.status.idle": "2025-02-04T23:53:05.334409Z",
     "shell.execute_reply": "2025-02-04T23:53:05.333032Z"
    },
    "papermill": {
     "duration": 0.38536,
     "end_time": "2025-02-04T23:53:05.336994",
     "exception": false,
     "start_time": "2025-02-04T23:53:04.951634",
     "status": "completed"
    },
    "tags": []
   },
   "outputs": [
    {
     "data": {
      "text/html": [
       "<div>\n",
       "<style scoped>\n",
       "    .dataframe tbody tr th:only-of-type {\n",
       "        vertical-align: middle;\n",
       "    }\n",
       "\n",
       "    .dataframe tbody tr th {\n",
       "        vertical-align: top;\n",
       "    }\n",
       "\n",
       "    .dataframe thead th {\n",
       "        text-align: right;\n",
       "    }\n",
       "</style>\n",
       "<table border=\"1\" class=\"dataframe\">\n",
       "  <thead>\n",
       "    <tr style=\"text-align: right;\">\n",
       "      <th></th>\n",
       "      <th>Body_Type</th>\n",
       "      <th>Gender</th>\n",
       "      <th>Diet</th>\n",
       "      <th>How_Often_Shower</th>\n",
       "      <th>Heating_Energy_Source</th>\n",
       "      <th>Transport</th>\n",
       "      <th>Vehicle_Type</th>\n",
       "      <th>Social_Activity</th>\n",
       "      <th>Monthly_Grocery_Bill</th>\n",
       "      <th>Frequency_of_Traveling_by_Air</th>\n",
       "      <th>Vehicle_Monthly_Distance_Km</th>\n",
       "      <th>Waste_Bag_Size</th>\n",
       "      <th>Waste_Bag_Weekly_Count</th>\n",
       "      <th>How_Long_TV_PC_Daily_Hour</th>\n",
       "      <th>How_Many_New_Clothes_Monthly</th>\n",
       "      <th>How_Long_Internet_Daily_Hour</th>\n",
       "      <th>Energy_efficiency</th>\n",
       "      <th>CarbonEmission</th>\n",
       "      <th>Glass</th>\n",
       "      <th>Metal</th>\n",
       "      <th>Paper</th>\n",
       "      <th>Plastic</th>\n",
       "      <th>Grill</th>\n",
       "      <th>Microwave</th>\n",
       "      <th>Oven</th>\n",
       "      <th>Stove</th>\n",
       "    </tr>\n",
       "  </thead>\n",
       "  <tbody>\n",
       "    <tr>\n",
       "      <th>0</th>\n",
       "      <td>overweight</td>\n",
       "      <td>female</td>\n",
       "      <td>pescatarian</td>\n",
       "      <td>daily</td>\n",
       "      <td>coal</td>\n",
       "      <td>public</td>\n",
       "      <td>NaN</td>\n",
       "      <td>often</td>\n",
       "      <td>230</td>\n",
       "      <td>frequently</td>\n",
       "      <td>210</td>\n",
       "      <td>large</td>\n",
       "      <td>4</td>\n",
       "      <td>7</td>\n",
       "      <td>26</td>\n",
       "      <td>1</td>\n",
       "      <td>No</td>\n",
       "      <td>2238</td>\n",
       "      <td>0</td>\n",
       "      <td>1</td>\n",
       "      <td>0</td>\n",
       "      <td>0</td>\n",
       "      <td>0</td>\n",
       "      <td>0</td>\n",
       "      <td>1</td>\n",
       "      <td>1</td>\n",
       "    </tr>\n",
       "    <tr>\n",
       "      <th>1</th>\n",
       "      <td>obese</td>\n",
       "      <td>female</td>\n",
       "      <td>vegetarian</td>\n",
       "      <td>less frequently</td>\n",
       "      <td>natural gas</td>\n",
       "      <td>walk/bicycle</td>\n",
       "      <td>NaN</td>\n",
       "      <td>often</td>\n",
       "      <td>114</td>\n",
       "      <td>rarely</td>\n",
       "      <td>9</td>\n",
       "      <td>extra large</td>\n",
       "      <td>3</td>\n",
       "      <td>9</td>\n",
       "      <td>38</td>\n",
       "      <td>5</td>\n",
       "      <td>No</td>\n",
       "      <td>1892</td>\n",
       "      <td>0</td>\n",
       "      <td>1</td>\n",
       "      <td>0</td>\n",
       "      <td>0</td>\n",
       "      <td>0</td>\n",
       "      <td>1</td>\n",
       "      <td>0</td>\n",
       "      <td>1</td>\n",
       "    </tr>\n",
       "    <tr>\n",
       "      <th>2</th>\n",
       "      <td>overweight</td>\n",
       "      <td>male</td>\n",
       "      <td>omnivore</td>\n",
       "      <td>more frequently</td>\n",
       "      <td>wood</td>\n",
       "      <td>private</td>\n",
       "      <td>petrol</td>\n",
       "      <td>never</td>\n",
       "      <td>138</td>\n",
       "      <td>never</td>\n",
       "      <td>2472</td>\n",
       "      <td>small</td>\n",
       "      <td>1</td>\n",
       "      <td>14</td>\n",
       "      <td>47</td>\n",
       "      <td>6</td>\n",
       "      <td>Sometimes</td>\n",
       "      <td>2595</td>\n",
       "      <td>0</td>\n",
       "      <td>1</td>\n",
       "      <td>0</td>\n",
       "      <td>0</td>\n",
       "      <td>0</td>\n",
       "      <td>1</td>\n",
       "      <td>1</td>\n",
       "      <td>0</td>\n",
       "    </tr>\n",
       "    <tr>\n",
       "      <th>3</th>\n",
       "      <td>overweight</td>\n",
       "      <td>male</td>\n",
       "      <td>omnivore</td>\n",
       "      <td>twice a day</td>\n",
       "      <td>wood</td>\n",
       "      <td>walk/bicycle</td>\n",
       "      <td>NaN</td>\n",
       "      <td>sometimes</td>\n",
       "      <td>157</td>\n",
       "      <td>rarely</td>\n",
       "      <td>74</td>\n",
       "      <td>medium</td>\n",
       "      <td>3</td>\n",
       "      <td>20</td>\n",
       "      <td>5</td>\n",
       "      <td>7</td>\n",
       "      <td>Sometimes</td>\n",
       "      <td>1074</td>\n",
       "      <td>1</td>\n",
       "      <td>1</td>\n",
       "      <td>1</td>\n",
       "      <td>1</td>\n",
       "      <td>1</td>\n",
       "      <td>1</td>\n",
       "      <td>0</td>\n",
       "      <td>0</td>\n",
       "    </tr>\n",
       "    <tr>\n",
       "      <th>4</th>\n",
       "      <td>obese</td>\n",
       "      <td>female</td>\n",
       "      <td>vegetarian</td>\n",
       "      <td>daily</td>\n",
       "      <td>coal</td>\n",
       "      <td>private</td>\n",
       "      <td>diesel</td>\n",
       "      <td>often</td>\n",
       "      <td>266</td>\n",
       "      <td>very frequently</td>\n",
       "      <td>8457</td>\n",
       "      <td>large</td>\n",
       "      <td>1</td>\n",
       "      <td>3</td>\n",
       "      <td>5</td>\n",
       "      <td>6</td>\n",
       "      <td>Yes</td>\n",
       "      <td>4743</td>\n",
       "      <td>0</td>\n",
       "      <td>0</td>\n",
       "      <td>1</td>\n",
       "      <td>0</td>\n",
       "      <td>0</td>\n",
       "      <td>0</td>\n",
       "      <td>1</td>\n",
       "      <td>0</td>\n",
       "    </tr>\n",
       "  </tbody>\n",
       "</table>\n",
       "</div>"
      ],
      "text/plain": [
       "    Body_Type  Gender         Diet How_Often_Shower Heating_Energy_Source  \\\n",
       "0  overweight  female  pescatarian            daily                  coal   \n",
       "1       obese  female   vegetarian  less frequently           natural gas   \n",
       "2  overweight    male     omnivore  more frequently                  wood   \n",
       "3  overweight    male     omnivore      twice a day                  wood   \n",
       "4       obese  female   vegetarian            daily                  coal   \n",
       "\n",
       "      Transport Vehicle_Type Social_Activity  Monthly_Grocery_Bill  \\\n",
       "0        public          NaN           often                   230   \n",
       "1  walk/bicycle          NaN           often                   114   \n",
       "2       private       petrol           never                   138   \n",
       "3  walk/bicycle          NaN       sometimes                   157   \n",
       "4       private       diesel           often                   266   \n",
       "\n",
       "  Frequency_of_Traveling_by_Air  Vehicle_Monthly_Distance_Km Waste_Bag_Size  \\\n",
       "0                    frequently                          210          large   \n",
       "1                        rarely                            9    extra large   \n",
       "2                         never                         2472          small   \n",
       "3                        rarely                           74         medium   \n",
       "4               very frequently                         8457          large   \n",
       "\n",
       "   Waste_Bag_Weekly_Count  How_Long_TV_PC_Daily_Hour  \\\n",
       "0                       4                          7   \n",
       "1                       3                          9   \n",
       "2                       1                         14   \n",
       "3                       3                         20   \n",
       "4                       1                          3   \n",
       "\n",
       "   How_Many_New_Clothes_Monthly  How_Long_Internet_Daily_Hour  \\\n",
       "0                            26                             1   \n",
       "1                            38                             5   \n",
       "2                            47                             6   \n",
       "3                             5                             7   \n",
       "4                             5                             6   \n",
       "\n",
       "  Energy_efficiency  CarbonEmission  Glass  Metal  Paper  Plastic  Grill  \\\n",
       "0                No            2238      0      1      0        0      0   \n",
       "1                No            1892      0      1      0        0      0   \n",
       "2         Sometimes            2595      0      1      0        0      0   \n",
       "3         Sometimes            1074      1      1      1        1      1   \n",
       "4               Yes            4743      0      0      1        0      0   \n",
       "\n",
       "   Microwave  Oven  Stove  \n",
       "0          0     1      1  \n",
       "1          1     0      1  \n",
       "2          1     1      0  \n",
       "3          1     0      0  \n",
       "4          0     1      0  "
      ]
     },
     "execution_count": 23,
     "metadata": {},
     "output_type": "execute_result"
    }
   ],
   "source": [
    "# Function to create dummy variables with MultiLabelBinarizer for a given column that has multi-select features\n",
    "def create_dummy_variables_with_mlb(df, column_name):\n",
    "\n",
    "    # because the data is stored as a string instead of a list\n",
    "    df[column_name] = df[column_name].apply(eval)\n",
    "\n",
    "    mlb = MultiLabelBinarizer() \n",
    "    binarized_data = mlb.fit_transform(df[column_name])\n",
    "    binarized_df = pd.DataFrame(binarized_data, columns=mlb.classes_)\n",
    "\n",
    "    df = pd.concat([df, binarized_df], axis=1)\n",
    "    df = df.drop(columns=column_name)\n",
    "\n",
    "    return df\n",
    "\n",
    "df = create_dummy_variables_with_mlb(df, 'Recycling')\n",
    "df = create_dummy_variables_with_mlb(df, 'Cooking_With')\n",
    "\n",
    "df.head()"
   ]
  },
  {
   "cell_type": "code",
   "execution_count": 24,
   "id": "b0689fc4",
   "metadata": {
    "_kg_hide-input": true,
    "execution": {
     "iopub.execute_input": "2025-02-04T23:53:05.398400Z",
     "iopub.status.busy": "2025-02-04T23:53:05.398006Z",
     "iopub.status.idle": "2025-02-04T23:53:05.403050Z",
     "shell.execute_reply": "2025-02-04T23:53:05.401812Z"
    },
    "papermill": {
     "duration": 0.038971,
     "end_time": "2025-02-04T23:53:05.405593",
     "exception": false,
     "start_time": "2025-02-04T23:53:05.366622",
     "status": "completed"
    },
    "tags": []
   },
   "outputs": [],
   "source": [
    "# Nachteile: man kriegt nicht Spaltennamen raus. \n",
    "#cf = ColumnTransformer(transformers=[\n",
    "#    ('recycling', FunctionTransformer(lambda x: MultiLabelBinarizer().fit_transform(x.apply(eval)), validate=False), 'Recycling'),\n",
    "#    ('cooking_with', FunctionTransformer(lambda x: MultiLabelBinarizer().fit_transform(x.apply(eval)), validate=False), 'Cooking_With')\n",
    "#], remainder=\"passthrough\")"
   ]
  },
  {
   "cell_type": "markdown",
   "id": "6493c412",
   "metadata": {
    "papermill": {
     "duration": 0.030067,
     "end_time": "2025-02-04T23:53:05.465362",
     "exception": false,
     "start_time": "2025-02-04T23:53:05.435295",
     "status": "completed"
    },
    "tags": []
   },
   "source": [
    "## Encoding-Plan 🏷️\n",
    "| Variable Type | Data Type | Variable Name | scaling & encoding |drop the first column in Encoding | \n",
    "| -----------  | :-----------:  | -----------  | :-----------: | :-----------: |\n",
    "| discrete | int64 | Monthly Grocery Bill, Vehicle Monthly Distance Km, Waste Bag Weekly Count, How Long TV, PC Daily, Hour How Many New Clothes Monthly, How Long Internet Daily Hour | MinMaxScaler | / |\n",
    "| ordinal | object | Body_Type, Diet, How_Often_Shower, Social_Activity, Frequency_of_Traveling_by_Air, Waste_Bag_Size, Energy_efficiency | OneHotEncoder | Yes |\n",
    "| nominal, with one answer | object | Gender, Heating_Energy_Source | OneHotEncoder | Yes |\n",
    "| nominal, with one answer | object | 'Vehicle_Type', 'Transport' | combine columns then OneHotEncoder | Yes |\n",
    "| nominal, with multiple (or zero) answers | int64 | Recycling (Glass, Metal, Paper, Plastic), Cooking_With (Grill, Microwave, Oven, Stove) | MultiLabelBinarizer | No |\n",
    "| target variable, discrete  | int64 | CarbonEmission |  / | / |"
   ]
  },
  {
   "cell_type": "code",
   "execution_count": 25,
   "id": "fcc698b5",
   "metadata": {
    "execution": {
     "iopub.execute_input": "2025-02-04T23:53:05.525429Z",
     "iopub.status.busy": "2025-02-04T23:53:05.524998Z",
     "iopub.status.idle": "2025-02-04T23:53:05.531022Z",
     "shell.execute_reply": "2025-02-04T23:53:05.529884Z"
    },
    "papermill": {
     "duration": 0.039227,
     "end_time": "2025-02-04T23:53:05.533285",
     "exception": false,
     "start_time": "2025-02-04T23:53:05.494058",
     "status": "completed"
    },
    "tags": []
   },
   "outputs": [],
   "source": [
    "numeric_features = ['Monthly_Grocery_Bill', 'Vehicle_Monthly_Distance_Km', 'Waste_Bag_Weekly_Count', 'How_Long_TV_PC_Daily_Hour', 'How_Many_New_Clothes_Monthly', 'How_Long_Internet_Daily_Hour']\n",
    "\n",
    "nominal_multi_answer_features=['Glass','Metal','Paper','Plastic','Grill','Microwave','Oven','Stove']\n",
    "\n",
    "# Ordinal Variables & Single-Select Nominal Features\n",
    "categorical_features = ['Body_Type','Diet','How_Often_Shower','Social_Activity','Frequency_of_Traveling_by_Air','Waste_Bag_Size','Energy_efficiency'] + ['Gender','Heating_Energy_Source'] #,'Transport_Vehicle_Type']"
   ]
  },
  {
   "cell_type": "code",
   "execution_count": 26,
   "id": "13e99d8c",
   "metadata": {
    "execution": {
     "iopub.execute_input": "2025-02-04T23:53:05.593603Z",
     "iopub.status.busy": "2025-02-04T23:53:05.593150Z",
     "iopub.status.idle": "2025-02-04T23:53:05.599831Z",
     "shell.execute_reply": "2025-02-04T23:53:05.598491Z"
    },
    "papermill": {
     "duration": 0.040066,
     "end_time": "2025-02-04T23:53:05.602589",
     "exception": false,
     "start_time": "2025-02-04T23:53:05.562523",
     "status": "completed"
    },
    "tags": []
   },
   "outputs": [],
   "source": [
    "#check if the lists above contain all columns or if I forgot some\n",
    "all_columns=set([\"CarbonEmission\",'Vehicle_Type', 'Transport']).union(\n",
    "    numeric_features,\n",
    "    categorical_features,\n",
    "    nominal_multi_answer_features)\n",
    "\n",
    "assert all_columns  == set(df.columns.tolist())"
   ]
  },
  {
   "cell_type": "markdown",
   "id": "fd12da1e",
   "metadata": {
    "papermill": {
     "duration": 0.028344,
     "end_time": "2025-02-04T23:53:05.661138",
     "exception": false,
     "start_time": "2025-02-04T23:53:05.632794",
     "status": "completed"
    },
    "tags": []
   },
   "source": [
    "<a id=\"columntransformer\"></a>\n",
    "## 3.5 ColumnTransformer 🧩"
   ]
  },
  {
   "cell_type": "code",
   "execution_count": 27,
   "id": "7917a3d4",
   "metadata": {
    "execution": {
     "iopub.execute_input": "2025-02-04T23:53:05.721879Z",
     "iopub.status.busy": "2025-02-04T23:53:05.721521Z",
     "iopub.status.idle": "2025-02-04T23:53:05.813131Z",
     "shell.execute_reply": "2025-02-04T23:53:05.812072Z"
    },
    "papermill": {
     "duration": 0.125654,
     "end_time": "2025-02-04T23:53:05.815547",
     "exception": false,
     "start_time": "2025-02-04T23:53:05.689893",
     "status": "completed"
    },
    "tags": []
   },
   "outputs": [
    {
     "data": {
      "text/html": [
       "<style>#sk-container-id-1 {color: black;background-color: white;}#sk-container-id-1 pre{padding: 0;}#sk-container-id-1 div.sk-toggleable {background-color: white;}#sk-container-id-1 label.sk-toggleable__label {cursor: pointer;display: block;width: 100%;margin-bottom: 0;padding: 0.3em;box-sizing: border-box;text-align: center;}#sk-container-id-1 label.sk-toggleable__label-arrow:before {content: \"▸\";float: left;margin-right: 0.25em;color: #696969;}#sk-container-id-1 label.sk-toggleable__label-arrow:hover:before {color: black;}#sk-container-id-1 div.sk-estimator:hover label.sk-toggleable__label-arrow:before {color: black;}#sk-container-id-1 div.sk-toggleable__content {max-height: 0;max-width: 0;overflow: hidden;text-align: left;background-color: #f0f8ff;}#sk-container-id-1 div.sk-toggleable__content pre {margin: 0.2em;color: black;border-radius: 0.25em;background-color: #f0f8ff;}#sk-container-id-1 input.sk-toggleable__control:checked~div.sk-toggleable__content {max-height: 200px;max-width: 100%;overflow: auto;}#sk-container-id-1 input.sk-toggleable__control:checked~label.sk-toggleable__label-arrow:before {content: \"▾\";}#sk-container-id-1 div.sk-estimator input.sk-toggleable__control:checked~label.sk-toggleable__label {background-color: #d4ebff;}#sk-container-id-1 div.sk-label input.sk-toggleable__control:checked~label.sk-toggleable__label {background-color: #d4ebff;}#sk-container-id-1 input.sk-hidden--visually {border: 0;clip: rect(1px 1px 1px 1px);clip: rect(1px, 1px, 1px, 1px);height: 1px;margin: -1px;overflow: hidden;padding: 0;position: absolute;width: 1px;}#sk-container-id-1 div.sk-estimator {font-family: monospace;background-color: #f0f8ff;border: 1px dotted black;border-radius: 0.25em;box-sizing: border-box;margin-bottom: 0.5em;}#sk-container-id-1 div.sk-estimator:hover {background-color: #d4ebff;}#sk-container-id-1 div.sk-parallel-item::after {content: \"\";width: 100%;border-bottom: 1px solid gray;flex-grow: 1;}#sk-container-id-1 div.sk-label:hover label.sk-toggleable__label {background-color: #d4ebff;}#sk-container-id-1 div.sk-serial::before {content: \"\";position: absolute;border-left: 1px solid gray;box-sizing: border-box;top: 0;bottom: 0;left: 50%;z-index: 0;}#sk-container-id-1 div.sk-serial {display: flex;flex-direction: column;align-items: center;background-color: white;padding-right: 0.2em;padding-left: 0.2em;position: relative;}#sk-container-id-1 div.sk-item {position: relative;z-index: 1;}#sk-container-id-1 div.sk-parallel {display: flex;align-items: stretch;justify-content: center;background-color: white;position: relative;}#sk-container-id-1 div.sk-item::before, #sk-container-id-1 div.sk-parallel-item::before {content: \"\";position: absolute;border-left: 1px solid gray;box-sizing: border-box;top: 0;bottom: 0;left: 50%;z-index: -1;}#sk-container-id-1 div.sk-parallel-item {display: flex;flex-direction: column;z-index: 1;position: relative;background-color: white;}#sk-container-id-1 div.sk-parallel-item:first-child::after {align-self: flex-end;width: 50%;}#sk-container-id-1 div.sk-parallel-item:last-child::after {align-self: flex-start;width: 50%;}#sk-container-id-1 div.sk-parallel-item:only-child::after {width: 0;}#sk-container-id-1 div.sk-dashed-wrapped {border: 1px dashed gray;margin: 0 0.4em 0.5em 0.4em;box-sizing: border-box;padding-bottom: 0.4em;background-color: white;}#sk-container-id-1 div.sk-label label {font-family: monospace;font-weight: bold;display: inline-block;line-height: 1.2em;}#sk-container-id-1 div.sk-label-container {text-align: center;}#sk-container-id-1 div.sk-container {/* jupyter's `normalize.less` sets `[hidden] { display: none; }` but bootstrap.min.css set `[hidden] { display: none !important; }` so we also need the `!important` here to be able to override the default hidden behavior on the sphinx rendered scikit-learn.org. See: https://github.com/scikit-learn/scikit-learn/issues/21755 */display: inline-block !important;position: relative;}#sk-container-id-1 div.sk-text-repr-fallback {display: none;}</style><div id=\"sk-container-id-1\" class=\"sk-top-container\"><div class=\"sk-text-repr-fallback\"><pre>ColumnTransformer(remainder=&#x27;passthrough&#x27;,\n",
       "                  transformers=[(&#x27;numerical&#x27;, MinMaxScaler(),\n",
       "                                 [&#x27;Monthly_Grocery_Bill&#x27;,\n",
       "                                  &#x27;Vehicle_Monthly_Distance_Km&#x27;,\n",
       "                                  &#x27;Waste_Bag_Weekly_Count&#x27;,\n",
       "                                  &#x27;How_Long_TV_PC_Daily_Hour&#x27;,\n",
       "                                  &#x27;How_Many_New_Clothes_Monthly&#x27;,\n",
       "                                  &#x27;How_Long_Internet_Daily_Hour&#x27;]),\n",
       "                                (&#x27;transport_vehicletype&#x27;,\n",
       "                                 Pipeline(steps=[(&#x27;transport_imputer&#x27;,\n",
       "                                                  FunctionTransformer(func=&lt;function transport_custom_impute at 0x7888fd9db490&gt;)),\n",
       "                                                 (&#x27;onehot&#x27;,\n",
       "                                                  OneHotEncoder(drop=&#x27;first&#x27;))]),\n",
       "                                 [&#x27;Vehicle_Type&#x27;, &#x27;Transport&#x27;]),\n",
       "                                (&#x27;categorical&#x27;, OneHotEncoder(drop=&#x27;first&#x27;),\n",
       "                                 [&#x27;Body_Type&#x27;, &#x27;Diet&#x27;, &#x27;How_Often_Shower&#x27;,\n",
       "                                  &#x27;Social_Activity&#x27;,\n",
       "                                  &#x27;Frequency_of_Traveling_by_Air&#x27;,\n",
       "                                  &#x27;Waste_Bag_Size&#x27;, &#x27;Energy_efficiency&#x27;,\n",
       "                                  &#x27;Gender&#x27;, &#x27;Heating_Energy_Source&#x27;])])</pre><b>In a Jupyter environment, please rerun this cell to show the HTML representation or trust the notebook. <br />On GitHub, the HTML representation is unable to render, please try loading this page with nbviewer.org.</b></div><div class=\"sk-container\" hidden><div class=\"sk-item sk-dashed-wrapped\"><div class=\"sk-label-container\"><div class=\"sk-label sk-toggleable\"><input class=\"sk-toggleable__control sk-hidden--visually\" id=\"sk-estimator-id-1\" type=\"checkbox\" ><label for=\"sk-estimator-id-1\" class=\"sk-toggleable__label sk-toggleable__label-arrow\">ColumnTransformer</label><div class=\"sk-toggleable__content\"><pre>ColumnTransformer(remainder=&#x27;passthrough&#x27;,\n",
       "                  transformers=[(&#x27;numerical&#x27;, MinMaxScaler(),\n",
       "                                 [&#x27;Monthly_Grocery_Bill&#x27;,\n",
       "                                  &#x27;Vehicle_Monthly_Distance_Km&#x27;,\n",
       "                                  &#x27;Waste_Bag_Weekly_Count&#x27;,\n",
       "                                  &#x27;How_Long_TV_PC_Daily_Hour&#x27;,\n",
       "                                  &#x27;How_Many_New_Clothes_Monthly&#x27;,\n",
       "                                  &#x27;How_Long_Internet_Daily_Hour&#x27;]),\n",
       "                                (&#x27;transport_vehicletype&#x27;,\n",
       "                                 Pipeline(steps=[(&#x27;transport_imputer&#x27;,\n",
       "                                                  FunctionTransformer(func=&lt;function transport_custom_impute at 0x7888fd9db490&gt;)),\n",
       "                                                 (&#x27;onehot&#x27;,\n",
       "                                                  OneHotEncoder(drop=&#x27;first&#x27;))]),\n",
       "                                 [&#x27;Vehicle_Type&#x27;, &#x27;Transport&#x27;]),\n",
       "                                (&#x27;categorical&#x27;, OneHotEncoder(drop=&#x27;first&#x27;),\n",
       "                                 [&#x27;Body_Type&#x27;, &#x27;Diet&#x27;, &#x27;How_Often_Shower&#x27;,\n",
       "                                  &#x27;Social_Activity&#x27;,\n",
       "                                  &#x27;Frequency_of_Traveling_by_Air&#x27;,\n",
       "                                  &#x27;Waste_Bag_Size&#x27;, &#x27;Energy_efficiency&#x27;,\n",
       "                                  &#x27;Gender&#x27;, &#x27;Heating_Energy_Source&#x27;])])</pre></div></div></div><div class=\"sk-parallel\"><div class=\"sk-parallel-item\"><div class=\"sk-item\"><div class=\"sk-label-container\"><div class=\"sk-label sk-toggleable\"><input class=\"sk-toggleable__control sk-hidden--visually\" id=\"sk-estimator-id-2\" type=\"checkbox\" ><label for=\"sk-estimator-id-2\" class=\"sk-toggleable__label sk-toggleable__label-arrow\">numerical</label><div class=\"sk-toggleable__content\"><pre>[&#x27;Monthly_Grocery_Bill&#x27;, &#x27;Vehicle_Monthly_Distance_Km&#x27;, &#x27;Waste_Bag_Weekly_Count&#x27;, &#x27;How_Long_TV_PC_Daily_Hour&#x27;, &#x27;How_Many_New_Clothes_Monthly&#x27;, &#x27;How_Long_Internet_Daily_Hour&#x27;]</pre></div></div></div><div class=\"sk-serial\"><div class=\"sk-item\"><div class=\"sk-estimator sk-toggleable\"><input class=\"sk-toggleable__control sk-hidden--visually\" id=\"sk-estimator-id-3\" type=\"checkbox\" ><label for=\"sk-estimator-id-3\" class=\"sk-toggleable__label sk-toggleable__label-arrow\">MinMaxScaler</label><div class=\"sk-toggleable__content\"><pre>MinMaxScaler()</pre></div></div></div></div></div></div><div class=\"sk-parallel-item\"><div class=\"sk-item\"><div class=\"sk-label-container\"><div class=\"sk-label sk-toggleable\"><input class=\"sk-toggleable__control sk-hidden--visually\" id=\"sk-estimator-id-4\" type=\"checkbox\" ><label for=\"sk-estimator-id-4\" class=\"sk-toggleable__label sk-toggleable__label-arrow\">transport_vehicletype</label><div class=\"sk-toggleable__content\"><pre>[&#x27;Vehicle_Type&#x27;, &#x27;Transport&#x27;]</pre></div></div></div><div class=\"sk-serial\"><div class=\"sk-item\"><div class=\"sk-serial\"><div class=\"sk-item\"><div class=\"sk-estimator sk-toggleable\"><input class=\"sk-toggleable__control sk-hidden--visually\" id=\"sk-estimator-id-5\" type=\"checkbox\" ><label for=\"sk-estimator-id-5\" class=\"sk-toggleable__label sk-toggleable__label-arrow\">FunctionTransformer</label><div class=\"sk-toggleable__content\"><pre>FunctionTransformer(func=&lt;function transport_custom_impute at 0x7888fd9db490&gt;)</pre></div></div></div><div class=\"sk-item\"><div class=\"sk-estimator sk-toggleable\"><input class=\"sk-toggleable__control sk-hidden--visually\" id=\"sk-estimator-id-6\" type=\"checkbox\" ><label for=\"sk-estimator-id-6\" class=\"sk-toggleable__label sk-toggleable__label-arrow\">OneHotEncoder</label><div class=\"sk-toggleable__content\"><pre>OneHotEncoder(drop=&#x27;first&#x27;)</pre></div></div></div></div></div></div></div></div><div class=\"sk-parallel-item\"><div class=\"sk-item\"><div class=\"sk-label-container\"><div class=\"sk-label sk-toggleable\"><input class=\"sk-toggleable__control sk-hidden--visually\" id=\"sk-estimator-id-7\" type=\"checkbox\" ><label for=\"sk-estimator-id-7\" class=\"sk-toggleable__label sk-toggleable__label-arrow\">categorical</label><div class=\"sk-toggleable__content\"><pre>[&#x27;Body_Type&#x27;, &#x27;Diet&#x27;, &#x27;How_Often_Shower&#x27;, &#x27;Social_Activity&#x27;, &#x27;Frequency_of_Traveling_by_Air&#x27;, &#x27;Waste_Bag_Size&#x27;, &#x27;Energy_efficiency&#x27;, &#x27;Gender&#x27;, &#x27;Heating_Energy_Source&#x27;]</pre></div></div></div><div class=\"sk-serial\"><div class=\"sk-item\"><div class=\"sk-estimator sk-toggleable\"><input class=\"sk-toggleable__control sk-hidden--visually\" id=\"sk-estimator-id-8\" type=\"checkbox\" ><label for=\"sk-estimator-id-8\" class=\"sk-toggleable__label sk-toggleable__label-arrow\">OneHotEncoder</label><div class=\"sk-toggleable__content\"><pre>OneHotEncoder(drop=&#x27;first&#x27;)</pre></div></div></div></div></div></div><div class=\"sk-parallel-item\"><div class=\"sk-item\"><div class=\"sk-label-container\"><div class=\"sk-label sk-toggleable\"><input class=\"sk-toggleable__control sk-hidden--visually\" id=\"sk-estimator-id-9\" type=\"checkbox\" ><label for=\"sk-estimator-id-9\" class=\"sk-toggleable__label sk-toggleable__label-arrow\">remainder</label><div class=\"sk-toggleable__content\"><pre>[&#x27;Glass&#x27;, &#x27;Metal&#x27;, &#x27;Paper&#x27;, &#x27;Plastic&#x27;, &#x27;Grill&#x27;, &#x27;Microwave&#x27;, &#x27;Oven&#x27;, &#x27;Stove&#x27;]</pre></div></div></div><div class=\"sk-serial\"><div class=\"sk-item\"><div class=\"sk-estimator sk-toggleable\"><input class=\"sk-toggleable__control sk-hidden--visually\" id=\"sk-estimator-id-10\" type=\"checkbox\" ><label for=\"sk-estimator-id-10\" class=\"sk-toggleable__label sk-toggleable__label-arrow\">passthrough</label><div class=\"sk-toggleable__content\"><pre>passthrough</pre></div></div></div></div></div></div></div></div></div></div>"
      ],
      "text/plain": [
       "ColumnTransformer(remainder='passthrough',\n",
       "                  transformers=[('numerical', MinMaxScaler(),\n",
       "                                 ['Monthly_Grocery_Bill',\n",
       "                                  'Vehicle_Monthly_Distance_Km',\n",
       "                                  'Waste_Bag_Weekly_Count',\n",
       "                                  'How_Long_TV_PC_Daily_Hour',\n",
       "                                  'How_Many_New_Clothes_Monthly',\n",
       "                                  'How_Long_Internet_Daily_Hour']),\n",
       "                                ('transport_vehicletype',\n",
       "                                 Pipeline(steps=[('transport_imputer',\n",
       "                                                  FunctionTransformer(func=<function transport_custom_impute at 0x7888fd9db490>)),\n",
       "                                                 ('onehot',\n",
       "                                                  OneHotEncoder(drop='first'))]),\n",
       "                                 ['Vehicle_Type', 'Transport']),\n",
       "                                ('categorical', OneHotEncoder(drop='first'),\n",
       "                                 ['Body_Type', 'Diet', 'How_Often_Shower',\n",
       "                                  'Social_Activity',\n",
       "                                  'Frequency_of_Traveling_by_Air',\n",
       "                                  'Waste_Bag_Size', 'Energy_efficiency',\n",
       "                                  'Gender', 'Heating_Energy_Source'])])"
      ]
     },
     "execution_count": 27,
     "metadata": {},
     "output_type": "execute_result"
    }
   ],
   "source": [
    "# for 'Vehicle_Type' and 'Transport':\n",
    "def transport_custom_impute(X):\n",
    "    # Ersetze NaN in Vehicle_type mit den Werten aus Transport\n",
    "    X['Transport_Vehicle_Type'] = X['Vehicle_Type'].fillna(X['Transport'])\n",
    "    return X[['Transport_Vehicle_Type']]\n",
    "\n",
    "transport_pipeline = Pipeline(steps=[\n",
    "    ('transport_imputer', FunctionTransformer(transport_custom_impute, validate=False)),\n",
    "    ('onehot', OneHotEncoder(drop=\"first\"))  \n",
    "])\n",
    "\n",
    "preprocessor = ColumnTransformer(transformers=[\n",
    "        (\"numerical\", MinMaxScaler(), numeric_features),\n",
    "        (\"transport_vehicletype\", transport_pipeline, ['Vehicle_Type', 'Transport']),\n",
    "        (\"categorical\", OneHotEncoder(drop=\"first\"), categorical_features)\n",
    "    ],remainder=\"passthrough\")\n",
    "\n",
    "X = df.drop([\"CarbonEmission\"], axis=1)\n",
    "X_transformed = preprocessor.fit_transform(X)\n",
    "\n",
    "# To see the ColumnTransformer\n",
    "preprocessor"
   ]
  },
  {
   "cell_type": "markdown",
   "id": "d380ea32",
   "metadata": {
    "papermill": {
     "duration": 0.029322,
     "end_time": "2025-02-04T23:53:05.874770",
     "exception": false,
     "start_time": "2025-02-04T23:53:05.845448",
     "status": "completed"
    },
    "tags": []
   },
   "source": [
    "## get column names after ColumnTransformer ✍️ \n",
    "because ColumnTransformer removed column names"
   ]
  },
  {
   "cell_type": "code",
   "execution_count": 28,
   "id": "459282c7",
   "metadata": {
    "execution": {
     "iopub.execute_input": "2025-02-04T23:53:05.935813Z",
     "iopub.status.busy": "2025-02-04T23:53:05.935426Z",
     "iopub.status.idle": "2025-02-04T23:53:05.944112Z",
     "shell.execute_reply": "2025-02-04T23:53:05.942892Z"
    },
    "papermill": {
     "duration": 0.042561,
     "end_time": "2025-02-04T23:53:05.946839",
     "exception": false,
     "start_time": "2025-02-04T23:53:05.904278",
     "status": "completed"
    },
    "tags": []
   },
   "outputs": [],
   "source": [
    "def get_passthrough_columns(column_transformer, X):\n",
    "    \"\"\"\n",
    "    Extracts the columns that are passed through without transformation in the ColumnTransformer.\n",
    "\n",
    "    Args:\n",
    "        column_transformer (ColumnTransformer): Fitted ColumnTransformer object.\n",
    "        X (pd.DataFrame): Original DataFrame before transformation.\n",
    "\n",
    "    Returns:\n",
    "        List[str]: List of column names that are passed through.\n",
    "    \"\"\"\n",
    "    passthrough_indices = column_transformer.transformers_[-1][-1]\n",
    "    return X.columns[passthrough_indices].tolist() \n",
    "\n",
    "\n",
    "def get_identity_columns(column_transformer, begin_index, end_index):\n",
    "    \"\"\"\n",
    "    Extracts the columns from the ColumnTransformer that remain unchanged in terms of their structure,\n",
    "    meaning they undergo transformations but  the column number remains the same.\n",
    "\n",
    "    Args:\n",
    "        column_transformer (ColumnTransformer): Fitted ColumnTransformer object.\n",
    "        begin_index (int): Starting index of the identity transformers.\n",
    "        end_index (int): Ending index (exclusive) of the identity transformers.\n",
    "\n",
    "    Returns:\n",
    "        List[str]: List of column names that remain unchanged in number.\n",
    "    \"\"\"\n",
    "    col_names = []\n",
    "    for _, _, col in column_transformer.transformers_[begin_index:end_index]:\n",
    "        col_names.extend(col)  # Collect all untransformed column names\n",
    "    return col_names\n",
    "\n",
    "\n",
    "def get_onehot_encoded_columns(column_transformer, begin_index, end_index):\n",
    "    \"\"\"\n",
    "    Extracts the OneHotEncoded feature names for the specified transformers in the ColumnTransformer.\n",
    "\n",
    "    Args:\n",
    "        column_transformer (ColumnTransformer): Fitted ColumnTransformer object.\n",
    "        begin_index (int): Starting index of the ordinal encoders.\n",
    "        end_index (int): Ending index (exclusive) of the ordinal encoders.\n",
    "\n",
    "    Returns:\n",
    "        List[str]: List of one-hot encoded feature names.\n",
    "    \"\"\"\n",
    "    ohe_feature_names = []\n",
    "    for col_name, _, col_list in column_transformer.transformers_[begin_index:end_index]:\n",
    "        ohe_features = column_transformer.named_transformers_[col_name].get_feature_names_out(col_list).tolist()\n",
    "        ohe_feature_names.extend(ohe_features)\n",
    "    return ohe_feature_names"
   ]
  },
  {
   "cell_type": "code",
   "execution_count": 29,
   "id": "cde4baf8",
   "metadata": {
    "execution": {
     "iopub.execute_input": "2025-02-04T23:53:06.007150Z",
     "iopub.status.busy": "2025-02-04T23:53:06.006683Z",
     "iopub.status.idle": "2025-02-04T23:53:06.015435Z",
     "shell.execute_reply": "2025-02-04T23:53:06.014033Z"
    },
    "papermill": {
     "duration": 0.041782,
     "end_time": "2025-02-04T23:53:06.017787",
     "exception": false,
     "start_time": "2025-02-04T23:53:05.976005",
     "status": "completed"
    },
    "tags": []
   },
   "outputs": [],
   "source": [
    "# Spaltenanzahl bleibt gleich\n",
    "# name of the first transformers (transformers index 0 till excluding index 1)\n",
    "numeric_features = get_identity_columns(preprocessor, 0, 1)\n",
    "\n",
    "# ❌ hier fehlt noch Spaltennnamen für OneHot-Encoding für Transport_Vehicle_Type❌\n",
    "# Transport-Pipeline Features\n",
    "transport_encoder = preprocessor.named_transformers_['transport_vehicletype'].named_steps['onehot']\n",
    "transport_feature_names = transport_encoder.get_feature_names_out(['Transport_Vehicle_Type']).tolist()\n",
    "\n",
    "# Spaltenanzahl erhöht\n",
    "# name of the transformers index 1 till excluding index -1 (excluding passthrough) ❌habe von 1 auf 2 geändert wegen Transport_Vehicletyp. stimmt das? ❌\n",
    "dummy_categorical_features = get_onehot_encoded_columns(preprocessor, 2, -1)  \n",
    "\n",
    "# name of the first three transformers index -1\n",
    "passthrough_columns = get_passthrough_columns(preprocessor, X)\n",
    "\n",
    "transformed_feature_names = numeric_features + transport_feature_names + dummy_categorical_features + passthrough_columns\n",
    "\n",
    "X_transformed = pd.DataFrame(X_transformed, columns=transformed_feature_names)"
   ]
  },
  {
   "cell_type": "code",
   "execution_count": 30,
   "id": "56cac09c",
   "metadata": {
    "execution": {
     "iopub.execute_input": "2025-02-04T23:53:06.079380Z",
     "iopub.status.busy": "2025-02-04T23:53:06.078946Z",
     "iopub.status.idle": "2025-02-04T23:53:06.124725Z",
     "shell.execute_reply": "2025-02-04T23:53:06.123463Z"
    },
    "papermill": {
     "duration": 0.07988,
     "end_time": "2025-02-04T23:53:06.127233",
     "exception": false,
     "start_time": "2025-02-04T23:53:06.047353",
     "status": "completed"
    },
    "tags": []
   },
   "outputs": [
    {
     "data": {
      "text/html": [
       "<div>\n",
       "<style scoped>\n",
       "    .dataframe tbody tr th:only-of-type {\n",
       "        vertical-align: middle;\n",
       "    }\n",
       "\n",
       "    .dataframe tbody tr th {\n",
       "        vertical-align: top;\n",
       "    }\n",
       "\n",
       "    .dataframe thead th {\n",
       "        text-align: right;\n",
       "    }\n",
       "</style>\n",
       "<table border=\"1\" class=\"dataframe\">\n",
       "  <thead>\n",
       "    <tr style=\"text-align: right;\">\n",
       "      <th></th>\n",
       "      <th>Monthly_Grocery_Bill</th>\n",
       "      <th>Vehicle_Monthly_Distance_Km</th>\n",
       "      <th>Waste_Bag_Weekly_Count</th>\n",
       "      <th>How_Long_TV_PC_Daily_Hour</th>\n",
       "      <th>How_Many_New_Clothes_Monthly</th>\n",
       "      <th>How_Long_Internet_Daily_Hour</th>\n",
       "      <th>Transport_Vehicle_Type_electric</th>\n",
       "      <th>Transport_Vehicle_Type_hybrid</th>\n",
       "      <th>Transport_Vehicle_Type_lpg</th>\n",
       "      <th>Transport_Vehicle_Type_petrol</th>\n",
       "      <th>Transport_Vehicle_Type_public</th>\n",
       "      <th>Transport_Vehicle_Type_walk/bicycle</th>\n",
       "      <th>Body_Type_obese</th>\n",
       "      <th>Body_Type_overweight</th>\n",
       "      <th>Body_Type_underweight</th>\n",
       "      <th>Diet_pescatarian</th>\n",
       "      <th>Diet_vegan</th>\n",
       "      <th>Diet_vegetarian</th>\n",
       "      <th>How_Often_Shower_less frequently</th>\n",
       "      <th>How_Often_Shower_more frequently</th>\n",
       "      <th>How_Often_Shower_twice a day</th>\n",
       "      <th>Social_Activity_often</th>\n",
       "      <th>Social_Activity_sometimes</th>\n",
       "      <th>Frequency_of_Traveling_by_Air_never</th>\n",
       "      <th>Frequency_of_Traveling_by_Air_rarely</th>\n",
       "      <th>Frequency_of_Traveling_by_Air_very frequently</th>\n",
       "      <th>Waste_Bag_Size_large</th>\n",
       "      <th>Waste_Bag_Size_medium</th>\n",
       "      <th>Waste_Bag_Size_small</th>\n",
       "      <th>Energy_efficiency_Sometimes</th>\n",
       "      <th>Energy_efficiency_Yes</th>\n",
       "      <th>Gender_male</th>\n",
       "      <th>Heating_Energy_Source_electricity</th>\n",
       "      <th>Heating_Energy_Source_natural gas</th>\n",
       "      <th>Heating_Energy_Source_wood</th>\n",
       "      <th>Glass</th>\n",
       "      <th>Metal</th>\n",
       "      <th>Paper</th>\n",
       "      <th>Plastic</th>\n",
       "      <th>Grill</th>\n",
       "      <th>Microwave</th>\n",
       "      <th>Oven</th>\n",
       "      <th>Stove</th>\n",
       "    </tr>\n",
       "  </thead>\n",
       "  <tbody>\n",
       "    <tr>\n",
       "      <th>0</th>\n",
       "      <td>0.722892</td>\n",
       "      <td>0.021002</td>\n",
       "      <td>0.500000</td>\n",
       "      <td>0.291667</td>\n",
       "      <td>0.52</td>\n",
       "      <td>0.041667</td>\n",
       "      <td>0.0</td>\n",
       "      <td>0.0</td>\n",
       "      <td>0.0</td>\n",
       "      <td>0.0</td>\n",
       "      <td>1.0</td>\n",
       "      <td>0.0</td>\n",
       "      <td>0.0</td>\n",
       "      <td>1.0</td>\n",
       "      <td>0.0</td>\n",
       "      <td>1.0</td>\n",
       "      <td>0.0</td>\n",
       "      <td>0.0</td>\n",
       "      <td>0.0</td>\n",
       "      <td>0.0</td>\n",
       "      <td>0.0</td>\n",
       "      <td>1.0</td>\n",
       "      <td>0.0</td>\n",
       "      <td>0.0</td>\n",
       "      <td>0.0</td>\n",
       "      <td>0.0</td>\n",
       "      <td>1.0</td>\n",
       "      <td>0.0</td>\n",
       "      <td>0.0</td>\n",
       "      <td>0.0</td>\n",
       "      <td>0.0</td>\n",
       "      <td>0.0</td>\n",
       "      <td>0.0</td>\n",
       "      <td>0.0</td>\n",
       "      <td>0.0</td>\n",
       "      <td>0.0</td>\n",
       "      <td>1.0</td>\n",
       "      <td>0.0</td>\n",
       "      <td>0.0</td>\n",
       "      <td>0.0</td>\n",
       "      <td>0.0</td>\n",
       "      <td>1.0</td>\n",
       "      <td>1.0</td>\n",
       "    </tr>\n",
       "    <tr>\n",
       "      <th>1</th>\n",
       "      <td>0.257028</td>\n",
       "      <td>0.000900</td>\n",
       "      <td>0.333333</td>\n",
       "      <td>0.375000</td>\n",
       "      <td>0.76</td>\n",
       "      <td>0.208333</td>\n",
       "      <td>0.0</td>\n",
       "      <td>0.0</td>\n",
       "      <td>0.0</td>\n",
       "      <td>0.0</td>\n",
       "      <td>0.0</td>\n",
       "      <td>1.0</td>\n",
       "      <td>1.0</td>\n",
       "      <td>0.0</td>\n",
       "      <td>0.0</td>\n",
       "      <td>0.0</td>\n",
       "      <td>0.0</td>\n",
       "      <td>1.0</td>\n",
       "      <td>1.0</td>\n",
       "      <td>0.0</td>\n",
       "      <td>0.0</td>\n",
       "      <td>1.0</td>\n",
       "      <td>0.0</td>\n",
       "      <td>0.0</td>\n",
       "      <td>1.0</td>\n",
       "      <td>0.0</td>\n",
       "      <td>0.0</td>\n",
       "      <td>0.0</td>\n",
       "      <td>0.0</td>\n",
       "      <td>0.0</td>\n",
       "      <td>0.0</td>\n",
       "      <td>0.0</td>\n",
       "      <td>0.0</td>\n",
       "      <td>1.0</td>\n",
       "      <td>0.0</td>\n",
       "      <td>0.0</td>\n",
       "      <td>1.0</td>\n",
       "      <td>0.0</td>\n",
       "      <td>0.0</td>\n",
       "      <td>0.0</td>\n",
       "      <td>1.0</td>\n",
       "      <td>0.0</td>\n",
       "      <td>1.0</td>\n",
       "    </tr>\n",
       "    <tr>\n",
       "      <th>2</th>\n",
       "      <td>0.353414</td>\n",
       "      <td>0.247225</td>\n",
       "      <td>0.000000</td>\n",
       "      <td>0.583333</td>\n",
       "      <td>0.94</td>\n",
       "      <td>0.250000</td>\n",
       "      <td>0.0</td>\n",
       "      <td>0.0</td>\n",
       "      <td>0.0</td>\n",
       "      <td>1.0</td>\n",
       "      <td>0.0</td>\n",
       "      <td>0.0</td>\n",
       "      <td>0.0</td>\n",
       "      <td>1.0</td>\n",
       "      <td>0.0</td>\n",
       "      <td>0.0</td>\n",
       "      <td>0.0</td>\n",
       "      <td>0.0</td>\n",
       "      <td>0.0</td>\n",
       "      <td>1.0</td>\n",
       "      <td>0.0</td>\n",
       "      <td>0.0</td>\n",
       "      <td>0.0</td>\n",
       "      <td>1.0</td>\n",
       "      <td>0.0</td>\n",
       "      <td>0.0</td>\n",
       "      <td>0.0</td>\n",
       "      <td>0.0</td>\n",
       "      <td>1.0</td>\n",
       "      <td>1.0</td>\n",
       "      <td>0.0</td>\n",
       "      <td>1.0</td>\n",
       "      <td>0.0</td>\n",
       "      <td>0.0</td>\n",
       "      <td>1.0</td>\n",
       "      <td>0.0</td>\n",
       "      <td>1.0</td>\n",
       "      <td>0.0</td>\n",
       "      <td>0.0</td>\n",
       "      <td>0.0</td>\n",
       "      <td>1.0</td>\n",
       "      <td>1.0</td>\n",
       "      <td>0.0</td>\n",
       "    </tr>\n",
       "    <tr>\n",
       "      <th>3</th>\n",
       "      <td>0.429719</td>\n",
       "      <td>0.007401</td>\n",
       "      <td>0.333333</td>\n",
       "      <td>0.833333</td>\n",
       "      <td>0.10</td>\n",
       "      <td>0.291667</td>\n",
       "      <td>0.0</td>\n",
       "      <td>0.0</td>\n",
       "      <td>0.0</td>\n",
       "      <td>0.0</td>\n",
       "      <td>0.0</td>\n",
       "      <td>1.0</td>\n",
       "      <td>0.0</td>\n",
       "      <td>1.0</td>\n",
       "      <td>0.0</td>\n",
       "      <td>0.0</td>\n",
       "      <td>0.0</td>\n",
       "      <td>0.0</td>\n",
       "      <td>0.0</td>\n",
       "      <td>0.0</td>\n",
       "      <td>1.0</td>\n",
       "      <td>0.0</td>\n",
       "      <td>1.0</td>\n",
       "      <td>0.0</td>\n",
       "      <td>1.0</td>\n",
       "      <td>0.0</td>\n",
       "      <td>0.0</td>\n",
       "      <td>1.0</td>\n",
       "      <td>0.0</td>\n",
       "      <td>1.0</td>\n",
       "      <td>0.0</td>\n",
       "      <td>1.0</td>\n",
       "      <td>0.0</td>\n",
       "      <td>0.0</td>\n",
       "      <td>1.0</td>\n",
       "      <td>1.0</td>\n",
       "      <td>1.0</td>\n",
       "      <td>1.0</td>\n",
       "      <td>1.0</td>\n",
       "      <td>1.0</td>\n",
       "      <td>1.0</td>\n",
       "      <td>0.0</td>\n",
       "      <td>0.0</td>\n",
       "    </tr>\n",
       "    <tr>\n",
       "      <th>4</th>\n",
       "      <td>0.867470</td>\n",
       "      <td>0.845785</td>\n",
       "      <td>0.000000</td>\n",
       "      <td>0.125000</td>\n",
       "      <td>0.10</td>\n",
       "      <td>0.250000</td>\n",
       "      <td>0.0</td>\n",
       "      <td>0.0</td>\n",
       "      <td>0.0</td>\n",
       "      <td>0.0</td>\n",
       "      <td>0.0</td>\n",
       "      <td>0.0</td>\n",
       "      <td>1.0</td>\n",
       "      <td>0.0</td>\n",
       "      <td>0.0</td>\n",
       "      <td>0.0</td>\n",
       "      <td>0.0</td>\n",
       "      <td>1.0</td>\n",
       "      <td>0.0</td>\n",
       "      <td>0.0</td>\n",
       "      <td>0.0</td>\n",
       "      <td>1.0</td>\n",
       "      <td>0.0</td>\n",
       "      <td>0.0</td>\n",
       "      <td>0.0</td>\n",
       "      <td>1.0</td>\n",
       "      <td>1.0</td>\n",
       "      <td>0.0</td>\n",
       "      <td>0.0</td>\n",
       "      <td>0.0</td>\n",
       "      <td>1.0</td>\n",
       "      <td>0.0</td>\n",
       "      <td>0.0</td>\n",
       "      <td>0.0</td>\n",
       "      <td>0.0</td>\n",
       "      <td>0.0</td>\n",
       "      <td>0.0</td>\n",
       "      <td>1.0</td>\n",
       "      <td>0.0</td>\n",
       "      <td>0.0</td>\n",
       "      <td>0.0</td>\n",
       "      <td>1.0</td>\n",
       "      <td>0.0</td>\n",
       "    </tr>\n",
       "  </tbody>\n",
       "</table>\n",
       "</div>"
      ],
      "text/plain": [
       "   Monthly_Grocery_Bill  Vehicle_Monthly_Distance_Km  Waste_Bag_Weekly_Count  \\\n",
       "0              0.722892                     0.021002                0.500000   \n",
       "1              0.257028                     0.000900                0.333333   \n",
       "2              0.353414                     0.247225                0.000000   \n",
       "3              0.429719                     0.007401                0.333333   \n",
       "4              0.867470                     0.845785                0.000000   \n",
       "\n",
       "   How_Long_TV_PC_Daily_Hour  How_Many_New_Clothes_Monthly  \\\n",
       "0                   0.291667                          0.52   \n",
       "1                   0.375000                          0.76   \n",
       "2                   0.583333                          0.94   \n",
       "3                   0.833333                          0.10   \n",
       "4                   0.125000                          0.10   \n",
       "\n",
       "   How_Long_Internet_Daily_Hour  Transport_Vehicle_Type_electric  \\\n",
       "0                      0.041667                              0.0   \n",
       "1                      0.208333                              0.0   \n",
       "2                      0.250000                              0.0   \n",
       "3                      0.291667                              0.0   \n",
       "4                      0.250000                              0.0   \n",
       "\n",
       "   Transport_Vehicle_Type_hybrid  Transport_Vehicle_Type_lpg  \\\n",
       "0                            0.0                         0.0   \n",
       "1                            0.0                         0.0   \n",
       "2                            0.0                         0.0   \n",
       "3                            0.0                         0.0   \n",
       "4                            0.0                         0.0   \n",
       "\n",
       "   Transport_Vehicle_Type_petrol  Transport_Vehicle_Type_public  \\\n",
       "0                            0.0                            1.0   \n",
       "1                            0.0                            0.0   \n",
       "2                            1.0                            0.0   \n",
       "3                            0.0                            0.0   \n",
       "4                            0.0                            0.0   \n",
       "\n",
       "   Transport_Vehicle_Type_walk/bicycle  Body_Type_obese  Body_Type_overweight  \\\n",
       "0                                  0.0              0.0                   1.0   \n",
       "1                                  1.0              1.0                   0.0   \n",
       "2                                  0.0              0.0                   1.0   \n",
       "3                                  1.0              0.0                   1.0   \n",
       "4                                  0.0              1.0                   0.0   \n",
       "\n",
       "   Body_Type_underweight  Diet_pescatarian  Diet_vegan  Diet_vegetarian  \\\n",
       "0                    0.0               1.0         0.0              0.0   \n",
       "1                    0.0               0.0         0.0              1.0   \n",
       "2                    0.0               0.0         0.0              0.0   \n",
       "3                    0.0               0.0         0.0              0.0   \n",
       "4                    0.0               0.0         0.0              1.0   \n",
       "\n",
       "   How_Often_Shower_less frequently  How_Often_Shower_more frequently  \\\n",
       "0                               0.0                               0.0   \n",
       "1                               1.0                               0.0   \n",
       "2                               0.0                               1.0   \n",
       "3                               0.0                               0.0   \n",
       "4                               0.0                               0.0   \n",
       "\n",
       "   How_Often_Shower_twice a day  Social_Activity_often  \\\n",
       "0                           0.0                    1.0   \n",
       "1                           0.0                    1.0   \n",
       "2                           0.0                    0.0   \n",
       "3                           1.0                    0.0   \n",
       "4                           0.0                    1.0   \n",
       "\n",
       "   Social_Activity_sometimes  Frequency_of_Traveling_by_Air_never  \\\n",
       "0                        0.0                                  0.0   \n",
       "1                        0.0                                  0.0   \n",
       "2                        0.0                                  1.0   \n",
       "3                        1.0                                  0.0   \n",
       "4                        0.0                                  0.0   \n",
       "\n",
       "   Frequency_of_Traveling_by_Air_rarely  \\\n",
       "0                                   0.0   \n",
       "1                                   1.0   \n",
       "2                                   0.0   \n",
       "3                                   1.0   \n",
       "4                                   0.0   \n",
       "\n",
       "   Frequency_of_Traveling_by_Air_very frequently  Waste_Bag_Size_large  \\\n",
       "0                                            0.0                   1.0   \n",
       "1                                            0.0                   0.0   \n",
       "2                                            0.0                   0.0   \n",
       "3                                            0.0                   0.0   \n",
       "4                                            1.0                   1.0   \n",
       "\n",
       "   Waste_Bag_Size_medium  Waste_Bag_Size_small  Energy_efficiency_Sometimes  \\\n",
       "0                    0.0                   0.0                          0.0   \n",
       "1                    0.0                   0.0                          0.0   \n",
       "2                    0.0                   1.0                          1.0   \n",
       "3                    1.0                   0.0                          1.0   \n",
       "4                    0.0                   0.0                          0.0   \n",
       "\n",
       "   Energy_efficiency_Yes  Gender_male  Heating_Energy_Source_electricity  \\\n",
       "0                    0.0          0.0                                0.0   \n",
       "1                    0.0          0.0                                0.0   \n",
       "2                    0.0          1.0                                0.0   \n",
       "3                    0.0          1.0                                0.0   \n",
       "4                    1.0          0.0                                0.0   \n",
       "\n",
       "   Heating_Energy_Source_natural gas  Heating_Energy_Source_wood  Glass  \\\n",
       "0                                0.0                         0.0    0.0   \n",
       "1                                1.0                         0.0    0.0   \n",
       "2                                0.0                         1.0    0.0   \n",
       "3                                0.0                         1.0    1.0   \n",
       "4                                0.0                         0.0    0.0   \n",
       "\n",
       "   Metal  Paper  Plastic  Grill  Microwave  Oven  Stove  \n",
       "0    1.0    0.0      0.0    0.0        0.0   1.0    1.0  \n",
       "1    1.0    0.0      0.0    0.0        1.0   0.0    1.0  \n",
       "2    1.0    0.0      0.0    0.0        1.0   1.0    0.0  \n",
       "3    1.0    1.0      1.0    1.0        1.0   0.0    0.0  \n",
       "4    0.0    1.0      0.0    0.0        0.0   1.0    0.0  "
      ]
     },
     "execution_count": 30,
     "metadata": {},
     "output_type": "execute_result"
    }
   ],
   "source": [
    "#to see the Encoding\n",
    "X_transformed.head()"
   ]
  },
  {
   "cell_type": "code",
   "execution_count": 31,
   "id": "b8a57aff",
   "metadata": {
    "execution": {
     "iopub.execute_input": "2025-02-04T23:53:06.189991Z",
     "iopub.status.busy": "2025-02-04T23:53:06.189585Z",
     "iopub.status.idle": "2025-02-04T23:53:06.210279Z",
     "shell.execute_reply": "2025-02-04T23:53:06.209116Z"
    },
    "papermill": {
     "duration": 0.055183,
     "end_time": "2025-02-04T23:53:06.213089",
     "exception": false,
     "start_time": "2025-02-04T23:53:06.157906",
     "status": "completed"
    },
    "tags": []
   },
   "outputs": [
    {
     "data": {
      "text/html": [
       "<div>\n",
       "<style scoped>\n",
       "    .dataframe tbody tr th:only-of-type {\n",
       "        vertical-align: middle;\n",
       "    }\n",
       "\n",
       "    .dataframe tbody tr th {\n",
       "        vertical-align: top;\n",
       "    }\n",
       "\n",
       "    .dataframe thead th {\n",
       "        text-align: right;\n",
       "    }\n",
       "</style>\n",
       "<table border=\"1\" class=\"dataframe\">\n",
       "  <thead>\n",
       "    <tr style=\"text-align: right;\">\n",
       "      <th></th>\n",
       "      <th>Body_Type</th>\n",
       "      <th>Gender</th>\n",
       "      <th>Diet</th>\n",
       "      <th>How_Often_Shower</th>\n",
       "      <th>Heating_Energy_Source</th>\n",
       "      <th>Transport</th>\n",
       "      <th>Vehicle_Type</th>\n",
       "      <th>Social_Activity</th>\n",
       "      <th>Monthly_Grocery_Bill</th>\n",
       "      <th>Frequency_of_Traveling_by_Air</th>\n",
       "      <th>Vehicle_Monthly_Distance_Km</th>\n",
       "      <th>Waste_Bag_Size</th>\n",
       "      <th>Waste_Bag_Weekly_Count</th>\n",
       "      <th>How_Long_TV_PC_Daily_Hour</th>\n",
       "      <th>How_Many_New_Clothes_Monthly</th>\n",
       "      <th>How_Long_Internet_Daily_Hour</th>\n",
       "      <th>Energy_efficiency</th>\n",
       "      <th>CarbonEmission</th>\n",
       "      <th>Glass</th>\n",
       "      <th>Metal</th>\n",
       "      <th>Paper</th>\n",
       "      <th>Plastic</th>\n",
       "      <th>Grill</th>\n",
       "      <th>Microwave</th>\n",
       "      <th>Oven</th>\n",
       "      <th>Stove</th>\n",
       "    </tr>\n",
       "  </thead>\n",
       "  <tbody>\n",
       "    <tr>\n",
       "      <th>0</th>\n",
       "      <td>overweight</td>\n",
       "      <td>female</td>\n",
       "      <td>pescatarian</td>\n",
       "      <td>daily</td>\n",
       "      <td>coal</td>\n",
       "      <td>public</td>\n",
       "      <td>NaN</td>\n",
       "      <td>often</td>\n",
       "      <td>230</td>\n",
       "      <td>frequently</td>\n",
       "      <td>210</td>\n",
       "      <td>large</td>\n",
       "      <td>4</td>\n",
       "      <td>7</td>\n",
       "      <td>26</td>\n",
       "      <td>1</td>\n",
       "      <td>No</td>\n",
       "      <td>2238</td>\n",
       "      <td>0</td>\n",
       "      <td>1</td>\n",
       "      <td>0</td>\n",
       "      <td>0</td>\n",
       "      <td>0</td>\n",
       "      <td>0</td>\n",
       "      <td>1</td>\n",
       "      <td>1</td>\n",
       "    </tr>\n",
       "    <tr>\n",
       "      <th>1</th>\n",
       "      <td>obese</td>\n",
       "      <td>female</td>\n",
       "      <td>vegetarian</td>\n",
       "      <td>less frequently</td>\n",
       "      <td>natural gas</td>\n",
       "      <td>walk/bicycle</td>\n",
       "      <td>NaN</td>\n",
       "      <td>often</td>\n",
       "      <td>114</td>\n",
       "      <td>rarely</td>\n",
       "      <td>9</td>\n",
       "      <td>extra large</td>\n",
       "      <td>3</td>\n",
       "      <td>9</td>\n",
       "      <td>38</td>\n",
       "      <td>5</td>\n",
       "      <td>No</td>\n",
       "      <td>1892</td>\n",
       "      <td>0</td>\n",
       "      <td>1</td>\n",
       "      <td>0</td>\n",
       "      <td>0</td>\n",
       "      <td>0</td>\n",
       "      <td>1</td>\n",
       "      <td>0</td>\n",
       "      <td>1</td>\n",
       "    </tr>\n",
       "    <tr>\n",
       "      <th>2</th>\n",
       "      <td>overweight</td>\n",
       "      <td>male</td>\n",
       "      <td>omnivore</td>\n",
       "      <td>more frequently</td>\n",
       "      <td>wood</td>\n",
       "      <td>private</td>\n",
       "      <td>petrol</td>\n",
       "      <td>never</td>\n",
       "      <td>138</td>\n",
       "      <td>never</td>\n",
       "      <td>2472</td>\n",
       "      <td>small</td>\n",
       "      <td>1</td>\n",
       "      <td>14</td>\n",
       "      <td>47</td>\n",
       "      <td>6</td>\n",
       "      <td>Sometimes</td>\n",
       "      <td>2595</td>\n",
       "      <td>0</td>\n",
       "      <td>1</td>\n",
       "      <td>0</td>\n",
       "      <td>0</td>\n",
       "      <td>0</td>\n",
       "      <td>1</td>\n",
       "      <td>1</td>\n",
       "      <td>0</td>\n",
       "    </tr>\n",
       "    <tr>\n",
       "      <th>3</th>\n",
       "      <td>overweight</td>\n",
       "      <td>male</td>\n",
       "      <td>omnivore</td>\n",
       "      <td>twice a day</td>\n",
       "      <td>wood</td>\n",
       "      <td>walk/bicycle</td>\n",
       "      <td>NaN</td>\n",
       "      <td>sometimes</td>\n",
       "      <td>157</td>\n",
       "      <td>rarely</td>\n",
       "      <td>74</td>\n",
       "      <td>medium</td>\n",
       "      <td>3</td>\n",
       "      <td>20</td>\n",
       "      <td>5</td>\n",
       "      <td>7</td>\n",
       "      <td>Sometimes</td>\n",
       "      <td>1074</td>\n",
       "      <td>1</td>\n",
       "      <td>1</td>\n",
       "      <td>1</td>\n",
       "      <td>1</td>\n",
       "      <td>1</td>\n",
       "      <td>1</td>\n",
       "      <td>0</td>\n",
       "      <td>0</td>\n",
       "    </tr>\n",
       "    <tr>\n",
       "      <th>4</th>\n",
       "      <td>obese</td>\n",
       "      <td>female</td>\n",
       "      <td>vegetarian</td>\n",
       "      <td>daily</td>\n",
       "      <td>coal</td>\n",
       "      <td>private</td>\n",
       "      <td>diesel</td>\n",
       "      <td>often</td>\n",
       "      <td>266</td>\n",
       "      <td>very frequently</td>\n",
       "      <td>8457</td>\n",
       "      <td>large</td>\n",
       "      <td>1</td>\n",
       "      <td>3</td>\n",
       "      <td>5</td>\n",
       "      <td>6</td>\n",
       "      <td>Yes</td>\n",
       "      <td>4743</td>\n",
       "      <td>0</td>\n",
       "      <td>0</td>\n",
       "      <td>1</td>\n",
       "      <td>0</td>\n",
       "      <td>0</td>\n",
       "      <td>0</td>\n",
       "      <td>1</td>\n",
       "      <td>0</td>\n",
       "    </tr>\n",
       "  </tbody>\n",
       "</table>\n",
       "</div>"
      ],
      "text/plain": [
       "    Body_Type  Gender         Diet How_Often_Shower Heating_Energy_Source  \\\n",
       "0  overweight  female  pescatarian            daily                  coal   \n",
       "1       obese  female   vegetarian  less frequently           natural gas   \n",
       "2  overweight    male     omnivore  more frequently                  wood   \n",
       "3  overweight    male     omnivore      twice a day                  wood   \n",
       "4       obese  female   vegetarian            daily                  coal   \n",
       "\n",
       "      Transport Vehicle_Type Social_Activity  Monthly_Grocery_Bill  \\\n",
       "0        public          NaN           often                   230   \n",
       "1  walk/bicycle          NaN           often                   114   \n",
       "2       private       petrol           never                   138   \n",
       "3  walk/bicycle          NaN       sometimes                   157   \n",
       "4       private       diesel           often                   266   \n",
       "\n",
       "  Frequency_of_Traveling_by_Air  Vehicle_Monthly_Distance_Km Waste_Bag_Size  \\\n",
       "0                    frequently                          210          large   \n",
       "1                        rarely                            9    extra large   \n",
       "2                         never                         2472          small   \n",
       "3                        rarely                           74         medium   \n",
       "4               very frequently                         8457          large   \n",
       "\n",
       "   Waste_Bag_Weekly_Count  How_Long_TV_PC_Daily_Hour  \\\n",
       "0                       4                          7   \n",
       "1                       3                          9   \n",
       "2                       1                         14   \n",
       "3                       3                         20   \n",
       "4                       1                          3   \n",
       "\n",
       "   How_Many_New_Clothes_Monthly  How_Long_Internet_Daily_Hour  \\\n",
       "0                            26                             1   \n",
       "1                            38                             5   \n",
       "2                            47                             6   \n",
       "3                             5                             7   \n",
       "4                             5                             6   \n",
       "\n",
       "  Energy_efficiency  CarbonEmission  Glass  Metal  Paper  Plastic  Grill  \\\n",
       "0                No            2238      0      1      0        0      0   \n",
       "1                No            1892      0      1      0        0      0   \n",
       "2         Sometimes            2595      0      1      0        0      0   \n",
       "3         Sometimes            1074      1      1      1        1      1   \n",
       "4               Yes            4743      0      0      1        0      0   \n",
       "\n",
       "   Microwave  Oven  Stove  \n",
       "0          0     1      1  \n",
       "1          1     0      1  \n",
       "2          1     1      0  \n",
       "3          1     0      0  \n",
       "4          0     1      0  "
      ]
     },
     "execution_count": 31,
     "metadata": {},
     "output_type": "execute_result"
    }
   ],
   "source": [
    "#to see the Encoding\n",
    "df.head()"
   ]
  },
  {
   "cell_type": "markdown",
   "id": "70d33a81",
   "metadata": {
    "papermill": {
     "duration": 0.030454,
     "end_time": "2025-02-04T23:53:06.275632",
     "exception": false,
     "start_time": "2025-02-04T23:53:06.245178",
     "status": "completed"
    },
    "tags": []
   },
   "source": [
    "<a id=\"linear-regression\"></a>\n",
    "# 4️⃣ Model: Linear Regression 📈"
   ]
  },
  {
   "cell_type": "markdown",
   "id": "fb227cc4",
   "metadata": {
    "papermill": {
     "duration": 0.029782,
     "end_time": "2025-02-04T23:53:06.335927",
     "exception": false,
     "start_time": "2025-02-04T23:53:06.306145",
     "status": "completed"
    },
    "tags": []
   },
   "source": [
    "<a id=\"model-training\"></a>\n",
    "## 4.1. Model Training 🏋️‍"
   ]
  },
  {
   "cell_type": "code",
   "execution_count": 32,
   "id": "04afbc31",
   "metadata": {
    "execution": {
     "iopub.execute_input": "2025-02-04T23:53:06.398014Z",
     "iopub.status.busy": "2025-02-04T23:53:06.397661Z",
     "iopub.status.idle": "2025-02-04T23:53:06.457913Z",
     "shell.execute_reply": "2025-02-04T23:53:06.454990Z"
    },
    "papermill": {
     "duration": 0.09608,
     "end_time": "2025-02-04T23:53:06.462379",
     "exception": false,
     "start_time": "2025-02-04T23:53:06.366299",
     "status": "completed"
    },
    "tags": []
   },
   "outputs": [
    {
     "data": {
      "text/html": [
       "<style>#sk-container-id-2 {color: black;background-color: white;}#sk-container-id-2 pre{padding: 0;}#sk-container-id-2 div.sk-toggleable {background-color: white;}#sk-container-id-2 label.sk-toggleable__label {cursor: pointer;display: block;width: 100%;margin-bottom: 0;padding: 0.3em;box-sizing: border-box;text-align: center;}#sk-container-id-2 label.sk-toggleable__label-arrow:before {content: \"▸\";float: left;margin-right: 0.25em;color: #696969;}#sk-container-id-2 label.sk-toggleable__label-arrow:hover:before {color: black;}#sk-container-id-2 div.sk-estimator:hover label.sk-toggleable__label-arrow:before {color: black;}#sk-container-id-2 div.sk-toggleable__content {max-height: 0;max-width: 0;overflow: hidden;text-align: left;background-color: #f0f8ff;}#sk-container-id-2 div.sk-toggleable__content pre {margin: 0.2em;color: black;border-radius: 0.25em;background-color: #f0f8ff;}#sk-container-id-2 input.sk-toggleable__control:checked~div.sk-toggleable__content {max-height: 200px;max-width: 100%;overflow: auto;}#sk-container-id-2 input.sk-toggleable__control:checked~label.sk-toggleable__label-arrow:before {content: \"▾\";}#sk-container-id-2 div.sk-estimator input.sk-toggleable__control:checked~label.sk-toggleable__label {background-color: #d4ebff;}#sk-container-id-2 div.sk-label input.sk-toggleable__control:checked~label.sk-toggleable__label {background-color: #d4ebff;}#sk-container-id-2 input.sk-hidden--visually {border: 0;clip: rect(1px 1px 1px 1px);clip: rect(1px, 1px, 1px, 1px);height: 1px;margin: -1px;overflow: hidden;padding: 0;position: absolute;width: 1px;}#sk-container-id-2 div.sk-estimator {font-family: monospace;background-color: #f0f8ff;border: 1px dotted black;border-radius: 0.25em;box-sizing: border-box;margin-bottom: 0.5em;}#sk-container-id-2 div.sk-estimator:hover {background-color: #d4ebff;}#sk-container-id-2 div.sk-parallel-item::after {content: \"\";width: 100%;border-bottom: 1px solid gray;flex-grow: 1;}#sk-container-id-2 div.sk-label:hover label.sk-toggleable__label {background-color: #d4ebff;}#sk-container-id-2 div.sk-serial::before {content: \"\";position: absolute;border-left: 1px solid gray;box-sizing: border-box;top: 0;bottom: 0;left: 50%;z-index: 0;}#sk-container-id-2 div.sk-serial {display: flex;flex-direction: column;align-items: center;background-color: white;padding-right: 0.2em;padding-left: 0.2em;position: relative;}#sk-container-id-2 div.sk-item {position: relative;z-index: 1;}#sk-container-id-2 div.sk-parallel {display: flex;align-items: stretch;justify-content: center;background-color: white;position: relative;}#sk-container-id-2 div.sk-item::before, #sk-container-id-2 div.sk-parallel-item::before {content: \"\";position: absolute;border-left: 1px solid gray;box-sizing: border-box;top: 0;bottom: 0;left: 50%;z-index: -1;}#sk-container-id-2 div.sk-parallel-item {display: flex;flex-direction: column;z-index: 1;position: relative;background-color: white;}#sk-container-id-2 div.sk-parallel-item:first-child::after {align-self: flex-end;width: 50%;}#sk-container-id-2 div.sk-parallel-item:last-child::after {align-self: flex-start;width: 50%;}#sk-container-id-2 div.sk-parallel-item:only-child::after {width: 0;}#sk-container-id-2 div.sk-dashed-wrapped {border: 1px dashed gray;margin: 0 0.4em 0.5em 0.4em;box-sizing: border-box;padding-bottom: 0.4em;background-color: white;}#sk-container-id-2 div.sk-label label {font-family: monospace;font-weight: bold;display: inline-block;line-height: 1.2em;}#sk-container-id-2 div.sk-label-container {text-align: center;}#sk-container-id-2 div.sk-container {/* jupyter's `normalize.less` sets `[hidden] { display: none; }` but bootstrap.min.css set `[hidden] { display: none !important; }` so we also need the `!important` here to be able to override the default hidden behavior on the sphinx rendered scikit-learn.org. See: https://github.com/scikit-learn/scikit-learn/issues/21755 */display: inline-block !important;position: relative;}#sk-container-id-2 div.sk-text-repr-fallback {display: none;}</style><div id=\"sk-container-id-2\" class=\"sk-top-container\"><div class=\"sk-text-repr-fallback\"><pre>LinearRegression()</pre><b>In a Jupyter environment, please rerun this cell to show the HTML representation or trust the notebook. <br />On GitHub, the HTML representation is unable to render, please try loading this page with nbviewer.org.</b></div><div class=\"sk-container\" hidden><div class=\"sk-item\"><div class=\"sk-estimator sk-toggleable\"><input class=\"sk-toggleable__control sk-hidden--visually\" id=\"sk-estimator-id-11\" type=\"checkbox\" checked><label for=\"sk-estimator-id-11\" class=\"sk-toggleable__label sk-toggleable__label-arrow\">LinearRegression</label><div class=\"sk-toggleable__content\"><pre>LinearRegression()</pre></div></div></div></div></div>"
      ],
      "text/plain": [
       "LinearRegression()"
      ]
     },
     "execution_count": 32,
     "metadata": {},
     "output_type": "execute_result"
    }
   ],
   "source": [
    "#model = Pipeline(steps=[(\"preprocessor\", preprocessor), (\"model\", LinearRegression())])\n",
    "model = LinearRegression()\n",
    "\n",
    "X = df.drop([\"CarbonEmission\"], axis=1)\n",
    "y = df[\"CarbonEmission\"]\n",
    "\n",
    "#X_train, X_test, y_train, y_test = train_test_split(X, y, train_size = 0.9)\n",
    "X_train, X_test, y_train, y_test = train_test_split(X_transformed, y, train_size = 0.9)\n",
    "\n",
    "model.fit(X_train, y_train)"
   ]
  },
  {
   "cell_type": "markdown",
   "id": "ed527e7f",
   "metadata": {
    "papermill": {
     "duration": 0.04786,
     "end_time": "2025-02-04T23:53:06.587699",
     "exception": false,
     "start_time": "2025-02-04T23:53:06.539839",
     "status": "completed"
    },
    "tags": []
   },
   "source": [
    "## Regression Evaluation Metrics ⚖️"
   ]
  },
  {
   "cell_type": "code",
   "execution_count": 33,
   "id": "2ecb83f3",
   "metadata": {
    "execution": {
     "iopub.execute_input": "2025-02-04T23:53:06.652414Z",
     "iopub.status.busy": "2025-02-04T23:53:06.652023Z",
     "iopub.status.idle": "2025-02-04T23:53:06.689801Z",
     "shell.execute_reply": "2025-02-04T23:53:06.687733Z"
    },
    "papermill": {
     "duration": 0.073234,
     "end_time": "2025-02-04T23:53:06.693660",
     "exception": false,
     "start_time": "2025-02-04T23:53:06.620426",
     "status": "completed"
    },
    "tags": []
   },
   "outputs": [
    {
     "data": {
      "text/html": [
       "<div>\n",
       "<style scoped>\n",
       "    .dataframe tbody tr th:only-of-type {\n",
       "        vertical-align: middle;\n",
       "    }\n",
       "\n",
       "    .dataframe tbody tr th {\n",
       "        vertical-align: top;\n",
       "    }\n",
       "\n",
       "    .dataframe thead th {\n",
       "        text-align: right;\n",
       "    }\n",
       "</style>\n",
       "<table border=\"1\" class=\"dataframe\">\n",
       "  <thead>\n",
       "    <tr style=\"text-align: right;\">\n",
       "      <th></th>\n",
       "      <th>R-squared</th>\n",
       "      <th>Mean Absolute Error (MAE)</th>\n",
       "      <th>Mean Squared Error (MSE)</th>\n",
       "      <th>Root Mean Square Error (RMSE)</th>\n",
       "    </tr>\n",
       "  </thead>\n",
       "  <tbody>\n",
       "    <tr>\n",
       "      <th>Training Set Evaluation</th>\n",
       "      <td>0.933061</td>\n",
       "      <td>175.32</td>\n",
       "      <td>68769.32</td>\n",
       "      <td>262.24</td>\n",
       "    </tr>\n",
       "    <tr>\n",
       "      <th>Test Set Evaluation</th>\n",
       "      <td>0.939715</td>\n",
       "      <td>174.85</td>\n",
       "      <td>66771.77</td>\n",
       "      <td>258.40</td>\n",
       "    </tr>\n",
       "  </tbody>\n",
       "</table>\n",
       "</div>"
      ],
      "text/plain": [
       "                         R-squared  Mean Absolute Error (MAE)  \\\n",
       "Training Set Evaluation   0.933061                     175.32   \n",
       "Test Set Evaluation       0.939715                     174.85   \n",
       "\n",
       "                         Mean Squared Error (MSE)  \\\n",
       "Training Set Evaluation                  68769.32   \n",
       "Test Set Evaluation                      66771.77   \n",
       "\n",
       "                         Root Mean Square Error (RMSE)  \n",
       "Training Set Evaluation                         262.24  \n",
       "Test Set Evaluation                             258.40  "
      ]
     },
     "execution_count": 33,
     "metadata": {},
     "output_type": "execute_result"
    }
   ],
   "source": [
    "y_train_pred = model.predict(X_train)\n",
    "y_test_pred = model.predict(X_test)\n",
    "\n",
    "pd.DataFrame({\n",
    "    'R-squared': [\n",
    "        r2_score(y_train, y_train_pred),\n",
    "        r2_score(y_test, y_test_pred)\n",
    "    ],\n",
    "    'Mean Absolute Error (MAE)': [\n",
    "        mean_absolute_error(y_train, y_train_pred).round(2),\n",
    "        mean_absolute_error(y_test, y_test_pred).round(2)\n",
    "    ],\n",
    "    'Mean Squared Error (MSE)': [\n",
    "        mean_squared_error(y_train, y_train_pred).round(2),\n",
    "        mean_squared_error(y_test, y_test_pred).round(2)\n",
    "    ],\n",
    "    'Root Mean Square Error (RMSE)': [\n",
    "        np.sqrt(mean_squared_error(y_train, y_train_pred)).round(2),\n",
    "        np.sqrt(mean_squared_error(y_test, y_test_pred)).round(2)\n",
    "    ]\n",
    "}, index=['Training Set Evaluation', 'Test Set Evaluation'])"
   ]
  },
  {
   "cell_type": "code",
   "execution_count": 34,
   "id": "1eefe0d9",
   "metadata": {
    "execution": {
     "iopub.execute_input": "2025-02-04T23:53:06.812753Z",
     "iopub.status.busy": "2025-02-04T23:53:06.812406Z",
     "iopub.status.idle": "2025-02-04T23:53:07.322119Z",
     "shell.execute_reply": "2025-02-04T23:53:07.320704Z"
    },
    "papermill": {
     "duration": 0.553899,
     "end_time": "2025-02-04T23:53:07.324510",
     "exception": false,
     "start_time": "2025-02-04T23:53:06.770611",
     "status": "completed"
    },
    "tags": []
   },
   "outputs": [
    {
     "data": {
      "image/png": "[encoded data removed]",
      "text/plain": [
       "<Figure size 640x480 with 1 Axes>"
      ]
     },
     "metadata": {},
     "output_type": "display_data"
    }
   ],
   "source": [
    "y_pred = model.predict(X_test)\n",
    "df_results = pd.DataFrame({'Actual': y_test, 'Predicted': y_pred}).sample(200)\n",
    "\n",
    "# Plotting the results\n",
    "sns.regplot(x='Actual', y='Predicted', data=df_results)\n",
    "plt.title('Actual vs Predicted')\n",
    "plt.show()"
   ]
  },
  {
   "cell_type": "markdown",
   "id": "bcfcac5e",
   "metadata": {
    "papermill": {
     "duration": 0.031439,
     "end_time": "2025-02-04T23:53:07.388000",
     "exception": false,
     "start_time": "2025-02-04T23:53:07.356561",
     "status": "completed"
    },
    "tags": []
   },
   "source": [
    "<a id=\"model-saving\"></a>\n",
    "## 4.2. Model Saving in pkl-format  💾 "
   ]
  },
  {
   "cell_type": "code",
   "execution_count": 35,
   "id": "79160a0b",
   "metadata": {
    "execution": {
     "iopub.execute_input": "2025-02-04T23:53:07.453495Z",
     "iopub.status.busy": "2025-02-04T23:53:07.453092Z",
     "iopub.status.idle": "2025-02-04T23:53:07.459421Z",
     "shell.execute_reply": "2025-02-04T23:53:07.458254Z"
    },
    "papermill": {
     "duration": 0.042211,
     "end_time": "2025-02-04T23:53:07.462029",
     "exception": false,
     "start_time": "2025-02-04T23:53:07.419818",
     "status": "completed"
    },
    "tags": []
   },
   "outputs": [],
   "source": [
    "with open('linear_regression_model.pkl', 'wb') as model_file:\n",
    "    pickle.dump(model, model_file)"
   ]
  },
  {
   "cell_type": "markdown",
   "id": "b67eb3bf",
   "metadata": {
    "papermill": {
     "duration": 0.032052,
     "end_time": "2025-02-04T23:53:07.526900",
     "exception": false,
     "start_time": "2025-02-04T23:53:07.494848",
     "status": "completed"
    },
    "tags": []
   },
   "source": [
    "## get column names after ColumnTransformer ✍️ \n",
    "because ColumnTransformer removed column names"
   ]
  },
  {
   "cell_type": "code",
   "execution_count": 36,
   "id": "394c402a",
   "metadata": {
    "execution": {
     "iopub.execute_input": "2025-02-04T23:53:07.592729Z",
     "iopub.status.busy": "2025-02-04T23:53:07.592380Z",
     "iopub.status.idle": "2025-02-04T23:53:07.597172Z",
     "shell.execute_reply": "2025-02-04T23:53:07.596081Z"
    },
    "papermill": {
     "duration": 0.039852,
     "end_time": "2025-02-04T23:53:07.599457",
     "exception": false,
     "start_time": "2025-02-04T23:53:07.559605",
     "status": "completed"
    },
    "tags": []
   },
   "outputs": [],
   "source": [
    "#onehot_columns = model.named_steps['preprocessor'].named_transformers_[\"onehot\"].get_feature_names_out(categorical_features)\n",
    "#passthrough_indices = model.named_steps['preprocessor'].transformers_[-1][-1]\n",
    "#passthrough_columns = X_train.columns[passthrough_indices].tolist()\n",
    "\n",
    "#transformed_feature_names = numeric_features + list(onehot_columns) + passthrough_columns"
   ]
  },
  {
   "cell_type": "markdown",
   "id": "3841b1b8",
   "metadata": {
    "papermill": {
     "duration": 0.031275,
     "end_time": "2025-02-04T23:53:07.665010",
     "exception": false,
     "start_time": "2025-02-04T23:53:07.633735",
     "status": "completed"
    },
    "tags": []
   },
   "source": [
    "<a id=\"regression-equation\"></a>\n",
    "## 4.3. Regression Equation"
   ]
  },
  {
   "cell_type": "code",
   "execution_count": 37,
   "id": "31bd404f",
   "metadata": {
    "execution": {
     "iopub.execute_input": "2025-02-04T23:53:07.730300Z",
     "iopub.status.busy": "2025-02-04T23:53:07.729957Z",
     "iopub.status.idle": "2025-02-04T23:53:07.735435Z",
     "shell.execute_reply": "2025-02-04T23:53:07.734117Z"
    },
    "papermill": {
     "duration": 0.041452,
     "end_time": "2025-02-04T23:53:07.737724",
     "exception": false,
     "start_time": "2025-02-04T23:53:07.696272",
     "status": "completed"
    },
    "tags": []
   },
   "outputs": [],
   "source": [
    "#regression_equation =\"Regression Equation: CarbonEmission = \"\n",
    "#for variable, slope in list(zip(transformed_feature_names, model.named_steps['model'].coef_)):\n",
    "#   regression_equation += \"(\" + str(round(slope,1)) + \"*\" + variable + \") + \"\n",
    "#regression_equation += str(round(model.named_steps['model'].intercept_,1)) + \" + Error\"\n",
    "\n",
    "#regression_equation"
   ]
  },
  {
   "cell_type": "markdown",
   "id": "4c836e3b",
   "metadata": {
    "papermill": {
     "duration": 0.031489,
     "end_time": "2025-02-04T23:53:07.800638",
     "exception": false,
     "start_time": "2025-02-04T23:53:07.769149",
     "status": "completed"
    },
    "tags": []
   },
   "source": [
    "<a id=\"regression-coefficients\"></a>\n",
    "## 4.4. Regression Coefficients 📐 "
   ]
  },
  {
   "cell_type": "code",
   "execution_count": 38,
   "id": "a16c17b2",
   "metadata": {
    "execution": {
     "iopub.execute_input": "2025-02-04T23:53:07.865739Z",
     "iopub.status.busy": "2025-02-04T23:53:07.865272Z",
     "iopub.status.idle": "2025-02-04T23:53:07.870408Z",
     "shell.execute_reply": "2025-02-04T23:53:07.869280Z"
    },
    "papermill": {
     "duration": 0.04057,
     "end_time": "2025-02-04T23:53:07.872667",
     "exception": false,
     "start_time": "2025-02-04T23:53:07.832097",
     "status": "completed"
    },
    "tags": []
   },
   "outputs": [],
   "source": [
    "#print(\"Intercept: \", model.named_steps['model'].intercept_)\n",
    "\n",
    "#pd.DataFrame({'Feature': transformed_feature_names,'Coefficient': model.named_steps['model'].coef_.round(1)})"
   ]
  },
  {
   "cell_type": "markdown",
   "id": "d7649756",
   "metadata": {
    "papermill": {
     "duration": 0.031863,
     "end_time": "2025-02-04T23:53:07.936198",
     "exception": false,
     "start_time": "2025-02-04T23:53:07.904335",
     "status": "completed"
    },
    "tags": []
   },
   "source": [
    "<a id=\"prediction\"></a>\n",
    "## 4.5. Prediction 🔮"
   ]
  },
  {
   "cell_type": "code",
   "execution_count": 39,
   "id": "7426beb0",
   "metadata": {
    "execution": {
     "iopub.execute_input": "2025-02-04T23:53:08.002350Z",
     "iopub.status.busy": "2025-02-04T23:53:08.001914Z",
     "iopub.status.idle": "2025-02-04T23:53:08.042642Z",
     "shell.execute_reply": "2025-02-04T23:53:08.041441Z"
    },
    "papermill": {
     "duration": 0.076493,
     "end_time": "2025-02-04T23:53:08.045201",
     "exception": false,
     "start_time": "2025-02-04T23:53:07.968708",
     "status": "completed"
    },
    "tags": []
   },
   "outputs": [
    {
     "name": "stdout",
     "output_type": "stream",
     "text": [
      "predicted CarbonEmission:  [2392. 1965.]\n"
     ]
    },
    {
     "name": "stderr",
     "output_type": "stream",
     "text": [
      "/opt/conda/lib/python3.10/site-packages/sklearn/base.py:439: UserWarning: X does not have valid feature names, but LinearRegression was fitted with feature names\n",
      "  warnings.warn(\n"
     ]
    },
    {
     "data": {
      "text/html": [
       "<div>\n",
       "<style scoped>\n",
       "    .dataframe tbody tr th:only-of-type {\n",
       "        vertical-align: middle;\n",
       "    }\n",
       "\n",
       "    .dataframe tbody tr th {\n",
       "        vertical-align: top;\n",
       "    }\n",
       "\n",
       "    .dataframe thead th {\n",
       "        text-align: right;\n",
       "    }\n",
       "</style>\n",
       "<table border=\"1\" class=\"dataframe\">\n",
       "  <thead>\n",
       "    <tr style=\"text-align: right;\">\n",
       "      <th></th>\n",
       "      <th>Body_Type</th>\n",
       "      <th>Gender</th>\n",
       "      <th>Diet</th>\n",
       "      <th>How_Often_Shower</th>\n",
       "      <th>Heating_Energy_Source</th>\n",
       "      <th>Transport</th>\n",
       "      <th>Vehicle_Type</th>\n",
       "      <th>Social_Activity</th>\n",
       "      <th>Monthly_Grocery_Bill</th>\n",
       "      <th>Frequency_of_Traveling_by_Air</th>\n",
       "      <th>Vehicle_Monthly_Distance_Km</th>\n",
       "      <th>Waste_Bag_Size</th>\n",
       "      <th>Waste_Bag_Weekly_Count</th>\n",
       "      <th>How_Long_TV_PC_Daily_Hour</th>\n",
       "      <th>How_Many_New_Clothes_Monthly</th>\n",
       "      <th>How_Long_Internet_Daily_Hour</th>\n",
       "      <th>Energy_efficiency</th>\n",
       "      <th>Glass</th>\n",
       "      <th>Metal</th>\n",
       "      <th>Plastic</th>\n",
       "      <th>Paper</th>\n",
       "      <th>Oven</th>\n",
       "      <th>Microwave</th>\n",
       "      <th>Grill</th>\n",
       "      <th>Stove</th>\n",
       "    </tr>\n",
       "  </thead>\n",
       "  <tbody>\n",
       "    <tr>\n",
       "      <th>0</th>\n",
       "      <td>overweight</td>\n",
       "      <td>female</td>\n",
       "      <td>pescatarian</td>\n",
       "      <td>daily</td>\n",
       "      <td>coal</td>\n",
       "      <td>walk/bicycle</td>\n",
       "      <td>NaN</td>\n",
       "      <td>often</td>\n",
       "      <td>230</td>\n",
       "      <td>frequently</td>\n",
       "      <td>210</td>\n",
       "      <td>large</td>\n",
       "      <td>4</td>\n",
       "      <td>7</td>\n",
       "      <td>26</td>\n",
       "      <td>1</td>\n",
       "      <td>No</td>\n",
       "      <td>False</td>\n",
       "      <td>1</td>\n",
       "      <td>0</td>\n",
       "      <td>0</td>\n",
       "      <td>True</td>\n",
       "      <td>0</td>\n",
       "      <td>0</td>\n",
       "      <td>1</td>\n",
       "    </tr>\n",
       "    <tr>\n",
       "      <th>1</th>\n",
       "      <td>obese</td>\n",
       "      <td>female</td>\n",
       "      <td>vegetarian</td>\n",
       "      <td>less frequently</td>\n",
       "      <td>natural gas</td>\n",
       "      <td>walk/bicycle</td>\n",
       "      <td>NaN</td>\n",
       "      <td>often</td>\n",
       "      <td>114</td>\n",
       "      <td>rarely</td>\n",
       "      <td>9</td>\n",
       "      <td>extra large</td>\n",
       "      <td>3</td>\n",
       "      <td>9</td>\n",
       "      <td>38</td>\n",
       "      <td>5</td>\n",
       "      <td>No</td>\n",
       "      <td>False</td>\n",
       "      <td>1</td>\n",
       "      <td>0</td>\n",
       "      <td>0</td>\n",
       "      <td>False</td>\n",
       "      <td>1</td>\n",
       "      <td>0</td>\n",
       "      <td>1</td>\n",
       "    </tr>\n",
       "  </tbody>\n",
       "</table>\n",
       "</div>"
      ],
      "text/plain": [
       "    Body_Type  Gender         Diet How_Often_Shower Heating_Energy_Source  \\\n",
       "0  overweight  female  pescatarian            daily                  coal   \n",
       "1       obese  female   vegetarian  less frequently           natural gas   \n",
       "\n",
       "      Transport  Vehicle_Type Social_Activity  Monthly_Grocery_Bill  \\\n",
       "0  walk/bicycle           NaN           often                   230   \n",
       "1  walk/bicycle           NaN           often                   114   \n",
       "\n",
       "  Frequency_of_Traveling_by_Air  Vehicle_Monthly_Distance_Km Waste_Bag_Size  \\\n",
       "0                    frequently                          210          large   \n",
       "1                        rarely                            9    extra large   \n",
       "\n",
       "   Waste_Bag_Weekly_Count  How_Long_TV_PC_Daily_Hour  \\\n",
       "0                       4                          7   \n",
       "1                       3                          9   \n",
       "\n",
       "   How_Many_New_Clothes_Monthly  How_Long_Internet_Daily_Hour  \\\n",
       "0                            26                             1   \n",
       "1                            38                             5   \n",
       "\n",
       "  Energy_efficiency  Glass  Metal  Plastic  Paper   Oven  Microwave  Grill  \\\n",
       "0                No  False      1        0      0   True          0      0   \n",
       "1                No  False      1        0      0  False          1      0   \n",
       "\n",
       "   Stove  \n",
       "0      1  \n",
       "1      1  "
      ]
     },
     "execution_count": 39,
     "metadata": {},
     "output_type": "execute_result"
    }
   ],
   "source": [
    "#make up new persons and predict their Carbon Emission\n",
    "X_pred = pd.DataFrame([\n",
    "  [\"overweight\",\"female\",\"pescatarian\",\"daily\",\"coal\",\"walk/bicycle\", np.nan,\"often\",230,\"frequently\",210,\"large\", 4,7,26,1,\"No\",False,1,0,0,True,0,0,1],\n",
    "  [\"obese\",\"female\",\"vegetarian\",\"less frequently\",\"natural gas\",\"walk/bicycle\", np.nan,\"often\",114,\"rarely\",9,\"extra large\",3,9,38,5,\"No\",False,1,0,0,False,1,0,1]  \n",
    "], columns=[ 'Body_Type', 'Gender', 'Diet', 'How_Often_Shower', 'Heating_Energy_Source',  'Transport', 'Vehicle_Type','Social_Activity','Monthly_Grocery_Bill',  'Frequency_of_Traveling_by_Air', 'Vehicle_Monthly_Distance_Km','Waste_Bag_Size','Waste_Bag_Weekly_Count', 'How_Long_TV_PC_Daily_Hour', 'How_Many_New_Clothes_Monthly', 'How_Long_Internet_Daily_Hour', 'Energy_efficiency','Glass', 'Metal', 'Plastic', 'Paper', 'Oven', 'Microwave', 'Grill', 'Stove'])\n",
    "\n",
    "y_pred = model.predict(preprocessor.transform(X_pred)).round(0)\n",
    "print(\"predicted CarbonEmission: \", y_pred)\n",
    "\n",
    "X_pred"
   ]
  },
  {
   "cell_type": "code",
   "execution_count": 40,
   "id": "1815b856",
   "metadata": {
    "execution": {
     "iopub.execute_input": "2025-02-04T23:53:08.111681Z",
     "iopub.status.busy": "2025-02-04T23:53:08.111291Z",
     "iopub.status.idle": "2025-02-04T23:53:08.146153Z",
     "shell.execute_reply": "2025-02-04T23:53:08.144794Z"
    },
    "papermill": {
     "duration": 0.070788,
     "end_time": "2025-02-04T23:53:08.148516",
     "exception": false,
     "start_time": "2025-02-04T23:53:08.077728",
     "status": "completed"
    },
    "tags": []
   },
   "outputs": [
    {
     "name": "stdout",
     "output_type": "stream",
     "text": [
      "predicted CarbonEmission of first 2 persons:  [2263. 1965.]\n",
      "actual CarbonEmission of first 2 persons:  [2238, 1892]\n"
     ]
    },
    {
     "name": "stderr",
     "output_type": "stream",
     "text": [
      "/opt/conda/lib/python3.10/site-packages/sklearn/base.py:439: UserWarning: X does not have valid feature names, but LinearRegression was fitted with feature names\n",
      "  warnings.warn(\n"
     ]
    },
    {
     "data": {
      "text/html": [
       "<div>\n",
       "<style scoped>\n",
       "    .dataframe tbody tr th:only-of-type {\n",
       "        vertical-align: middle;\n",
       "    }\n",
       "\n",
       "    .dataframe tbody tr th {\n",
       "        vertical-align: top;\n",
       "    }\n",
       "\n",
       "    .dataframe thead th {\n",
       "        text-align: right;\n",
       "    }\n",
       "</style>\n",
       "<table border=\"1\" class=\"dataframe\">\n",
       "  <thead>\n",
       "    <tr style=\"text-align: right;\">\n",
       "      <th></th>\n",
       "      <th>Body_Type</th>\n",
       "      <th>Gender</th>\n",
       "      <th>Diet</th>\n",
       "      <th>How_Often_Shower</th>\n",
       "      <th>Heating_Energy_Source</th>\n",
       "      <th>Transport</th>\n",
       "      <th>Vehicle_Type</th>\n",
       "      <th>Social_Activity</th>\n",
       "      <th>Monthly_Grocery_Bill</th>\n",
       "      <th>Frequency_of_Traveling_by_Air</th>\n",
       "      <th>Vehicle_Monthly_Distance_Km</th>\n",
       "      <th>Waste_Bag_Size</th>\n",
       "      <th>Waste_Bag_Weekly_Count</th>\n",
       "      <th>How_Long_TV_PC_Daily_Hour</th>\n",
       "      <th>How_Many_New_Clothes_Monthly</th>\n",
       "      <th>How_Long_Internet_Daily_Hour</th>\n",
       "      <th>Energy_efficiency</th>\n",
       "      <th>Glass</th>\n",
       "      <th>Metal</th>\n",
       "      <th>Paper</th>\n",
       "      <th>Plastic</th>\n",
       "      <th>Grill</th>\n",
       "      <th>Microwave</th>\n",
       "      <th>Oven</th>\n",
       "      <th>Stove</th>\n",
       "    </tr>\n",
       "  </thead>\n",
       "  <tbody>\n",
       "    <tr>\n",
       "      <th>0</th>\n",
       "      <td>overweight</td>\n",
       "      <td>female</td>\n",
       "      <td>pescatarian</td>\n",
       "      <td>daily</td>\n",
       "      <td>coal</td>\n",
       "      <td>public</td>\n",
       "      <td>NaN</td>\n",
       "      <td>often</td>\n",
       "      <td>230</td>\n",
       "      <td>frequently</td>\n",
       "      <td>210</td>\n",
       "      <td>large</td>\n",
       "      <td>4</td>\n",
       "      <td>7</td>\n",
       "      <td>26</td>\n",
       "      <td>1</td>\n",
       "      <td>No</td>\n",
       "      <td>0</td>\n",
       "      <td>1</td>\n",
       "      <td>0</td>\n",
       "      <td>0</td>\n",
       "      <td>0</td>\n",
       "      <td>0</td>\n",
       "      <td>1</td>\n",
       "      <td>1</td>\n",
       "    </tr>\n",
       "    <tr>\n",
       "      <th>1</th>\n",
       "      <td>obese</td>\n",
       "      <td>female</td>\n",
       "      <td>vegetarian</td>\n",
       "      <td>less frequently</td>\n",
       "      <td>natural gas</td>\n",
       "      <td>walk/bicycle</td>\n",
       "      <td>NaN</td>\n",
       "      <td>often</td>\n",
       "      <td>114</td>\n",
       "      <td>rarely</td>\n",
       "      <td>9</td>\n",
       "      <td>extra large</td>\n",
       "      <td>3</td>\n",
       "      <td>9</td>\n",
       "      <td>38</td>\n",
       "      <td>5</td>\n",
       "      <td>No</td>\n",
       "      <td>0</td>\n",
       "      <td>1</td>\n",
       "      <td>0</td>\n",
       "      <td>0</td>\n",
       "      <td>0</td>\n",
       "      <td>1</td>\n",
       "      <td>0</td>\n",
       "      <td>1</td>\n",
       "    </tr>\n",
       "  </tbody>\n",
       "</table>\n",
       "</div>"
      ],
      "text/plain": [
       "    Body_Type  Gender         Diet How_Often_Shower Heating_Energy_Source  \\\n",
       "0  overweight  female  pescatarian            daily                  coal   \n",
       "1       obese  female   vegetarian  less frequently           natural gas   \n",
       "\n",
       "      Transport Vehicle_Type Social_Activity  Monthly_Grocery_Bill  \\\n",
       "0        public          NaN           often                   230   \n",
       "1  walk/bicycle          NaN           often                   114   \n",
       "\n",
       "  Frequency_of_Traveling_by_Air  Vehicle_Monthly_Distance_Km Waste_Bag_Size  \\\n",
       "0                    frequently                          210          large   \n",
       "1                        rarely                            9    extra large   \n",
       "\n",
       "   Waste_Bag_Weekly_Count  How_Long_TV_PC_Daily_Hour  \\\n",
       "0                       4                          7   \n",
       "1                       3                          9   \n",
       "\n",
       "   How_Many_New_Clothes_Monthly  How_Long_Internet_Daily_Hour  \\\n",
       "0                            26                             1   \n",
       "1                            38                             5   \n",
       "\n",
       "  Energy_efficiency  Glass  Metal  Paper  Plastic  Grill  Microwave  Oven  \\\n",
       "0                No      0      1      0        0      0          0     1   \n",
       "1                No      0      1      0        0      0          1     0   \n",
       "\n",
       "   Stove  \n",
       "0      1  \n",
       "1      1  "
      ]
     },
     "execution_count": 40,
     "metadata": {},
     "output_type": "execute_result"
    }
   ],
   "source": [
    "#first 2 persons in df\n",
    "\n",
    "X_pred= df.loc[0:1, X.columns] \n",
    "y_pred = model.predict(preprocessor.transform(X_pred)).round(0)\n",
    "print(\"predicted CarbonEmission of first 2 persons: \", y_pred)\n",
    "\n",
    "y_true = list(df.loc[0:1, 'CarbonEmission'])\n",
    "print(\"actual CarbonEmission of first 2 persons: \", y_true)\n",
    "\n",
    "X_pred"
   ]
  },
  {
   "cell_type": "code",
   "execution_count": 41,
   "id": "1b8bca3a",
   "metadata": {
    "execution": {
     "iopub.execute_input": "2025-02-04T23:53:08.216266Z",
     "iopub.status.busy": "2025-02-04T23:53:08.215865Z",
     "iopub.status.idle": "2025-02-04T23:53:08.239127Z",
     "shell.execute_reply": "2025-02-04T23:53:08.235558Z"
    },
    "papermill": {
     "duration": 0.063097,
     "end_time": "2025-02-04T23:53:08.244709",
     "exception": false,
     "start_time": "2025-02-04T23:53:08.181612",
     "status": "completed"
    },
    "tags": []
   },
   "outputs": [
    {
     "data": {
      "text/html": [
       "<div>\n",
       "<style scoped>\n",
       "    .dataframe tbody tr th:only-of-type {\n",
       "        vertical-align: middle;\n",
       "    }\n",
       "\n",
       "    .dataframe tbody tr th {\n",
       "        vertical-align: top;\n",
       "    }\n",
       "\n",
       "    .dataframe thead th {\n",
       "        text-align: right;\n",
       "    }\n",
       "</style>\n",
       "<table border=\"1\" class=\"dataframe\">\n",
       "  <thead>\n",
       "    <tr style=\"text-align: right;\">\n",
       "      <th></th>\n",
       "      <th>Ground Truth</th>\n",
       "      <th>Predicted</th>\n",
       "      <th>Residuals</th>\n",
       "    </tr>\n",
       "  </thead>\n",
       "  <tbody>\n",
       "    <tr>\n",
       "      <th>395</th>\n",
       "      <td>2106</td>\n",
       "      <td>2077.0</td>\n",
       "      <td>29.0</td>\n",
       "    </tr>\n",
       "    <tr>\n",
       "      <th>4630</th>\n",
       "      <td>1803</td>\n",
       "      <td>2073.0</td>\n",
       "      <td>270.0</td>\n",
       "    </tr>\n",
       "    <tr>\n",
       "      <th>453</th>\n",
       "      <td>1795</td>\n",
       "      <td>1694.0</td>\n",
       "      <td>101.0</td>\n",
       "    </tr>\n",
       "    <tr>\n",
       "      <th>4844</th>\n",
       "      <td>2134</td>\n",
       "      <td>2340.0</td>\n",
       "      <td>206.0</td>\n",
       "    </tr>\n",
       "    <tr>\n",
       "      <th>7197</th>\n",
       "      <td>2598</td>\n",
       "      <td>2650.0</td>\n",
       "      <td>52.0</td>\n",
       "    </tr>\n",
       "    <tr>\n",
       "      <th>...</th>\n",
       "      <td>...</td>\n",
       "      <td>...</td>\n",
       "      <td>...</td>\n",
       "    </tr>\n",
       "    <tr>\n",
       "      <th>5731</th>\n",
       "      <td>4350</td>\n",
       "      <td>4585.0</td>\n",
       "      <td>235.0</td>\n",
       "    </tr>\n",
       "    <tr>\n",
       "      <th>7341</th>\n",
       "      <td>2387</td>\n",
       "      <td>2320.0</td>\n",
       "      <td>67.0</td>\n",
       "    </tr>\n",
       "    <tr>\n",
       "      <th>4565</th>\n",
       "      <td>1935</td>\n",
       "      <td>2149.0</td>\n",
       "      <td>214.0</td>\n",
       "    </tr>\n",
       "    <tr>\n",
       "      <th>5894</th>\n",
       "      <td>1458</td>\n",
       "      <td>1314.0</td>\n",
       "      <td>144.0</td>\n",
       "    </tr>\n",
       "    <tr>\n",
       "      <th>6550</th>\n",
       "      <td>2372</td>\n",
       "      <td>2224.0</td>\n",
       "      <td>148.0</td>\n",
       "    </tr>\n",
       "  </tbody>\n",
       "</table>\n",
       "<p>1000 rows × 3 columns</p>\n",
       "</div>"
      ],
      "text/plain": [
       "      Ground Truth  Predicted  Residuals\n",
       "395           2106     2077.0       29.0\n",
       "4630          1803     2073.0      270.0\n",
       "453           1795     1694.0      101.0\n",
       "4844          2134     2340.0      206.0\n",
       "7197          2598     2650.0       52.0\n",
       "...            ...        ...        ...\n",
       "5731          4350     4585.0      235.0\n",
       "7341          2387     2320.0       67.0\n",
       "4565          1935     2149.0      214.0\n",
       "5894          1458     1314.0      144.0\n",
       "6550          2372     2224.0      148.0\n",
       "\n",
       "[1000 rows x 3 columns]"
      ]
     },
     "execution_count": 41,
     "metadata": {},
     "output_type": "execute_result"
    }
   ],
   "source": [
    "#Predictions based on test data X_test\n",
    "y_pred = model.predict(X_test)\n",
    "\n",
    "results_df = pd.DataFrame(data = {\n",
    "    'Ground Truth': y_test, \n",
    "    'Predicted': y_pred.round(0), \n",
    "    'Residuals': np.abs(y_test - y_pred).round(0)\n",
    "})\n",
    "\n",
    "#Show Actual Values & Predicted Values\n",
    "results_df"
   ]
  },
  {
   "cell_type": "markdown",
   "id": "2da67303",
   "metadata": {
    "papermill": {
     "duration": 0.043376,
     "end_time": "2025-02-04T23:53:08.368952",
     "exception": false,
     "start_time": "2025-02-04T23:53:08.325576",
     "status": "completed"
    },
    "tags": []
   },
   "source": [
    "# 5️⃣ Assumptions of Linear Regression"
   ]
  },
  {
   "cell_type": "markdown",
   "id": "783c860e",
   "metadata": {
    "papermill": {
     "duration": 0.03247,
     "end_time": "2025-02-04T23:53:08.434066",
     "exception": false,
     "start_time": "2025-02-04T23:53:08.401596",
     "status": "completed"
    },
    "tags": []
   },
   "source": [
    "## 1. Linearity\n",
    "\n",
    "Linearity (Linearität):\n",
    "   $Y_i = \\beta_0 + \\beta_1X_{i1} + \\beta_2X_{i2} + ... + \\beta_pX_{ip} + \\varepsilon_i$\n",
    "   \n",
    "   Wobei $Y_i$ die abhängige Variable, $X_{ij}$ die unabhängigen Variablen, $\\beta_j$ die Koeffizienten und $\\varepsilon_i$ der Fehlerterm sind.\n",
    "\n",
    "We can check linearity by plotting the residuals against the predicted values. If the relationship is linear, we should see a random scatter of points."
   ]
  },
  {
   "cell_type": "code",
   "execution_count": 42,
   "id": "0c4c6413",
   "metadata": {
    "execution": {
     "iopub.execute_input": "2025-02-04T23:53:08.500715Z",
     "iopub.status.busy": "2025-02-04T23:53:08.500352Z",
     "iopub.status.idle": "2025-02-04T23:53:08.935938Z",
     "shell.execute_reply": "2025-02-04T23:53:08.934844Z"
    },
    "papermill": {
     "duration": 0.471871,
     "end_time": "2025-02-04T23:53:08.938680",
     "exception": false,
     "start_time": "2025-02-04T23:53:08.466809",
     "status": "completed"
    },
    "tags": []
   },
   "outputs": [
    {
     "data": {
      "image/png": "[encoded data removed]",
      "text/plain": [
       "<Figure size 1000x600 with 1 Axes>"
      ]
     },
     "metadata": {},
     "output_type": "display_data"
    }
   ],
   "source": [
    "import matplotlib.pyplot as plt\n",
    "import seaborn as sns\n",
    "from scipy import stats\n",
    "\n",
    "# Predict values\n",
    "y_pred = model.predict(X_test)\n",
    "residuals = y_test - y_pred\n",
    "\n",
    "plt.figure(figsize=(10, 6))\n",
    "plt.scatter(y_pred, residuals)\n",
    "plt.xlabel('Predicted Values')\n",
    "plt.ylabel('Residuals')\n",
    "plt.title('Residuals vs Predicted Values')\n",
    "plt.axhline(y=0, color='r', linestyle='--')\n",
    "plt.show()"
   ]
  },
  {
   "cell_type": "markdown",
   "id": "a168593d",
   "metadata": {
    "papermill": {
     "duration": 0.034017,
     "end_time": "2025-02-04T23:53:09.009001",
     "exception": false,
     "start_time": "2025-02-04T23:53:08.974984",
     "status": "completed"
    },
    "tags": []
   },
   "source": [
    "#### **Interpretation**:\n",
    "\n",
    "> The U-shaped pattern observed in this plot suggests a nonlinear relationship between our predictors and the target variable (carbon emissions). This indicates that our linear regression model may not be capturing some important nonlinear aspects of the data. Specifically:\n",
    "> \n",
    "> 1. Systematic bias: The U-shape implies that our model tends to overestimate carbon emissions for both low and high predicted values, while underestimating for middle-range predictions.\n",
    "> \n",
    "> 2. Violation of linearity assumption: This pattern is a clear indication that the linearity assumption of our regression model is violated.  \n",
    "> \n",
    "> 3. Model limitations: Our current linear model is not flexible enough to capture the true underlying relationship in the data. This could lead to less accurate predictions, especially at the extremes of our data range.\n",
    "> \n",
    "> 4. Potential improvements: To address this, we might consider:\n",
    ">      - Exploring other non-linear regression models (e.g., Random Forests, Gradient Boosting Machines).\n",
    ">      - Transforming some of our variables (e.g., log transformation) to linearize the relationship."
   ]
  },
  {
   "cell_type": "markdown",
   "id": "bb263b42",
   "metadata": {
    "papermill": {
     "duration": 0.034244,
     "end_time": "2025-02-04T23:53:09.078522",
     "exception": false,
     "start_time": "2025-02-04T23:53:09.044278",
     "status": "completed"
    },
    "tags": []
   },
   "source": [
    "## 2. Independence\n",
    "\n",
    "Independence (Unabhängigkeit):\n",
    "   $Cov(\\varepsilon_i, \\varepsilon_j) = 0$ for all $i \\neq j$\n",
    "   \n",
    "   Die Fehlerterme $\\varepsilon_i$ und $\\varepsilon_j$ sind unkorreliert für alle unterschiedlichen Beobachtungen $i$ und $j$."
   ]
  },
  {
   "cell_type": "markdown",
   "id": "4a7e0d23",
   "metadata": {
    "papermill": {
     "duration": 0.034102,
     "end_time": "2025-02-04T23:53:09.148596",
     "exception": false,
     "start_time": "2025-02-04T23:53:09.114494",
     "status": "completed"
    },
    "tags": []
   },
   "source": [
    "## 3. Homoscedasticity\n",
    "\n",
    "Homoscedasticity (Homoskedastizität):\n",
    "   $Var(\\varepsilon_i) = \\sigma^2$ for all $i$\n",
    "   \n",
    "Die Varianz der Fehlerterme $\\varepsilon_i$ ist konstant für alle Beobachtungen."
   ]
  },
  {
   "cell_type": "markdown",
   "id": "859bf1e7",
   "metadata": {
    "papermill": {
     "duration": 0.035233,
     "end_time": "2025-02-04T23:53:09.217846",
     "exception": false,
     "start_time": "2025-02-04T23:53:09.182613",
     "status": "completed"
    },
    "tags": []
   },
   "source": [
    "## 4. Normality of Residuals\n",
    "\n",
    "Normality (Normalität):\n",
    "   $\\varepsilon_i \\sim N(0, \\sigma^2)$\n",
    "   \n",
    "   Die Fehlerterme $\\varepsilon_i$ sind normalverteilt mit Mittelwert 0 und konstanter Varianz $\\sigma^2$.\n",
    "\n",
    "If the residuals are normally distributed, the points in the Q-Q plot should approximately lie on a straight diagonal line."
   ]
  },
  {
   "cell_type": "code",
   "execution_count": 43,
   "id": "7991c87c",
   "metadata": {
    "execution": {
     "iopub.execute_input": "2025-02-04T23:53:09.291037Z",
     "iopub.status.busy": "2025-02-04T23:53:09.290652Z",
     "iopub.status.idle": "2025-02-04T23:53:09.641851Z",
     "shell.execute_reply": "2025-02-04T23:53:09.640588Z"
    },
    "papermill": {
     "duration": 0.390383,
     "end_time": "2025-02-04T23:53:09.643997",
     "exception": false,
     "start_time": "2025-02-04T23:53:09.253614",
     "status": "completed"
    },
    "tags": []
   },
   "outputs": [
    {
     "data": {
      "image/png": "[encoded data removed]",
      "text/plain": [
       "<Figure size 600x400 with 1 Axes>"
      ]
     },
     "metadata": {},
     "output_type": "display_data"
    }
   ],
   "source": [
    "# QQ Plot\n",
    "from scipy import stats\n",
    "\n",
    "y_pred = model.predict(X_test)\n",
    "residuals = y_test.values - y_pred\n",
    "\n",
    "plt.figure(figsize=(6, 4))\n",
    "stats.probplot(residuals, dist=\"norm\", plot=plt)\n",
    "plt.title('QQ-Plot of Residuals')\n",
    "plt.show()"
   ]
  },
  {
   "cell_type": "markdown",
   "id": "702af79d",
   "metadata": {
    "papermill": {
     "duration": 0.039394,
     "end_time": "2025-02-04T23:53:09.721184",
     "exception": false,
     "start_time": "2025-02-04T23:53:09.681790",
     "status": "completed"
    },
    "tags": []
   },
   "source": [
    "> #### Interpretation:\n",
    ">  If the points closely follow the diagonal line, it suggests that the residuals are approximately normally distributed. Significant deviations from the line may indicate non-normality.\n",
    ">\n",
    "> 1. Central Distribution: Between the quantiles -2 and 2, our residuals closely follow the diagonal line. This suggests that for the majority of our data, the residuals are approximately normally distributed, which is a positive sign for our model.\n",
    ">\n",
    "> 2. Left Tail (below -2): The line falls below the diagonal, indicating that our model produces more extreme negative residuals than expected in a perfectly normal distribution. This suggests that for some lower predictions, our model is overestimating carbon emissions more than expected.\n",
    ">\n",
    "> 3. Right Tail (above 2): The line rises above the diagonal, showing that our model also produces more extreme positive residuals than a normal distribution would predict. This implies that for some higher predictions, our model is underestimating carbon emissions more than expected.\n",
    ">"
   ]
  },
  {
   "cell_type": "markdown",
   "id": "f2a9b6b3",
   "metadata": {
    "papermill": {
     "duration": 0.03737,
     "end_time": "2025-02-04T23:53:09.796378",
     "exception": false,
     "start_time": "2025-02-04T23:53:09.759008",
     "status": "completed"
    },
    "tags": []
   },
   "source": [
    "***I always appreciate Feedback because I want to improve. Feel free to add any of your thoughts below. Thank you!***"
   ]
  },
  {
   "cell_type": "markdown",
   "id": "4e0ff72a",
   "metadata": {
    "papermill": {
     "duration": 0.037871,
     "end_time": "2025-02-04T23:53:09.871585",
     "exception": false,
     "start_time": "2025-02-04T23:53:09.833714",
     "status": "completed"
    },
    "tags": []
   },
   "source": [
    "<div style=\"background-color: darkblue; padding: 20px; border-radius: 10px; margin: 20px auto; max-width: 800px;\">\n",
    "    <center>\n",
    "        <div style=\"background-color: #ecf0f1; padding: 20px; border-radius: 10px;\">\n",
    "            <b style=\"font-size: 24px; color: darkblue;\">💡🙏 &nbsp; ENJOYED THIS? GIVE IT A UPVOTE! &nbsp; 👍💙</b>\n",
    "            <div style=\"margin-top: 20px; font-size: 18px; color: #34495e;\">\n",
    "                🚀✨ If you found this notebook helpful or interesting, feel free to drop an upvote! 🎯 <br> Your support keeps me motivated to create more valuable content. 💪😄\n",
    "                <br><br>\n",
    "                👉 <a href=\"https://www.kaggle.com/code/eprossinger/linear-regression-with-columntransformer\" style=\"font-size: 18px; font-weight: bold;\">Click here to see my notebook and upvote!</a> 👈\n",
    "            </div>\n",
    "        </div>\n",
    "    </center>\n",
    "</div>"
   ]
  }
 ],
 "metadata": {
  "kaggle": {
   "accelerator": "none",
   "dataSources": [
    {
     "datasetId": 4442032,
     "sourceId": 7625051,
     "sourceType": "datasetVersion"
    }
   ],
   "dockerImageVersionId": 30746,
   "isGpuEnabled": false,
   "isInternetEnabled": true,
   "language": "python",
   "sourceType": "notebook"
  },
  "kernelspec": {
   "display_name": "Python 3",
   "language": "python",
   "name": "python3"
  },
  "language_info": {
   "codemirror_mode": {
    "name": "ipython",
    "version": 3
   },
   "file_extension": ".py",
   "mimetype": "text/x-python",
   "name": "python",
   "nbconvert_exporter": "python",
   "pygments_lexer": "ipython3",
   "version": "3.10.13"
  },
  "papermill": {
   "default_parameters": {},
   "duration": 17.699588,
   "end_time": "2025-02-04T23:53:10.631423",
   "environment_variables": {},
   "exception": null,
   "input_path": "__notebook__.ipynb",
   "output_path": "__notebook__.ipynb",
   "parameters": {},
   "start_time": "2025-02-04T23:52:52.931835",
   "version": "2.5.0"
  }
 },
 "nbformat": 4,
 "nbformat_minor": 5
}
